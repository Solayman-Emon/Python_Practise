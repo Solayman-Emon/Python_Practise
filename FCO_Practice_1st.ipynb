{
  "nbformat": 4,
  "nbformat_minor": 0,
  "metadata": {
    "colab": {
      "name": "FCO_Practice_1st.ipynb",
      "provenance": [],
      "collapsed_sections": [],
      "authorship_tag": "ABX9TyPLP7mnJEzzEyeI7aTgcV8j",
      "include_colab_link": true
    },
    "kernelspec": {
      "name": "python3",
      "display_name": "Python 3"
    }
  },
  "cells": [
    {
      "cell_type": "markdown",
      "metadata": {
        "id": "view-in-github",
        "colab_type": "text"
      },
      "source": [
        "<a href=\"https://colab.research.google.com/github/Solayman-Emon/Python_Practise/blob/master/FCO_Practice_1st.ipynb\" target=\"_parent\"><img src=\"https://colab.research.google.com/assets/colab-badge.svg\" alt=\"Open In Colab\"/></a>"
      ]
    },
    {
      "cell_type": "markdown",
      "metadata": {
        "id": "re4UW5enL9ln",
        "colab_type": "text"
      },
      "source": [
        "**Python Keywords**\n",
        "---\n",
        "\n",
        "---\n",
        "\n",
        "Keywords are the reserved words in Python.\n",
        "Keyword's name can't be used as a variable name, function name or any other identifiers. Keywords are case sensitive."
      ]
    },
    {
      "cell_type": "code",
      "metadata": {
        "id": "UjD8OUVOI9J_",
        "colab_type": "code",
        "outputId": "4a4321d1-a0bd-495b-e732-cfc137d64e15",
        "colab": {
          "base_uri": "https://localhost:8080/",
          "height": 87
        }
      },
      "source": [
        "# Keywords in Python\n",
        "\n",
        "import keyword   # Here \"keyword\" is a module\n",
        "print(keyword.kwlist)\n",
        "print('\\nThe total number of keyword: ', len(keyword.kwlist))"
      ],
      "execution_count": 0,
      "outputs": [
        {
          "output_type": "stream",
          "text": [
            "['False', 'None', 'True', 'and', 'as', 'assert', 'break', 'class', 'continue', 'def', 'del', 'elif', 'else', 'except', 'finally', 'for', 'from', 'global', 'if', 'import', 'in', 'is', 'lambda', 'nonlocal', 'not', 'or', 'pass', 'raise', 'return', 'try', 'while', 'with', 'yield']\n",
            "\n",
            "The total number of keyword:  33\n"
          ],
          "name": "stdout"
        }
      ]
    },
    {
      "cell_type": "markdown",
      "metadata": {
        "id": "eASOMxZpQToU",
        "colab_type": "text"
      },
      "source": [
        "**Identifiers**\n",
        "---\n",
        "\n",
        "---\n",
        "\n",
        "Identifier is the name given to entities like variable, function, class in Python. \n",
        "\n",
        "---\n",
        "\n",
        "Rules for writing identifies:::\n",
        "1. Identifiers can be combination of lowercase (a - z) or uppercase (A - Z) letters or digits (0 - 9) or an underscore (_). \n",
        "2. An identifier can not start with a digit.\n",
        "3. Keywords can not be used as identifiers.\n",
        "4. Special symbols such as ! @ # $ % can not be used in identifier"
      ]
    },
    {
      "cell_type": "code",
      "metadata": {
        "id": "TSlbL3myQXjR",
        "colab_type": "code",
        "outputId": "6211509c-202d-4235-f6d4-41d4e8114708",
        "colab": {
          "base_uri": "https://localhost:8080/",
          "height": 128
        }
      },
      "source": [
        "12_abc = 12  # Identifiers can't start with digits"
      ],
      "execution_count": 0,
      "outputs": [
        {
          "output_type": "error",
          "ename": "SyntaxError",
          "evalue": "ignored",
          "traceback": [
            "\u001b[0;36m  File \u001b[0;32m\"<ipython-input-4-64c4e951a8d6>\"\u001b[0;36m, line \u001b[0;32m1\u001b[0m\n\u001b[0;31m    12_abc = 12\u001b[0m\n\u001b[0m      ^\u001b[0m\n\u001b[0;31mSyntaxError\u001b[0m\u001b[0;31m:\u001b[0m invalid token\n"
          ]
        }
      ]
    },
    {
      "cell_type": "code",
      "metadata": {
        "id": "wB32Q6v9UiFB",
        "colab_type": "code",
        "outputId": "98dde272-62e6-4a66-a225-01ace1b8c551",
        "colab": {
          "base_uri": "https://localhost:8080/",
          "height": 128
        }
      },
      "source": [
        "ab@ = 3  # Can not be used special symbols (@ # ! $ %) in identifiers"
      ],
      "execution_count": 0,
      "outputs": [
        {
          "output_type": "error",
          "ename": "SyntaxError",
          "evalue": "ignored",
          "traceback": [
            "\u001b[0;36m  File \u001b[0;32m\"<ipython-input-5-3c81a4b89466>\"\u001b[0;36m, line \u001b[0;32m1\u001b[0m\n\u001b[0;31m    ab@ = 3\u001b[0m\n\u001b[0m        ^\u001b[0m\n\u001b[0;31mSyntaxError\u001b[0m\u001b[0;31m:\u001b[0m invalid syntax\n"
          ]
        }
      ]
    },
    {
      "cell_type": "markdown",
      "metadata": {
        "id": "ZK_GwVCR4HY1",
        "colab_type": "text"
      },
      "source": [
        "**Comments in Python**\n",
        "---\n",
        "\n",
        "---"
      ]
    },
    {
      "cell_type": "code",
      "metadata": {
        "id": "FuiebROh4m93",
        "colab_type": "code",
        "outputId": "fad300a8-5bda-49ef-a016-a7bf3e62b9ad",
        "colab": {
          "base_uri": "https://localhost:8080/",
          "height": 34
        }
      },
      "source": [
        "print('Hello Python') # This is a single line comment"
      ],
      "execution_count": 0,
      "outputs": [
        {
          "output_type": "stream",
          "text": [
            "Hello Python\n"
          ],
          "name": "stdout"
        }
      ]
    },
    {
      "cell_type": "markdown",
      "metadata": {
        "id": "GZ5vAMve9VPC",
        "colab_type": "text"
      },
      "source": [
        "**Variables**\n",
        "---\n",
        "\n",
        "---"
      ]
    },
    {
      "cell_type": "code",
      "metadata": {
        "id": "QFnmmF_g9ZfO",
        "colab_type": "code",
        "colab": {}
      },
      "source": [
        "# Variable Assignment\n",
        "\n",
        "x = 12\n",
        "y = 1.1\n",
        "z = 'ML'"
      ],
      "execution_count": 0,
      "outputs": []
    },
    {
      "cell_type": "code",
      "metadata": {
        "id": "PQKoNhNI_Npd",
        "colab_type": "code",
        "outputId": "78513386-4087-4717-9241-439d653ab5c8",
        "colab": {
          "base_uri": "https://localhost:8080/",
          "height": 50
        }
      },
      "source": [
        "# Multiple Assignment\n",
        "\n",
        "x, y, z = 12, 1.1, 'ML'\n",
        "print(y)\n",
        "print(z)"
      ],
      "execution_count": 0,
      "outputs": [
        {
          "output_type": "stream",
          "text": [
            "1.1\n",
            "ML\n"
          ],
          "name": "stdout"
        }
      ]
    },
    {
      "cell_type": "code",
      "metadata": {
        "id": "yz_k9rBk_e7L",
        "colab_type": "code",
        "outputId": "68675cb4-c77e-4329-9da6-e5cb075e6590",
        "colab": {
          "base_uri": "https://localhost:8080/",
          "height": 50
        }
      },
      "source": [
        "# Variable's Storage Location\n",
        "\n",
        "x = 3\n",
        "print(id(x))  # print the address of the variable x's location\n",
        "\n",
        "y = 3 \n",
        "print(id(x))  # print the address of the variable y's location"
      ],
      "execution_count": 0,
      "outputs": [
        {
          "output_type": "stream",
          "text": [
            "10914560\n",
            "10914560\n"
          ],
          "name": "stdout"
        }
      ]
    },
    {
      "cell_type": "code",
      "metadata": {
        "id": "fE-i92emGBgZ",
        "colab_type": "code",
        "outputId": "0f59239e-e7be-4988-cafe-60387d70f443",
        "colab": {
          "base_uri": "https://localhost:8080/",
          "height": 84
        }
      },
      "source": [
        "# type of variables\n",
        "\n",
        "x = 13.2\n",
        "print(x, 'is type of', type(x))\n",
        "\n",
        "y = 'This is a string'\n",
        "print(y, 'is type of ', type(y))\n",
        "\n",
        "z = True\n",
        "print(z, 'is type of', type(z))\n",
        "\n",
        "tp_x = isinstance(x, float)\n",
        "if(tp_x == True):\n",
        "  print(x, 'type is Float')"
      ],
      "execution_count": 0,
      "outputs": [
        {
          "output_type": "stream",
          "text": [
            "13.2 is type of <class 'float'>\n",
            "This is a string is type of  <class 'str'>\n",
            "True is type of <class 'bool'>\n",
            "13.2 type is Float\n"
          ],
          "name": "stdout"
        }
      ]
    },
    {
      "cell_type": "markdown",
      "metadata": {
        "id": "wyFy_e6b2-cX",
        "colab_type": "text"
      },
      "source": [
        "**Python String**\n",
        "---\n",
        "\n",
        "---\n",
        "Python String is a sequence of Unicode Characters, not ASCCI.\n"
      ]
    },
    {
      "cell_type": "code",
      "metadata": {
        "id": "KoqvnC5_3Nz5",
        "colab_type": "code",
        "outputId": "b1eefdea-653c-4558-e229-16072bd1c115",
        "colab": {
          "base_uri": "https://localhost:8080/",
          "height": 67
        }
      },
      "source": [
        "name = 'Solayman Hossain'\n",
        "print(name)\n",
        "print(type(name))\n",
        "\n",
        "bangla = 'সোলায়মান হোসেন'\n",
        "print(bangla)"
      ],
      "execution_count": 0,
      "outputs": [
        {
          "output_type": "stream",
          "text": [
            "Solayman Hossain\n",
            "<class 'str'>\n",
            "সোলায়মান হোসেন\n"
          ],
          "name": "stdout"
        }
      ]
    },
    {
      "cell_type": "code",
      "metadata": {
        "id": "Zb4PO7n53vjh",
        "colab_type": "code",
        "outputId": "268a0bf2-54fc-487a-ccbd-74c7fc46b8d3",
        "colab": {
          "base_uri": "https://localhost:8080/",
          "height": 67
        }
      },
      "source": [
        "st = ''' This is multiple \n",
        "          line string '''    # Multiple line String\n",
        "\n",
        "print(st)\n",
        "print(type(st))          "
      ],
      "execution_count": 0,
      "outputs": [
        {
          "output_type": "stream",
          "text": [
            " This is multiple \n",
            "          line string \n",
            "<class 'str'>\n"
          ],
          "name": "stdout"
        }
      ]
    },
    {
      "cell_type": "code",
      "metadata": {
        "id": "ihJGgwww4xjs",
        "colab_type": "code",
        "outputId": "943a3211-fe5d-4c87-da82-9de46bb357a5",
        "colab": {
          "base_uri": "https://localhost:8080/",
          "height": 151
        }
      },
      "source": [
        "s = '''This is\n",
        "        multiple'''\n",
        "\n",
        "\n",
        "print(s[-1])         # print the last character of the string\n",
        "print(s[len(s)-1])   # print the last character of the string \n",
        "print(s[0])          # print the first character of the string\n",
        "print(type(s))      \n",
        "\n",
        "# String Slicing\n",
        "\n",
        "print(s[5 : ])       # print from index 5 to ends\n",
        "print(s[5 : 8])      # print from index 5 to 7"
      ],
      "execution_count": 0,
      "outputs": [
        {
          "output_type": "stream",
          "text": [
            "e\n",
            "e\n",
            "T\n",
            "<class 'str'>\n",
            "is\n",
            "        multiple\n",
            "is\n",
            "\n"
          ],
          "name": "stdout"
        }
      ]
    },
    {
      "cell_type": "markdown",
      "metadata": {
        "id": "W1BmRXyZ-n8x",
        "colab_type": "text"
      },
      "source": [
        "**Python List**\n",
        "---\n",
        "---"
      ]
    },
    {
      "cell_type": "code",
      "metadata": {
        "id": "liuPIsy5-nLU",
        "colab_type": "code",
        "outputId": "33848204-d3aa-40ec-fa4c-780fe77921f2",
        "colab": {
          "base_uri": "https://localhost:8080/",
          "height": 67
        }
      },
      "source": [
        "lst = [12, 13.2, 'hello']\n",
        "print(lst)\n",
        "\n",
        "# python list are mutable, means the elements of the list can modify\n",
        "\n",
        "lst[1] = 14.2\n",
        "print(lst)\n",
        "\n",
        "print(type(lst))"
      ],
      "execution_count": 0,
      "outputs": [
        {
          "output_type": "stream",
          "text": [
            "[12, 13.2, 'hello']\n",
            "[12, 14.2, 'hello']\n",
            "<class 'list'>\n"
          ],
          "name": "stdout"
        }
      ]
    },
    {
      "cell_type": "markdown",
      "metadata": {
        "id": "wAYqRDzqAFkR",
        "colab_type": "text"
      },
      "source": [
        "**Python Tuple**\n",
        "---\n",
        "---"
      ]
    },
    {
      "cell_type": "code",
      "metadata": {
        "id": "arNbyuI7AKWZ",
        "colab_type": "code",
        "outputId": "acb13913-59c6-4647-c085-c4662622c142",
        "colab": {
          "base_uri": "https://localhost:8080/",
          "height": 50
        }
      },
      "source": [
        "tpl = (13, 23.4, 'ML')\n",
        "print(tpl)\n",
        "print(type(tpl))\n",
        "\n",
        "# Tuple is immutable, means the elements of the tuple can not be modified\n"
      ],
      "execution_count": 0,
      "outputs": [
        {
          "output_type": "stream",
          "text": [
            "(13, 23.4, 'ML')\n",
            "<class 'tuple'>\n"
          ],
          "name": "stdout"
        }
      ]
    },
    {
      "cell_type": "code",
      "metadata": {
        "id": "qQz5Tk1oBhTu",
        "colab_type": "code",
        "outputId": "82c92a52-6b19-4718-ef7b-e0b7e42f3130",
        "colab": {
          "base_uri": "https://localhost:8080/",
          "height": 162
        }
      },
      "source": [
        "tpl[1] = 34.3"
      ],
      "execution_count": 0,
      "outputs": [
        {
          "output_type": "error",
          "ename": "TypeError",
          "evalue": "ignored",
          "traceback": [
            "\u001b[0;31m---------------------------------------------------------------------------\u001b[0m",
            "\u001b[0;31mTypeError\u001b[0m                                 Traceback (most recent call last)",
            "\u001b[0;32m<ipython-input-27-39906490dd0d>\u001b[0m in \u001b[0;36m<module>\u001b[0;34m()\u001b[0m\n\u001b[0;32m----> 1\u001b[0;31m \u001b[0mtpl\u001b[0m\u001b[0;34m[\u001b[0m\u001b[0;36m1\u001b[0m\u001b[0;34m]\u001b[0m \u001b[0;34m=\u001b[0m \u001b[0;36m34.3\u001b[0m\u001b[0;34m\u001b[0m\u001b[0;34m\u001b[0m\u001b[0m\n\u001b[0m",
            "\u001b[0;31mTypeError\u001b[0m: 'tuple' object does not support item assignment"
          ]
        }
      ]
    },
    {
      "cell_type": "markdown",
      "metadata": {
        "id": "HR_rYUgRBpQW",
        "colab_type": "text"
      },
      "source": [
        "**Python Set**\n",
        "---\n",
        "---"
      ]
    },
    {
      "cell_type": "code",
      "metadata": {
        "id": "E_tz8ANLBusu",
        "colab_type": "code",
        "outputId": "ffdcc493-6341-492d-e341-4fa75be0aa93",
        "colab": {
          "base_uri": "https://localhost:8080/",
          "height": 67
        }
      },
      "source": [
        "a = {1, 2, 23, 12}\n",
        "print(type(a))\n",
        "print(a)\n",
        "\n",
        "b = {1, 10, 10, 10, 12, 45}  # Set only consider unique value. Automatically won't consider the duplicate values.\n",
        "print(b)"
      ],
      "execution_count": 0,
      "outputs": [
        {
          "output_type": "stream",
          "text": [
            "<class 'set'>\n",
            "{1, 2, 12, 23}\n",
            "{1, 10, 12, 45}\n"
          ],
          "name": "stdout"
        }
      ]
    },
    {
      "cell_type": "code",
      "metadata": {
        "id": "8G8U-BcPFQ_I",
        "colab_type": "code",
        "outputId": "70679791-3bda-48cf-b28d-190eecaf851d",
        "colab": {
          "base_uri": "https://localhost:8080/",
          "height": 162
        }
      },
      "source": [
        "print(a[1])    # Set does not allow indexing, as it is the unoder collection of items"
      ],
      "execution_count": 0,
      "outputs": [
        {
          "output_type": "error",
          "ename": "TypeError",
          "evalue": "ignored",
          "traceback": [
            "\u001b[0;31m---------------------------------------------------------------------------\u001b[0m",
            "\u001b[0;31mTypeError\u001b[0m                                 Traceback (most recent call last)",
            "\u001b[0;32m<ipython-input-30-2376b62675e5>\u001b[0m in \u001b[0;36m<module>\u001b[0;34m()\u001b[0m\n\u001b[0;32m----> 1\u001b[0;31m \u001b[0mprint\u001b[0m\u001b[0;34m(\u001b[0m\u001b[0ma\u001b[0m\u001b[0;34m[\u001b[0m\u001b[0;36m1\u001b[0m\u001b[0;34m]\u001b[0m\u001b[0;34m)\u001b[0m    \u001b[0;31m# Set does not allow indexing, as it is the unoder collection of items\u001b[0m\u001b[0;34m\u001b[0m\u001b[0;34m\u001b[0m\u001b[0m\n\u001b[0m",
            "\u001b[0;31mTypeError\u001b[0m: 'set' object does not support indexing"
          ]
        }
      ]
    },
    {
      "cell_type": "markdown",
      "metadata": {
        "id": "yzPS1DNmFgjD",
        "colab_type": "text"
      },
      "source": [
        "**Python Dictionary**\n",
        "---\n",
        "---"
      ]
    },
    {
      "cell_type": "code",
      "metadata": {
        "id": "zM97M8SPGBpV",
        "colab_type": "code",
        "outputId": "337fce03-981c-4412-912e-ce9f61523f8e",
        "colab": {
          "base_uri": "https://localhost:8080/",
          "height": 34
        }
      },
      "source": [
        "d = {'a': \"apple\", 'b': \"banana\"}   # Dictionaries items are in form of key : value\n",
        "print(d['a'])"
      ],
      "execution_count": 0,
      "outputs": [
        {
          "output_type": "stream",
          "text": [
            "apple\n"
          ],
          "name": "stdout"
        }
      ]
    },
    {
      "cell_type": "markdown",
      "metadata": {
        "id": "L9sKp3lqHOA_",
        "colab_type": "text"
      },
      "source": [
        "**Conversion Between Data Types**\n",
        "---\n",
        "---"
      ]
    },
    {
      "cell_type": "code",
      "metadata": {
        "id": "U7ErMg8MHYMV",
        "colab_type": "code",
        "outputId": "bf28a0a5-e5e7-4efa-baaf-c15606f3aeac",
        "colab": {
          "base_uri": "https://localhost:8080/",
          "height": 34
        }
      },
      "source": [
        "float(10)"
      ],
      "execution_count": 0,
      "outputs": [
        {
          "output_type": "execute_result",
          "data": {
            "text/plain": [
              "10.0"
            ]
          },
          "metadata": {
            "tags": []
          },
          "execution_count": 34
        }
      ]
    },
    {
      "cell_type": "code",
      "metadata": {
        "id": "SU3bKwN_IJ8e",
        "colab_type": "code",
        "outputId": "2fb0a88c-7633-47e0-f5d8-dc28fc9e499a",
        "colab": {
          "base_uri": "https://localhost:8080/",
          "height": 34
        }
      },
      "source": [
        "int(10.5)"
      ],
      "execution_count": 0,
      "outputs": [
        {
          "output_type": "execute_result",
          "data": {
            "text/plain": [
              "10"
            ]
          },
          "metadata": {
            "tags": []
          },
          "execution_count": 35
        }
      ]
    },
    {
      "cell_type": "code",
      "metadata": {
        "id": "ObPg1VSYIL3M",
        "colab_type": "code",
        "outputId": "5b70db42-d4fa-4f87-aab2-b1dad20f7c22",
        "colab": {
          "base_uri": "https://localhost:8080/",
          "height": 34
        }
      },
      "source": [
        "str(20)"
      ],
      "execution_count": 0,
      "outputs": [
        {
          "output_type": "execute_result",
          "data": {
            "text/plain": [
              "'20'"
            ]
          },
          "metadata": {
            "tags": []
          },
          "execution_count": 36
        }
      ]
    },
    {
      "cell_type": "code",
      "metadata": {
        "id": "x0DGOtzkIYkN",
        "colab_type": "code",
        "outputId": "76ebc9de-6af5-46d1-9461-496f88f0e284",
        "colab": {
          "base_uri": "https://localhost:8080/",
          "height": 128
        }
      },
      "source": [
        "int(10p)"
      ],
      "execution_count": 0,
      "outputs": [
        {
          "output_type": "error",
          "ename": "SyntaxError",
          "evalue": "ignored",
          "traceback": [
            "\u001b[0;36m  File \u001b[0;32m\"<ipython-input-37-db65c32a4627>\"\u001b[0;36m, line \u001b[0;32m1\u001b[0m\n\u001b[0;31m    int(10p)\u001b[0m\n\u001b[0m          ^\u001b[0m\n\u001b[0;31mSyntaxError\u001b[0m\u001b[0;31m:\u001b[0m invalid syntax\n"
          ]
        }
      ]
    },
    {
      "cell_type": "code",
      "metadata": {
        "id": "L7nARIg9Ib9m",
        "colab_type": "code",
        "outputId": "c78b4964-76f7-4696-8111-347b8ac1d6ad",
        "colab": {
          "base_uri": "https://localhost:8080/",
          "height": 34
        }
      },
      "source": [
        "user = 'Emon'\n",
        "lines = 1000\n",
        "\n",
        "print('Congrats '+ user + ', you have wrote '+str(lines)+ ' lines codes')"
      ],
      "execution_count": 0,
      "outputs": [
        {
          "output_type": "stream",
          "text": [
            "Congrats Emon, you have wrote 1000 lines codes\n"
          ],
          "name": "stdout"
        }
      ]
    },
    {
      "cell_type": "code",
      "metadata": {
        "id": "ibf-IQ8cKRiv",
        "colab_type": "code",
        "outputId": "5b864680-a307-4551-bf7a-89dd572bb5ca",
        "colab": {
          "base_uri": "https://localhost:8080/",
          "height": 50
        }
      },
      "source": [
        "a = [2, 4, 5, 6]\n",
        "print(type(a))\n",
        "\n",
        "s = set(a)\n",
        "print(type(s))"
      ],
      "execution_count": 0,
      "outputs": [
        {
          "output_type": "stream",
          "text": [
            "<class 'list'>\n",
            "<class 'set'>\n"
          ],
          "name": "stdout"
        }
      ]
    },
    {
      "cell_type": "code",
      "metadata": {
        "id": "9aGmlcCDKl7O",
        "colab_type": "code",
        "outputId": "c052ac6c-c351-4b8d-9718-86dd8729f01c",
        "colab": {
          "base_uri": "https://localhost:8080/",
          "height": 34
        }
      },
      "source": [
        "# convert string to list \n",
        "\n",
        "list('hello')"
      ],
      "execution_count": 0,
      "outputs": [
        {
          "output_type": "execute_result",
          "data": {
            "text/plain": [
              "['h', 'e', 'l', 'l', 'o']"
            ]
          },
          "metadata": {
            "tags": []
          },
          "execution_count": 43
        }
      ]
    },
    {
      "cell_type": "markdown",
      "metadata": {
        "id": "V-mW4sAQPkxx",
        "colab_type": "text"
      },
      "source": [
        "**Python Input and Output**\n",
        "---\n",
        "---"
      ]
    },
    {
      "cell_type": "code",
      "metadata": {
        "id": "lZt99JT-Ppua",
        "colab_type": "code",
        "outputId": "461affd6-1341-4fcb-ee9f-74ef69aa3d93",
        "colab": {
          "base_uri": "https://localhost:8080/",
          "height": 50
        }
      },
      "source": [
        "a = 10\n",
        "print('The value of a is ', a)\n",
        "print('The value of a is ' + str(a))"
      ],
      "execution_count": 0,
      "outputs": [
        {
          "output_type": "stream",
          "text": [
            "The value of a is  10\n",
            "The value of a is 10\n"
          ],
          "name": "stdout"
        }
      ]
    },
    {
      "cell_type": "code",
      "metadata": {
        "id": "ST6NMu1DSA4-",
        "colab_type": "code",
        "outputId": "3104c47c-b7ca-4577-b6d6-bf7ce4f44fa2",
        "colab": {
          "base_uri": "https://localhost:8080/",
          "height": 34
        }
      },
      "source": [
        "a = 10\n",
        "b = 30\n",
        "\n",
        "print('The value of a is {} and the value of b is {}'.format(a, b))"
      ],
      "execution_count": 0,
      "outputs": [
        {
          "output_type": "stream",
          "text": [
            "The value of a is 10 and the value of b is 30\n"
          ],
          "name": "stdout"
        }
      ]
    },
    {
      "cell_type": "code",
      "metadata": {
        "id": "4bO1S7YtSyVe",
        "colab_type": "code",
        "outputId": "ba385ce6-29a9-4556-c53f-a07e6bdace41",
        "colab": {
          "base_uri": "https://localhost:8080/",
          "height": 34
        }
      },
      "source": [
        "# Specify Postion\n",
        "\n",
        "a = 10\n",
        "b = 30\n",
        "\n",
        "print('The value of b is {1} and the value of a is {0}'.format(a, b))    # (a, b) represent (0, 1) index"
      ],
      "execution_count": 0,
      "outputs": [
        {
          "output_type": "stream",
          "text": [
            "The value of b is 30 and the value of a is 10\n"
          ],
          "name": "stdout"
        }
      ]
    },
    {
      "cell_type": "code",
      "metadata": {
        "id": "BmF-QoLPTZCC",
        "colab_type": "code",
        "outputId": "86b48bca-ec0c-4145-e1c8-a9a7e886d288",
        "colab": {
          "base_uri": "https://localhost:8080/",
          "height": 34
        }
      },
      "source": [
        "print('Hello {name}, {greet}'.format(name = 'Emon', greet = 'Congrats'))"
      ],
      "execution_count": 0,
      "outputs": [
        {
          "output_type": "stream",
          "text": [
            "Hello Emon, Congrats\n"
          ],
          "name": "stdout"
        }
      ]
    },
    {
      "cell_type": "code",
      "metadata": {
        "id": "ZGv1OJDDU0lP",
        "colab_type": "code",
        "outputId": "ce0a863a-feaa-4570-d3da-448ebefd0e4e",
        "colab": {
          "base_uri": "https://localhost:8080/",
          "height": 34
        }
      },
      "source": [
        "print('The story of {0}, {1} and {other}'.format('Emon', 'Tushar', other = 'Sajid'))"
      ],
      "execution_count": 0,
      "outputs": [
        {
          "output_type": "stream",
          "text": [
            "The story of Emon, Tushar and Sajid\n"
          ],
          "name": "stdout"
        }
      ]
    },
    {
      "cell_type": "code",
      "metadata": {
        "id": "DdNTqcPKVLRY",
        "colab_type": "code",
        "outputId": "410776ba-c747-4e35-d1d0-707e853d06b0",
        "colab": {
          "base_uri": "https://localhost:8080/",
          "height": 50
        }
      },
      "source": [
        "num = input(\"Enter a number\")\n",
        "print(num)"
      ],
      "execution_count": 0,
      "outputs": [
        {
          "output_type": "stream",
          "text": [
            "Enter a number9\n",
            "9\n"
          ],
          "name": "stdout"
        }
      ]
    },
    {
      "cell_type": "markdown",
      "metadata": {
        "id": "d1HAXKafWd5b",
        "colab_type": "text"
      },
      "source": [
        "**Operators**\n",
        "---\n",
        "---\n",
        "Operators are the special symbols in python that carry out arithmetic or logical computation. The value that operator operates calld operand.\n",
        "\n",
        "\n",
        "---\n",
        "**Operator Type**\n",
        "1. Arithmetic Operators\n",
        "2. Comparison (Relational) Operators\n",
        "3. Logical (Boolean) Operators\n",
        "4. Bitwise Operators\n",
        "5. Assignment Operators\n",
        "6. Special Operators\n",
        "\n",
        "---"
      ]
    },
    {
      "cell_type": "code",
      "metadata": {
        "id": "uLZHO91wWhqR",
        "colab_type": "code",
        "outputId": "87565f4b-49e7-4cb4-b1a5-42bfcff1895e",
        "colab": {
          "base_uri": "https://localhost:8080/",
          "height": 151
        }
      },
      "source": [
        "# << Arithmetic Operators >>\n",
        "\n",
        "# Addition (+)\n",
        "# Subtraction (-)\n",
        "# Multiplication (*)\n",
        "# Division (/)\n",
        "# Floor Division (//)\n",
        "# Modulus (%)\n",
        "# Exponent (**)\n",
        "\n",
        "print(15 + 2)\n",
        "print(2 - 15)\n",
        "print(15 * 2)\n",
        "print(15 / 2)\n",
        "print(15 // 2)    # 7.5 closed and less than 7.5 integer is 7(Seven)\n",
        "print(15 % 2)\n",
        "print(2 ** 3)     # 2 ** 3 means 2^3\n",
        "print(-15 // 2)\n"
      ],
      "execution_count": 0,
      "outputs": [
        {
          "output_type": "stream",
          "text": [
            "17\n",
            "-13\n",
            "30\n",
            "7.5\n",
            "7\n",
            "1\n",
            "8\n",
            "-8\n"
          ],
          "name": "stdout"
        }
      ]
    },
    {
      "cell_type": "code",
      "metadata": {
        "id": "FTbspdQLpH5Z",
        "colab_type": "code",
        "outputId": "e82da5b3-cd0b-4c8e-d88c-937ae288bd15",
        "colab": {
          "base_uri": "https://localhost:8080/",
          "height": 50
        }
      },
      "source": [
        "# << Comparison (Relation) Operators >>\n",
        "# >, <, ==, !=, >=, <= are comparison operators\n",
        "\n",
        "a, b = 10, 20\n",
        "\n",
        "print(a < b)\n",
        "print(a > b)"
      ],
      "execution_count": 0,
      "outputs": [
        {
          "output_type": "stream",
          "text": [
            "True\n",
            "False\n"
          ],
          "name": "stdout"
        }
      ]
    },
    {
      "cell_type": "code",
      "metadata": {
        "id": "gsSvjCgRp7B2",
        "colab_type": "code",
        "outputId": "6d29ded7-4449-47de-9f7a-0df1a7956a57",
        "colab": {
          "base_uri": "https://localhost:8080/",
          "height": 84
        }
      },
      "source": [
        "# << Logical Operators >>\n",
        "# and, or and not are logical operators\n",
        "\n",
        "a, b = True, False\n",
        "\n",
        "print(a and b)\n",
        "print(a or b)\n",
        "print(not a)\n",
        "print(not b)"
      ],
      "execution_count": 0,
      "outputs": [
        {
          "output_type": "stream",
          "text": [
            "False\n",
            "True\n",
            "False\n",
            "True\n"
          ],
          "name": "stdout"
        }
      ]
    },
    {
      "cell_type": "code",
      "metadata": {
        "id": "HwloSOqIqjbs",
        "colab_type": "code",
        "outputId": "19928717-4efa-44aa-8829-9fc13bcb6dfe",
        "colab": {
          "base_uri": "https://localhost:8080/",
          "height": 34
        }
      },
      "source": [
        "# << Bitwise Operators >>\n",
        "# & | ~ ^ >> << are Bitwise Operators\n",
        "\n",
        "a, b = 10, 4\n",
        "\n",
        "print(a & b)"
      ],
      "execution_count": 0,
      "outputs": [
        {
          "output_type": "stream",
          "text": [
            "0\n"
          ],
          "name": "stdout"
        }
      ]
    },
    {
      "cell_type": "code",
      "metadata": {
        "id": "R9mnuo6UL-2A",
        "colab_type": "code",
        "outputId": "eb381c7e-37e1-4af9-fb86-66abdbe3a81c",
        "colab": {
          "base_uri": "https://localhost:8080/",
          "height": 101
        }
      },
      "source": [
        "# << Assignment Operators >>\n",
        "\n",
        "# = += -= *= /= %= //= **= &= |= ^= >>= <<=  are asssignment operators\n",
        "\n",
        "a = 10\n",
        "\n",
        "a += 10      # a += 10 --> a = a + 10\n",
        "print(a)\n",
        "\n",
        "a -= 10      # a -= 10 --> a = a - 10\n",
        "print(a)\n",
        "\n",
        "a *= 10      # a *= 10 --> a = a * 10\n",
        "print(a)\n",
        "\n",
        "a /= 10      # a /= 10 --> a = a / 10\n",
        "print(a)\n",
        "\n",
        "a //= 10      # a //= 10 --> a = a // 10\n",
        "print(a)"
      ],
      "execution_count": 0,
      "outputs": [
        {
          "output_type": "stream",
          "text": [
            "20\n",
            "10\n",
            "100\n",
            "10.0\n",
            "1.0\n"
          ],
          "name": "stdout"
        }
      ]
    },
    {
      "cell_type": "markdown",
      "metadata": {
        "id": "kaNwFFj3ONCm",
        "colab_type": "text"
      },
      "source": [
        "**Special Operators**\n",
        "---\n",
        "---\n",
        "**Identity Operators**\n",
        "\n",
        "---\n",
        "is and is not are the identity operators in Python"
      ]
    },
    {
      "cell_type": "code",
      "metadata": {
        "id": "3hwisdVNOfpz",
        "colab_type": "code",
        "outputId": "89990100-2d39-4b79-d7a3-8242dfc11bb1",
        "colab": {
          "base_uri": "https://localhost:8080/",
          "height": 50
        }
      },
      "source": [
        "a = 10 \n",
        "b = 10 \n",
        "\n",
        "print(a is b)\n",
        "print(a is not b)"
      ],
      "execution_count": 0,
      "outputs": [
        {
          "output_type": "stream",
          "text": [
            "True\n",
            "False\n"
          ],
          "name": "stdout"
        }
      ]
    },
    {
      "cell_type": "code",
      "metadata": {
        "id": "lP_j_eE2O4kZ",
        "colab_type": "code",
        "outputId": "40312631-89e7-4049-d613-36f1da942968",
        "colab": {
          "base_uri": "https://localhost:8080/",
          "height": 50
        }
      },
      "source": [
        "lst = [1, 3, 4]\n",
        "lst1 = [1, 3, 4]\n",
        "\n",
        "print(lst is lst1)       # complex variable like list are not refer the same location despite having same data\n",
        "print(lst is not lst1)"
      ],
      "execution_count": 0,
      "outputs": [
        {
          "output_type": "stream",
          "text": [
            "False\n",
            "True\n"
          ],
          "name": "stdout"
        }
      ]
    },
    {
      "cell_type": "markdown",
      "metadata": {
        "id": "d3nnR2jaPdPi",
        "colab_type": "text"
      },
      "source": [
        "**Membership Operators**\n",
        "\n",
        "---\n",
        "in and not in are the membership operators in Python\n",
        "\n",
        "---"
      ]
    },
    {
      "cell_type": "code",
      "metadata": {
        "id": "IJC0zEbIPhSp",
        "colab_type": "code",
        "outputId": "3c51d3dd-3acc-43c4-8057-7f0b7674915d",
        "colab": {
          "base_uri": "https://localhost:8080/",
          "height": 50
        }
      },
      "source": [
        "ls = [1, 3, 5, 6]\n",
        "\n",
        "print(3 in ls)\n",
        "print(3 not in ls)"
      ],
      "execution_count": 0,
      "outputs": [
        {
          "output_type": "stream",
          "text": [
            "True\n",
            "False\n"
          ],
          "name": "stdout"
        }
      ]
    },
    {
      "cell_type": "code",
      "metadata": {
        "id": "U-AhT5HqQa4A",
        "colab_type": "code",
        "outputId": "9a6997f3-622e-4fa2-e578-3f8c9aa35c7d",
        "colab": {
          "base_uri": "https://localhost:8080/",
          "height": 67
        }
      },
      "source": [
        "dd = {'a': 'am', 'p': 'pm'}\n",
        "\n",
        "print('a' in dd)\n",
        "print(a in dd)\n",
        "print(a not in dd)"
      ],
      "execution_count": 0,
      "outputs": [
        {
          "output_type": "stream",
          "text": [
            "True\n",
            "False\n",
            "True\n"
          ],
          "name": "stdout"
        }
      ]
    },
    {
      "cell_type": "markdown",
      "metadata": {
        "id": "5Uc5hXV3VQ3U",
        "colab_type": "text"
      },
      "source": [
        "**Flow Control Statement**\n",
        "---\n",
        "---\n",
        "**if...else Statement in Python**\n"
      ]
    },
    {
      "cell_type": "code",
      "metadata": {
        "id": "dhOlakoEVeM4",
        "colab_type": "code",
        "outputId": "c74726d5-eab0-4841-cf16-c0e6a6eac0fa",
        "colab": {
          "base_uri": "https://localhost:8080/",
          "height": 84
        }
      },
      "source": [
        "# 0, None and False are ---> False\n",
        "# expect 0, None and False everything like -1, 2233 are ---> True\n",
        "\n",
        "num = 10 \n",
        "\n",
        "if num < 10:\n",
        "  print('Number is less than ten')\n",
        "\n",
        "else: \n",
        "  print('Number is not less than ten')  \n",
        "\n",
        "if 0:\n",
        "  print('This will not be printed...')\n",
        "\n",
        "else:\n",
        "  print('This will be printed...')\n",
        "\n",
        "if None:\n",
        "  print('This will not be printed')\n",
        "\n",
        "else:\n",
        "  print('This will be printed')  \n",
        "\n",
        "if -3:\n",
        "  print('This will printed')\n",
        "\n",
        "else:\n",
        "  print('This will not be printed')\n"
      ],
      "execution_count": 0,
      "outputs": [
        {
          "output_type": "stream",
          "text": [
            "Number is not less than ten\n",
            "This will be printed...\n",
            "This will be printed\n",
            "This will printed\n"
          ],
          "name": "stdout"
        }
      ]
    },
    {
      "cell_type": "markdown",
      "metadata": {
        "id": "dZwpzd8jgQy9",
        "colab_type": "text"
      },
      "source": [
        "**if...elif...else Statement**\n",
        "---\n",
        "---"
      ]
    },
    {
      "cell_type": "code",
      "metadata": {
        "id": "GT4GL0VTgXLs",
        "colab_type": "code",
        "outputId": "f0d1f795-e5b6-4c00-89ff-c51f636a3a3f",
        "colab": {
          "base_uri": "https://localhost:8080/",
          "height": 34
        }
      },
      "source": [
        "num = 10.4\n",
        "\n",
        "if num > 0:\n",
        "  print('The number is positive')\n",
        "\n",
        "elif num == 0:\n",
        "  print('The number is zero')\n",
        "\n",
        "else:\n",
        "  print('The number is negative')    "
      ],
      "execution_count": 0,
      "outputs": [
        {
          "output_type": "stream",
          "text": [
            "The number is positive\n"
          ],
          "name": "stdout"
        }
      ]
    },
    {
      "cell_type": "markdown",
      "metadata": {
        "id": "qMRQ7Roeh_Yi",
        "colab_type": "text"
      },
      "source": [
        "**Nested if...else Statement**\n",
        "---\n",
        "---"
      ]
    },
    {
      "cell_type": "code",
      "metadata": {
        "id": "tA1JDxs4iEWC",
        "colab_type": "code",
        "colab": {}
      },
      "source": [
        ""
      ],
      "execution_count": 0,
      "outputs": []
    },
    {
      "cell_type": "markdown",
      "metadata": {
        "id": "a0KADnd6l-ZL",
        "colab_type": "text"
      },
      "source": [
        "**While Loop**\n",
        "---\n",
        "---"
      ]
    },
    {
      "cell_type": "code",
      "metadata": {
        "id": "wbpddaQumCjR",
        "colab_type": "code",
        "outputId": "08638456-8fd7-4d27-9f10-4bfee57e7356",
        "colab": {
          "base_uri": "https://localhost:8080/",
          "height": 50
        }
      },
      "source": [
        "lsst = [1, 2, 3, 4]\n",
        "\n",
        "product = 1\n",
        "index = 0\n",
        "\n",
        "while index < len(lsst):\n",
        "  product = product * lsst[index] \n",
        "  index += 1\n",
        "\n",
        "else:\n",
        "  print('There is no item left in the list')       # when conddition of the while is false, then execute the else part\n",
        "\n",
        "print('The production is {}' .format(product))  \n"
      ],
      "execution_count": 0,
      "outputs": [
        {
          "output_type": "stream",
          "text": [
            "There is no item left in the list\n",
            "The production is 24\n"
          ],
          "name": "stdout"
        }
      ]
    },
    {
      "cell_type": "code",
      "metadata": {
        "id": "kyqheYqkdAem",
        "colab_type": "code",
        "outputId": "33b076a0-ba8c-4cd9-8b17-1b6e1e0d39c5",
        "colab": {
          "base_uri": "https://localhost:8080/",
          "height": 50
        }
      },
      "source": [
        "n = int(input('Enter a number::'))\n",
        "i = 2\n",
        "isDivisible = False\n",
        "\n",
        "while i < n:\n",
        "  if n % i == 0:\n",
        "    isDivisible = True\n",
        "    print('{} is divided by {}'.format(n, i))\n",
        "  i += 1\n",
        "\n",
        "if isDivisible == True:\n",
        "  print('{} is not a prime number'.format(n))\n",
        "\n",
        "else:\n",
        "  print('{} is a prime number'.format(n))\n"
      ],
      "execution_count": 0,
      "outputs": [
        {
          "output_type": "stream",
          "text": [
            "Enter a number::7\n",
            "7 is a prime number\n"
          ],
          "name": "stdout"
        }
      ]
    },
    {
      "cell_type": "markdown",
      "metadata": {
        "id": "6vj9m5F1f04e",
        "colab_type": "text"
      },
      "source": [
        "**For Loop**\n",
        "---\n",
        "---"
      ]
    },
    {
      "cell_type": "code",
      "metadata": {
        "id": "gSTCs2PTf6rv",
        "colab_type": "code",
        "outputId": "9bd320e4-f183-4a9d-8e0d-035951d29d70",
        "colab": {
          "base_uri": "https://localhost:8080/",
          "height": 34
        }
      },
      "source": [
        "ls1 = [1, 2, 3, 4]\n",
        "\n",
        "product = 1\n",
        "\n",
        "# iterating over the list\n",
        "for element in ls1:\n",
        "  product *= element\n",
        "\n",
        "print('The production is {}'.format(product))  "
      ],
      "execution_count": 0,
      "outputs": [
        {
          "output_type": "stream",
          "text": [
            "The production is 24\n"
          ],
          "name": "stdout"
        }
      ]
    },
    {
      "cell_type": "code",
      "metadata": {
        "id": "8L0LwY6nnUhk",
        "colab_type": "code",
        "outputId": "bbf7cec7-5902-4813-cd00-8591da6e638b",
        "colab": {
          "base_uri": "https://localhost:8080/",
          "height": 185
        }
      },
      "source": [
        "# range(10), 10 means (0 to 9)\n",
        "\n",
        "for i in range(10):\n",
        "  print(i)"
      ],
      "execution_count": 0,
      "outputs": [
        {
          "output_type": "stream",
          "text": [
            "0\n",
            "1\n",
            "2\n",
            "3\n",
            "4\n",
            "5\n",
            "6\n",
            "7\n",
            "8\n",
            "9\n"
          ],
          "name": "stdout"
        }
      ]
    },
    {
      "cell_type": "code",
      "metadata": {
        "id": "H0RaFBcbtHyC",
        "colab_type": "code",
        "outputId": "fb01b885-4faa-4155-8051-ea245eb601fa",
        "colab": {
          "base_uri": "https://localhost:8080/",
          "height": 185
        }
      },
      "source": [
        "# range(start, end, step size)  \n",
        "\n",
        "for i in range(1, 20, 2):\n",
        "  print(i)"
      ],
      "execution_count": 0,
      "outputs": [
        {
          "output_type": "stream",
          "text": [
            "1\n",
            "3\n",
            "5\n",
            "7\n",
            "9\n",
            "11\n",
            "13\n",
            "15\n",
            "17\n",
            "19\n"
          ],
          "name": "stdout"
        }
      ]
    },
    {
      "cell_type": "code",
      "metadata": {
        "id": "PtXj8XGIuPk4",
        "colab_type": "code",
        "outputId": "9194b7b3-a943-46b2-f266-59094314d285",
        "colab": {
          "base_uri": "https://localhost:8080/",
          "height": 168
        }
      },
      "source": [
        "lst = ['Jamal', 'Kamal', 'Jaman']\n",
        "lst1 = ['Mitu', 'Jithu', 'Jeshmin']\n",
        "\n",
        "for i in range(len(lst)):\n",
        "  print(lst[i])\n",
        "\n",
        "else:\n",
        "  print('No item are left in the list ')  \n",
        "\n",
        "print('<<< ------- >>>')  \n",
        "\n",
        "for element in lst:\n",
        "  print(element) \n",
        "\n",
        "else:\n",
        "  print('No item are left in the list')   "
      ],
      "execution_count": 0,
      "outputs": [
        {
          "output_type": "stream",
          "text": [
            "Jamal\n",
            "Kamal\n",
            "Jaman\n",
            "No item are left in the list \n",
            "<<< ------- >>>\n",
            "Jamal\n",
            "Kamal\n",
            "Jaman\n",
            "No item are left in the list\n"
          ],
          "name": "stdout"
        }
      ]
    },
    {
      "cell_type": "code",
      "metadata": {
        "id": "8mRAsXoL3i3i",
        "colab_type": "code",
        "outputId": "aad63568-3f5c-4756-aa00-df2c573f399e",
        "colab": {
          "base_uri": "https://localhost:8080/",
          "height": 235
        }
      },
      "source": [
        "# Finding prime numbers within an interval\n",
        "\n",
        "num = int(input('Enter the 1st number:: '))\n",
        "num1 = int(input('Enter the 2nd number:: '))\n",
        "\n",
        "for i in range(num, num1 + 1):\n",
        "\n",
        "  isDivisible = False\n",
        "\n",
        "  for j in range(2, i - 1):\n",
        "    if i % j == 0:\n",
        "      isDivisible = True\n",
        "\n",
        "  if not isDivisible:\n",
        "    print(i)    "
      ],
      "execution_count": 0,
      "outputs": [
        {
          "output_type": "stream",
          "text": [
            "Enter the 1st number:: 10\n",
            "Enter the 2nd number:: 50\n",
            "11\n",
            "13\n",
            "17\n",
            "19\n",
            "23\n",
            "29\n",
            "31\n",
            "37\n",
            "41\n",
            "43\n",
            "47\n"
          ],
          "name": "stdout"
        }
      ]
    },
    {
      "cell_type": "markdown",
      "metadata": {
        "id": "1kePOvXi8iYI",
        "colab_type": "text"
      },
      "source": [
        "**break and continue Statement**\n",
        "---\n",
        "\n",
        "---"
      ]
    },
    {
      "cell_type": "code",
      "metadata": {
        "id": "IxLZv_Ec8pij",
        "colab_type": "code",
        "outputId": "13a93d71-c950-4bbc-e2fd-297d57ef88fe",
        "colab": {
          "base_uri": "https://localhost:8080/",
          "height": 84
        }
      },
      "source": [
        "lst = [1, 2, 3, 4, 5]\n",
        "\n",
        "for i in lst:\n",
        "  if(i == 4):\n",
        "    break\n",
        "  print(i)\n",
        "\n",
        "else:\n",
        "  print('This will not be printed...')      # break will bring outside of the logical chunk of the loop including for, else part \n",
        "\n",
        "print('This will printed always')  "
      ],
      "execution_count": 0,
      "outputs": [
        {
          "output_type": "stream",
          "text": [
            "1\n",
            "2\n",
            "3\n",
            "This will printed always\n"
          ],
          "name": "stdout"
        }
      ]
    },
    {
      "cell_type": "code",
      "metadata": {
        "id": "CPiDG6G4CM1c",
        "colab_type": "code",
        "outputId": "d70d3e60-feb0-44a0-845e-e2fb0c562121",
        "colab": {
          "base_uri": "https://localhost:8080/",
          "height": 50
        }
      },
      "source": [
        "num = int(input('Enter a number :: '))\n",
        "\n",
        "i = 2\n",
        "isDivisible = False\n",
        "\n",
        "while i < num:\n",
        "  if num % i == 0:\n",
        "    isDivisible = True\n",
        "    break\n",
        "  i += 1  \n",
        "\n",
        "if isDivisible == True:\n",
        "   print('{} is not a prime number'.format(num))\n",
        "\n",
        "else:\n",
        "   print('{} is a prime number'.format(num))     "
      ],
      "execution_count": 0,
      "outputs": [
        {
          "output_type": "stream",
          "text": [
            "Enter a number :: 3\n",
            "3 is a prime number\n"
          ],
          "name": "stdout"
        }
      ]
    },
    {
      "cell_type": "code",
      "metadata": {
        "id": "0UqzzmqtGIkc",
        "colab_type": "code",
        "outputId": "10e9667b-5a81-4cc5-c73f-4223e3be5366",
        "colab": {
          "base_uri": "https://localhost:8080/",
          "height": 101
        }
      },
      "source": [
        "# printing the odd numbers\n",
        "\n",
        "lst = [1, 2, 3, 5, 6, 7]\n",
        "\n",
        "for i in lst:\n",
        "  if i % 2 == 0:\n",
        "    continue\n",
        "  print(i)\n",
        "\n",
        "else:\n",
        "  print('This is else block...')      "
      ],
      "execution_count": 0,
      "outputs": [
        {
          "output_type": "stream",
          "text": [
            "1\n",
            "3\n",
            "5\n",
            "7\n",
            "This is else block...\n"
          ],
          "name": "stdout"
        }
      ]
    }
  ]
}