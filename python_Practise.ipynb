{
  "nbformat": 4,
  "nbformat_minor": 0,
  "metadata": {
    "colab": {
      "name": "python_Practise.ipynb",
      "version": "0.3.2",
      "provenance": [],
      "collapsed_sections": [],
      "include_colab_link": true
    },
    "kernelspec": {
      "name": "python3",
      "display_name": "Python 3"
    }
  },
  "cells": [
    {
      "cell_type": "markdown",
      "metadata": {
        "id": "view-in-github",
        "colab_type": "text"
      },
      "source": [
        "<a href=\"https://colab.research.google.com/github/Solayman-Emon/Python_Practise/blob/master/python_Practise.ipynb\" target=\"_parent\"><img src=\"https://colab.research.google.com/assets/colab-badge.svg\" alt=\"Open In Colab\"/></a>"
      ]
    },
    {
      "metadata": {
        "id": "UULKk1Fx_Fqs",
        "colab_type": "code",
        "outputId": "03f6717e-6825-467b-8dae-3e7782b226f7",
        "colab": {
          "base_uri": "https://localhost:8080/",
          "height": 53
        }
      },
      "cell_type": "code",
      "source": [
        "print(\"Hello World !!!\")\n",
        "print('Hello World !!!')"
      ],
      "execution_count": 0,
      "outputs": [
        {
          "output_type": "stream",
          "text": [
            "Hello World !!!\n",
            "Hello World !!!\n"
          ],
          "name": "stdout"
        }
      ]
    },
    {
      "metadata": {
        "id": "odOZ3ROY_bMU",
        "colab_type": "code",
        "outputId": "6c99e38d-0ac4-4763-9700-456419c8322f",
        "colab": {
          "base_uri": "https://localhost:8080/",
          "height": 53
        }
      },
      "cell_type": "code",
      "source": [
        "my_Name = \"Solayman Hossain Emon\"\n",
        "print(\"My name is \", my_Name)\n",
        "num = 22\n",
        "print(\"My age is\", num)"
      ],
      "execution_count": 0,
      "outputs": [
        {
          "output_type": "stream",
          "text": [
            "My name is  Solayman Hossain Emon\n",
            "My age is 22\n"
          ],
          "name": "stdout"
        }
      ]
    },
    {
      "metadata": {
        "id": "ACFR0Xd8ASE8",
        "colab_type": "code",
        "colab": {}
      },
      "cell_type": "code",
      "source": [
        " # this is a comment\n"
      ],
      "execution_count": 0,
      "outputs": []
    },
    {
      "metadata": {
        "id": "RfCX_jlTA1-M",
        "colab_type": "code",
        "outputId": "8cf157f4-6a8f-4683-bbfc-03fc320090d6",
        "colab": {
          "base_uri": "https://localhost:8080/",
          "height": 35
        }
      },
      "cell_type": "code",
      "source": [
        "print(\"The sum of 2 + 3 is ::\", 2 + 3)"
      ],
      "execution_count": 0,
      "outputs": [
        {
          "output_type": "stream",
          "text": [
            "The sum of 2 + 3 is :: 5\n"
          ],
          "name": "stdout"
        }
      ]
    },
    {
      "metadata": {
        "id": "qkAuBoPQBEH0",
        "colab_type": "code",
        "outputId": "7c6f7091-08c8-44dd-b2ed-03b247ad695d",
        "colab": {
          "base_uri": "https://localhost:8080/",
          "height": 35
        }
      },
      "cell_type": "code",
      "source": [
        "print(\"The multiplication of 2 x 3 is ::\", 2 * 3)"
      ],
      "execution_count": 0,
      "outputs": [
        {
          "output_type": "stream",
          "text": [
            "The multiplication of 2 x 3 is :: 6\n"
          ],
          "name": "stdout"
        }
      ]
    },
    {
      "metadata": {
        "id": "25v17p7eBO6c",
        "colab_type": "code",
        "outputId": "9ff03353-caa2-4562-9588-f19509d5c45e",
        "colab": {
          "base_uri": "https://localhost:8080/",
          "height": 35
        }
      },
      "cell_type": "code",
      "source": [
        "print(\"The power of 2 to the power 3 is ::\", 2 ** 3) # 2 ** 3 means 2^3"
      ],
      "execution_count": 0,
      "outputs": [
        {
          "output_type": "stream",
          "text": [
            "The power of 2 to the power 3 is :: 8\n"
          ],
          "name": "stdout"
        }
      ]
    },
    {
      "metadata": {
        "id": "ShyuAkU5BWcs",
        "colab_type": "code",
        "outputId": "e52f52d9-061f-4f19-ebd8-9abb02159da7",
        "colab": {
          "base_uri": "https://localhost:8080/",
          "height": 35
        }
      },
      "cell_type": "code",
      "source": [
        "print(\"The output of 2/3 is ::\", 2 / 3)"
      ],
      "execution_count": 0,
      "outputs": [
        {
          "output_type": "stream",
          "text": [
            "The output of 2/3 is :: 0.6666666666666666\n"
          ],
          "name": "stdout"
        }
      ]
    },
    {
      "metadata": {
        "id": "nUhFQ0V1ChK0",
        "colab_type": "code",
        "outputId": "f05e4f90-1bc2-4b77-f771-8a1cab50b537",
        "colab": {
          "base_uri": "https://localhost:8080/",
          "height": 35
        }
      },
      "cell_type": "code",
      "source": [
        "Text = \"My name is \"  # String Concatenation\n",
        "my_Name = \"Solayman Hossain Emon\"\n",
        "print(Text + my_Name)"
      ],
      "execution_count": 0,
      "outputs": [
        {
          "output_type": "stream",
          "text": [
            "My name is Solayman Hossain Emon\n"
          ],
          "name": "stdout"
        }
      ]
    },
    {
      "metadata": {
        "id": "of_PpWy_DPH0",
        "colab_type": "code",
        "outputId": "f17e7070-69a0-41ca-c05a-b98449a43e58",
        "colab": {
          "base_uri": "https://localhost:8080/",
          "height": 35
        }
      },
      "cell_type": "code",
      "source": [
        "Text = \"Two and two makes : \"\n",
        "num = 2 + 2 \n",
        "result = str(num) # convert other's variable type to String type\n",
        "print (Text + result)"
      ],
      "execution_count": 0,
      "outputs": [
        {
          "output_type": "stream",
          "text": [
            "Two and two makes : 4\n"
          ],
          "name": "stdout"
        }
      ]
    },
    {
      "metadata": {
        "id": "gdfvy2QvDhsN",
        "colab_type": "code",
        "outputId": "0de06a04-d9bb-434a-c0fe-cf7515280dd5",
        "colab": {
          "base_uri": "https://localhost:8080/",
          "height": 35
        }
      },
      "cell_type": "code",
      "source": [
        "x , y = (3, 5)\n",
        "print(\"The x value is \", x , \"And\", \"The y value is \", y)"
      ],
      "execution_count": 0,
      "outputs": [
        {
          "output_type": "stream",
          "text": [
            "The x value is  3 And The y value is  5\n"
          ],
          "name": "stdout"
        }
      ]
    },
    {
      "metadata": {
        "id": "SetXBLILEoi0",
        "colab_type": "code",
        "outputId": "7a9505e3-7f13-45c4-8f44-dcd3b250c523",
        "colab": {
          "base_uri": "https://localhost:8080/",
          "height": 35
        }
      },
      "cell_type": "code",
      "source": [
        "x , y , z , u = (3, 6, 2, 4.2)\n",
        "print(u)"
      ],
      "execution_count": 0,
      "outputs": [
        {
          "output_type": "stream",
          "text": [
            "4.2\n"
          ],
          "name": "stdout"
        }
      ]
    },
    {
      "metadata": {
        "id": "yiYZrZcCFPGE",
        "colab_type": "code",
        "outputId": "9b03cbca-0276-4cf7-e93b-3d499a084507",
        "colab": {
          "base_uri": "https://localhost:8080/",
          "height": 35
        }
      },
      "cell_type": "code",
      "source": [
        "# If else statements\n",
        "age = 19         # indetension is must , otherwise get erro !!!\n",
        "\n",
        "if(age <= 13):\n",
        "  print(\"You are a kid\")\n",
        "  \n",
        "elif(age <= 18): \n",
        "  print(\"You are a teenager\")\n",
        "  \n",
        "else:\n",
        "  print(\"You are an adult\")\n",
        "  "
      ],
      "execution_count": 0,
      "outputs": [
        {
          "output_type": "stream",
          "text": [
            "You are an adult\n"
          ],
          "name": "stdout"
        }
      ]
    },
    {
      "metadata": {
        "id": "tMHIj7HjHdy8",
        "colab_type": "code",
        "outputId": "3b3b789c-e8bc-4381-8f6a-fd9d86ceae28",
        "colab": {
          "base_uri": "https://localhost:8080/",
          "height": 53
        }
      },
      "cell_type": "code",
      "source": [
        "a = 1\n",
        "a = 10\n",
        "print(a)\n",
        "a = 4;\n",
        "print(a)"
      ],
      "execution_count": 0,
      "outputs": [
        {
          "output_type": "stream",
          "text": [
            "10\n",
            "4\n"
          ],
          "name": "stdout"
        }
      ]
    },
    {
      "metadata": {
        "id": "-Y-qfQJbIFL8",
        "colab_type": "code",
        "outputId": "701a6298-0170-4584-b035-71dddc1b339e",
        "colab": {
          "base_uri": "https://localhost:8080/",
          "height": 126
        }
      },
      "cell_type": "code",
      "source": [
        "# while loop\n",
        "\n",
        "i = 0                      # i++ or i-- don't exist in python \n",
        "while i < 5 :\n",
        "  print(\"I am learning python...\")\n",
        "  i += 1;\n",
        "  \n",
        "print(\"Finished...\")  \n",
        "  "
      ],
      "execution_count": 0,
      "outputs": [
        {
          "output_type": "stream",
          "text": [
            "I am learning python...\n",
            "I am learning python...\n",
            "I am learning python...\n",
            "I am learning python...\n",
            "I am learning python...\n",
            "Finished...\n"
          ],
          "name": "stdout"
        }
      ]
    },
    {
      "metadata": {
        "id": "lbnJU-3nUXOs",
        "colab_type": "code",
        "outputId": "81a330da-2a45-4c1e-9462-4e17e016d668",
        "colab": {
          "base_uri": "https://localhost:8080/",
          "height": 144
        }
      },
      "cell_type": "code",
      "source": [
        "# list and for loop\n",
        "data = [2, 4, 5, 4, 32, 3.1] # it's a list \n",
        "print(\"The elements of the list are :\", data)\n",
        "\n",
        "for x in data :\n",
        "  print(x)"
      ],
      "execution_count": 0,
      "outputs": [
        {
          "output_type": "stream",
          "text": [
            "The elements of the list are : [2, 4, 5, 4, 32, 3.1]\n",
            "2\n",
            "4\n",
            "5\n",
            "4\n",
            "32\n",
            "3.1\n"
          ],
          "name": "stdout"
        }
      ]
    },
    {
      "metadata": {
        "id": "1sHodf08aJaU",
        "colab_type": "code",
        "outputId": "6fbf6a14-8300-4bf0-e01a-91534646648d",
        "colab": {
          "base_uri": "https://localhost:8080/",
          "height": 35
        }
      },
      "cell_type": "code",
      "source": [
        "# Function is python\n",
        "\n",
        "def Area(x, y, z) :\n",
        "  area = x * y * z\n",
        "  print(\"Area is :\", area)\n",
        "  \n",
        "length = 4\n",
        "width = 5\n",
        "height = 3\n",
        "Area(length, width, height)  "
      ],
      "execution_count": 0,
      "outputs": [
        {
          "output_type": "stream",
          "text": [
            "Area is : 60\n"
          ],
          "name": "stdout"
        }
      ]
    },
    {
      "metadata": {
        "id": "jvqEBtaEbQcM",
        "colab_type": "code",
        "outputId": "89e8854e-f7a7-49c9-aa1b-d79d3b46afcf",
        "colab": {
          "base_uri": "https://localhost:8080/",
          "height": 89
        }
      },
      "cell_type": "code",
      "source": [
        "# Default parameter in python function\n",
        "def SimpleFunction(num, num1 = 9) :   \n",
        "  print(num, \"and\", num1)\n",
        "  \n",
        "SimpleFunction(3)      # Default parameter is taken , as there is absence of one parameter\n",
        "SimpleFunction(3, 10)\n",
        "\n",
        "def Wish(name, wish = \"Happy Birthday to \") :\n",
        "  print(wish, name)\n",
        "  \n",
        "Wish(\"Emon\")    # Default parameter is taken , as there is absence of one parameter\n",
        "Wish(\"Emon\", \"Eid Mubarak\")\n",
        "  \n",
        "  "
      ],
      "execution_count": 0,
      "outputs": [
        {
          "output_type": "stream",
          "text": [
            "3 and 9\n",
            "3 and 10\n",
            "Happy Birthday to  Emon\n",
            "Eid Mubarak Emon\n"
          ],
          "name": "stdout"
        }
      ]
    },
    {
      "metadata": {
        "id": "QyVeGEiNfCpU",
        "colab_type": "code",
        "outputId": "8c2040f0-b450-413b-ebc0-599437e5573d",
        "colab": {
          "base_uri": "https://localhost:8080/",
          "height": 53
        }
      },
      "cell_type": "code",
      "source": [
        "# global variable \n",
        "var = 10\n",
        "\n",
        "def simpleFunction() :\n",
        "  # var += 1     # this line give an error , because the change of global variable inside a function is no permitted\n",
        "                 # Because when another function access the global variable it will get the updated value , so the \n",
        "                 # modification is not permitted...\n",
        "  loc = var + 1    \n",
        "  print(loc)\n",
        "  \n",
        "def simpleFunction1() :\n",
        "  print(var)\n",
        "  \n",
        "simpleFunction()\n",
        "simpleFunction1()"
      ],
      "execution_count": 0,
      "outputs": [
        {
          "output_type": "stream",
          "text": [
            "11\n",
            "10\n"
          ],
          "name": "stdout"
        }
      ]
    },
    {
      "metadata": {
        "id": "ya0IS2Z4iIak",
        "colab_type": "code",
        "outputId": "97018b99-cc8f-4dde-ab98-704ffd684432",
        "colab": {
          "base_uri": "https://localhost:8080/",
          "height": 71
        }
      },
      "cell_type": "code",
      "source": [
        "# object oriented python \n",
        "class user :\n",
        "  name = \"\"\n",
        "  email = \"\"\n",
        "  password = \"\"\n",
        "  login = False \n",
        "  \n",
        "  def login(self) :\n",
        "    email = input(\"Enter your E-mail\")\n",
        "    password = input(\"Enter your Password\")\n",
        "    \n",
        "    if email == self.email and password == self.password :\n",
        "      login = True \n",
        "      print(\"Login Success, Welcome !!!\")\n",
        "      \n",
        "    else :\n",
        "      print(\"Login Failed\")\n",
        "      \n",
        "user = user();\n",
        "user.name = \"Emon\"\n",
        "user.email = \"emonqt19@gmail.com\"\n",
        "user.password = \"1234\"\n",
        "user.login()\n"
      ],
      "execution_count": 0,
      "outputs": [
        {
          "output_type": "stream",
          "text": [
            "Enter your E-maildfd\n",
            "Enter your Passworddfdk\n",
            "Login Failed\n"
          ],
          "name": "stdout"
        }
      ]
    },
    {
      "metadata": {
        "id": "b489SX62miAk",
        "colab_type": "code",
        "outputId": "d8a31a8c-a570-447a-fa14-4f0ccf59d085",
        "colab": {
          "base_uri": "https://localhost:8080/",
          "height": 35
        }
      },
      "cell_type": "code",
      "source": [
        "# Constructor in python\n",
        "class demo :\n",
        "  def __init__(self) :\n",
        "    print(\"I am a Constructor\")\n",
        "\n",
        "demo = demo()    \n",
        "    \n",
        "    "
      ],
      "execution_count": 0,
      "outputs": [
        {
          "output_type": "stream",
          "text": [
            "I am a Constructor\n"
          ],
          "name": "stdout"
        }
      ]
    },
    {
      "metadata": {
        "id": "i2jQ5ul8nohE",
        "colab_type": "code",
        "outputId": "19fdb0d3-7cf6-43b2-c7b4-b9be6cf26174",
        "colab": {
          "base_uri": "https://localhost:8080/",
          "height": 53
        }
      },
      "cell_type": "code",
      "source": [
        "# list and touple \n",
        "list = [3, 2, 4, 3.2, 2.1, -2]   # list can be modified, but touple can not be modified\n",
        "truple = (2, 1, 2.2, -1, 7)\n",
        "list[0] = 1          # list is modified\n",
        "print(list)\n",
        "# truple[0] = 1      # truple can not be modified\n",
        "print(truple[2])"
      ],
      "execution_count": 0,
      "outputs": [
        {
          "output_type": "stream",
          "text": [
            "[1, 2, 4, 3.2, 2.1, -2]\n",
            "2.2\n"
          ],
          "name": "stdout"
        }
      ]
    },
    {
      "metadata": {
        "id": "mvYLzM53pBjr",
        "colab_type": "code",
        "outputId": "b008774c-525d-41b6-b10c-76e72abcf8e1",
        "colab": {
          "base_uri": "https://localhost:8080/",
          "height": 53
        }
      },
      "cell_type": "code",
      "source": [
        "# list access\n",
        "list = [2, 3, 1, -2, 2.3, 7]\n",
        "print(list[-1])   # print the 1st element from the end of the list\n",
        "print(list[-3])   # print the 3rd element from the end of the list"
      ],
      "execution_count": 0,
      "outputs": [
        {
          "output_type": "stream",
          "text": [
            "7\n",
            "-2\n"
          ],
          "name": "stdout"
        }
      ]
    },
    {
      "metadata": {
        "id": "clVP16Ssp3I8",
        "colab_type": "code",
        "outputId": "24456854-bcb2-4954-e304-6939241eff20",
        "colab": {
          "base_uri": "https://localhost:8080/",
          "height": 271
        }
      },
      "cell_type": "code",
      "source": [
        "# list , nested list\n",
        "list = [3, 2, -1, 2.3, 4, \"Hello\"]\n",
        "print(list)\n",
        "\n",
        "list1 = [[3, 4, \"junayed\"], 3, 2, \"emon\",3]\n",
        "print(list1[0])\n",
        "print(list1[0][2])\n",
        "\n",
        "list.append(33)  # add the element last in the list \n",
        "print(\"After append 33 the list is :\", list)\n",
        "list.insert(6,22) # first parameter is position\n",
        "print(\"After inserting value at postion 6 :\", list)\n",
        "list.insert(2, 90)\n",
        "print(list)\n",
        "list.extend([3, 2, 1])\n",
        "print(list)\n",
        "list = list + [1, 2]\n",
        "print(list)\n",
        "list.remove(1) # parameter is removed elemeent, not the index .. remove the element when get the first match\n",
        "print(list)\n",
        "list.remove(list[0]) # index wise removed\n",
        "list.remove(\"Hello\")\n",
        "print(list)\n",
        "list.pop() # remove the last element of the list, reverse of append() function\n",
        "print(list)\n",
        "list.sort()\n",
        "print(list)\n",
        "print(list.index(2))  # return the index number of the element\n",
        "print(list.count(2))"
      ],
      "execution_count": 0,
      "outputs": [
        {
          "output_type": "stream",
          "text": [
            "[3, 2, -1, 2.3, 4, 'Hello']\n",
            "[3, 4, 'junayed']\n",
            "junayed\n",
            "After append 33 the list is : [3, 2, -1, 2.3, 4, 'Hello', 33]\n",
            "After inserting value at postion 6 : [3, 2, -1, 2.3, 4, 'Hello', 22, 33]\n",
            "[3, 2, 90, -1, 2.3, 4, 'Hello', 22, 33]\n",
            "[3, 2, 90, -1, 2.3, 4, 'Hello', 22, 33, 3, 2, 1]\n",
            "[3, 2, 90, -1, 2.3, 4, 'Hello', 22, 33, 3, 2, 1, 1, 2]\n",
            "[3, 2, 90, -1, 2.3, 4, 'Hello', 22, 33, 3, 2, 1, 2]\n",
            "[2, 90, -1, 2.3, 4, 22, 33, 3, 2, 1, 2]\n",
            "[2, 90, -1, 2.3, 4, 22, 33, 3, 2, 1]\n",
            "[-1, 1, 2, 2, 2.3, 3, 4, 22, 33, 90]\n",
            "2\n",
            "2\n"
          ],
          "name": "stdout"
        }
      ]
    },
    {
      "metadata": {
        "id": "B2NBpgp9vsKM",
        "colab_type": "code",
        "outputId": "28b5fc59-3a4c-40ba-a311-511c94cde6c3",
        "colab": {
          "base_uri": "https://localhost:8080/",
          "height": 398
        }
      },
      "cell_type": "code",
      "source": [
        "# dictionary                          # access data from custom key\n",
        "dictionary = {\"name\" : \"Emon\", \n",
        "              \"id\" : \"16.01.04.091\",\n",
        "              \"year\" : \"3rd\"\n",
        "             }\n",
        "dictionary[\"name\"] = \"Solayman\"\n",
        "print(dictionary[\"name\"])\n",
        "print(dictionary.get(\"name\"))\n",
        "\n",
        "for x in dictionary :\n",
        "  print(x)\n",
        "  \n",
        "for x in dictionary :\n",
        "  print(dictionary[x])\n",
        "  \n",
        "for x in dictionary.values() :\n",
        "  print(x)\n",
        "  \n",
        "for x in dictionary.items() :\n",
        "  print(x)\n",
        "  \n",
        "for x, y in dictionary.items() :\n",
        "  print(x, y)\n",
        "  print(\"--\")\n",
        "  \n",
        "del dictionary[\"name\"]\n",
        "print(dictionary)"
      ],
      "execution_count": 0,
      "outputs": [
        {
          "output_type": "stream",
          "text": [
            "Solayman\n",
            "Solayman\n",
            "name\n",
            "id\n",
            "year\n",
            "Solayman\n",
            "16.01.04.091\n",
            "3rd\n",
            "Solayman\n",
            "16.01.04.091\n",
            "3rd\n",
            "('name', 'Solayman')\n",
            "('id', '16.01.04.091')\n",
            "('year', '3rd')\n",
            "name Solayman\n",
            "--\n",
            "id 16.01.04.091\n",
            "--\n",
            "year 3rd\n",
            "--\n",
            "{'id': '16.01.04.091', 'year': '3rd'}\n"
          ],
          "name": "stdout"
        }
      ]
    },
    {
      "metadata": {
        "id": "pTZ38ATn7zAc",
        "colab_type": "code",
        "outputId": "cb47cf63-c424-499d-eaee-c1301bd54e70",
        "colab": {
          "resources": {
            "http://localhost:8080/nbextensions/google.colab/files.js": {
              "data": "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",
              "ok": true,
              "headers": [
                [
                  "content-type",
                  "application/javascript"
                ]
              ],
              "status": 200,
              "status_text": ""
            }
          },
          "base_uri": "https://localhost:8080/",
          "height": 40
        }
      },
      "cell_type": "code",
      "source": [
        "from google.colab import files\n",
        "uploaded = files.upload()"
      ],
      "execution_count": 0,
      "outputs": [
        {
          "output_type": "display_data",
          "data": {
            "text/html": [
              "\n",
              "     <input type=\"file\" id=\"files-f3218fc0-e8cd-4e67-a0fe-49e470f1f31c\" name=\"files[]\" multiple disabled />\n",
              "     <output id=\"result-f3218fc0-e8cd-4e67-a0fe-49e470f1f31c\">\n",
              "      Upload widget is only available when the cell has been executed in the\n",
              "      current browser session. Please rerun this cell to enable.\n",
              "      </output>\n",
              "      <script src=\"/nbextensions/google.colab/files.js\"></script> "
            ],
            "text/plain": [
              "<IPython.core.display.HTML object>"
            ]
          },
          "metadata": {
            "tags": []
          }
        }
      ]
    },
    {
      "metadata": {
        "id": "fk9EtjhH8gGM",
        "colab_type": "code",
        "outputId": "c23236d9-71f4-4433-86de-16e2ba7dcfba",
        "colab": {
          "base_uri": "https://localhost:8080/",
          "height": 191
        }
      },
      "cell_type": "code",
      "source": [
        "sample_uploaded_data = json.load(open('emon.txt'))\n",
        "print(sample_uploaded_data)"
      ],
      "execution_count": 0,
      "outputs": [
        {
          "output_type": "error",
          "ename": "NameError",
          "evalue": "ignored",
          "traceback": [
            "\u001b[0;31m---------------------------------------------------------------------------\u001b[0m",
            "\u001b[0;31mNameError\u001b[0m                                 Traceback (most recent call last)",
            "\u001b[0;32m<ipython-input-165-6728cccc0042>\u001b[0m in \u001b[0;36m<module>\u001b[0;34m()\u001b[0m\n\u001b[0;32m----> 1\u001b[0;31m \u001b[0msample_uploaded_data\u001b[0m \u001b[0;34m=\u001b[0m \u001b[0mjson\u001b[0m\u001b[0;34m.\u001b[0m\u001b[0mload\u001b[0m\u001b[0;34m(\u001b[0m\u001b[0mopen\u001b[0m\u001b[0;34m(\u001b[0m\u001b[0;34m'emon.txt'\u001b[0m\u001b[0;34m)\u001b[0m\u001b[0;34m)\u001b[0m\u001b[0;34m\u001b[0m\u001b[0;34m\u001b[0m\u001b[0m\n\u001b[0m\u001b[1;32m      2\u001b[0m \u001b[0mprint\u001b[0m\u001b[0;34m(\u001b[0m\u001b[0msample_uploaded_data\u001b[0m\u001b[0;34m)\u001b[0m\u001b[0;34m\u001b[0m\u001b[0;34m\u001b[0m\u001b[0m\n",
            "\u001b[0;31mNameError\u001b[0m: name 'json' is not defined"
          ]
        }
      ]
    }
  ]
}