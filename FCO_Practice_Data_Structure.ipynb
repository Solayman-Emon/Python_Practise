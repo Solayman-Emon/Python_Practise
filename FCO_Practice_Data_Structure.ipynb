{
  "nbformat": 4,
  "nbformat_minor": 0,
  "metadata": {
    "colab": {
      "name": "FCO_Practice_Data_Structure.ipynb",
      "provenance": [],
      "collapsed_sections": [],
      "authorship_tag": "ABX9TyNrWjVUhW1iHg7UziEBtuQW",
      "include_colab_link": true
    },
    "kernelspec": {
      "name": "python3",
      "display_name": "Python 3"
    }
  },
  "cells": [
    {
      "cell_type": "markdown",
      "metadata": {
        "id": "view-in-github",
        "colab_type": "text"
      },
      "source": [
        "<a href=\"https://colab.research.google.com/github/Solayman-Emon/Python_Practise/blob/master/FCO_Practice_Data_Structure.ipynb\" target=\"_parent\"><img src=\"https://colab.research.google.com/assets/colab-badge.svg\" alt=\"Open In Colab\"/></a>"
      ]
    },
    {
      "cell_type": "markdown",
      "metadata": {
        "id": "rClnIQrCppSX",
        "colab_type": "text"
      },
      "source": [
        "**Data structures in Python**\n",
        "---\n",
        "---"
      ]
    },
    {
      "cell_type": "markdown",
      "metadata": {
        "id": "k9r-0aSboWvC",
        "colab_type": "text"
      },
      "source": [
        "**Lists**\n",
        "---\n",
        "List is a sequence data structure. List are mutable"
      ]
    },
    {
      "cell_type": "code",
      "metadata": {
        "id": "pX24ahvxg57l",
        "colab_type": "code",
        "outputId": "df99e86b-8e4f-4999-b6d1-c81a3fc7123e",
        "colab": {
          "base_uri": "https://localhost:8080/",
          "height": 67
        }
      },
      "source": [
        "emptyList = []\n",
        "\n",
        "lst = ['one', 'two', 'three', 'four']   # list of strings\n",
        "lst1 = [1, 32, 9, 3]                    # list of integers\n",
        "lst2 = [1, 'rm', 3.2]                   # list of different data types\n",
        "\n",
        "lst3 = [[1,2], [4, 2]]                  # list of lists\n",
        "\n",
        "print(lst)\n",
        "print(lst1)\n",
        "print(type(lst3))"
      ],
      "execution_count": 0,
      "outputs": [
        {
          "output_type": "stream",
          "text": [
            "['one', 'two', 'three', 'four']\n",
            "[1, 32, 9, 3]\n",
            "<class 'list'>\n"
          ],
          "name": "stdout"
        }
      ]
    },
    {
      "cell_type": "markdown",
      "metadata": {
        "id": "fF8ao5DdqxbP",
        "colab_type": "text"
      },
      "source": [
        "**Length of the List**"
      ]
    },
    {
      "cell_type": "code",
      "metadata": {
        "id": "Nb8ZHObwqmcf",
        "colab_type": "code",
        "outputId": "5b47766d-dd51-4f28-b966-5ffcf2e9aaf2",
        "colab": {
          "base_uri": "https://localhost:8080/",
          "height": 84
        }
      },
      "source": [
        "print(len(lst))\n",
        "\n",
        "print(len(lst1))\n",
        "\n",
        "print(len(lst2))\n",
        "\n",
        "print(len(lst3))"
      ],
      "execution_count": 0,
      "outputs": [
        {
          "output_type": "stream",
          "text": [
            "4\n",
            "4\n",
            "3\n",
            "2\n"
          ],
          "name": "stdout"
        }
      ]
    },
    {
      "cell_type": "markdown",
      "metadata": {
        "id": "czXBstWArLXn",
        "colab_type": "text"
      },
      "source": [
        "**List Append**"
      ]
    },
    {
      "cell_type": "code",
      "metadata": {
        "id": "malTAIbxrPmc",
        "colab_type": "code",
        "outputId": "136a4be5-72ac-478f-eb56-130d0172b3af",
        "colab": {
          "base_uri": "https://localhost:8080/",
          "height": 34
        }
      },
      "source": [
        "# Syntax: lst.append(x)\n",
        "# append will add the item x in the end of the list\n",
        "\n",
        "lst.append('six')    \n",
        "print(lst)"
      ],
      "execution_count": 0,
      "outputs": [
        {
          "output_type": "stream",
          "text": [
            "['one', 'two', 'three', 'four', 'five', 'five', 'six']\n"
          ],
          "name": "stdout"
        }
      ]
    },
    {
      "cell_type": "markdown",
      "metadata": {
        "id": "ElLTH6gFt6ns",
        "colab_type": "text"
      },
      "source": [
        "**List Insert**"
      ]
    },
    {
      "cell_type": "code",
      "metadata": {
        "id": "x4tJA1Tbr-kM",
        "colab_type": "code",
        "outputId": "28bab970-37a6-49aa-f49f-6977315d07a8",
        "colab": {
          "base_uri": "https://localhost:8080/",
          "height": 34
        }
      },
      "source": [
        "# Syntax: lst.insert(x, y)\n",
        "# add element y at location x\n",
        "\n",
        "lst.insert(5, 'six')\n",
        "lst.insert(6, 'seven')     # The previous elements of that position will shifted, not deleted\n",
        "\n",
        "print(lst)"
      ],
      "execution_count": 0,
      "outputs": [
        {
          "output_type": "stream",
          "text": [
            "['one', 'two', 'three', 'four', 'five', 'six', 'seven', 'five', 'six']\n"
          ],
          "name": "stdout"
        }
      ]
    },
    {
      "cell_type": "markdown",
      "metadata": {
        "id": "5d_PtL5wtcSu",
        "colab_type": "text"
      },
      "source": [
        "**List Remove**"
      ]
    },
    {
      "cell_type": "code",
      "metadata": {
        "id": "Jtjzv9r9t3yj",
        "colab_type": "code",
        "outputId": "c182a9c1-8812-4982-8113-0080f1fbce82",
        "colab": {
          "base_uri": "https://localhost:8080/",
          "height": 34
        }
      },
      "source": [
        "# Syntax: lst.remove(x)\n",
        "# the first occurence of element x will be removed from the list\n",
        "\n",
        "lst.remove('five')\n",
        "print(lst)"
      ],
      "execution_count": 0,
      "outputs": [
        {
          "output_type": "stream",
          "text": [
            "['one', 'two', 'three', 'four', 'six', 'seven', 'five', 'six']\n"
          ],
          "name": "stdout"
        }
      ]
    },
    {
      "cell_type": "markdown",
      "metadata": {
        "id": "m9fI4tv91QSw",
        "colab_type": "text"
      },
      "source": [
        "**List Append and Extend**"
      ]
    },
    {
      "cell_type": "code",
      "metadata": {
        "id": "AJoKbQmh1XBB",
        "colab_type": "code",
        "outputId": "9cd8a23a-6c99-4213-c7fd-10393b0bf18b",
        "colab": {
          "base_uri": "https://localhost:8080/",
          "height": 34
        }
      },
      "source": [
        "lst = [1, 2, 3, 4]\n",
        "lst1 = [5, 6, 7]\n",
        "\n",
        "lst.append(lst1)\n",
        "print(lst)"
      ],
      "execution_count": 0,
      "outputs": [
        {
          "output_type": "stream",
          "text": [
            "[1, 2, 3, 4, [5, 6, 7]]\n"
          ],
          "name": "stdout"
        }
      ]
    },
    {
      "cell_type": "code",
      "metadata": {
        "id": "QNSH0Pgf1yHa",
        "colab_type": "code",
        "outputId": "0ee5a87f-e978-4297-e61c-7b9389f055b9",
        "colab": {
          "base_uri": "https://localhost:8080/",
          "height": 34
        }
      },
      "source": [
        "lst = [1, 2, 3, 4]\n",
        "lst1 = [5, 6, 7]\n",
        "\n",
        "lst.extend(lst1)\n",
        "print(lst)"
      ],
      "execution_count": 0,
      "outputs": [
        {
          "output_type": "stream",
          "text": [
            "[1, 2, 3, 4, 5, 6, 7]\n"
          ],
          "name": "stdout"
        }
      ]
    },
    {
      "cell_type": "markdown",
      "metadata": {
        "id": "pGGpApP76YXb",
        "colab_type": "text"
      },
      "source": [
        "**List Delete**"
      ]
    },
    {
      "cell_type": "code",
      "metadata": {
        "id": "zCKH1hHp6gTo",
        "colab_type": "code",
        "outputId": "ccfa118e-5825-485d-e72a-64deacbe68ef",
        "colab": {
          "base_uri": "https://localhost:8080/",
          "height": 67
        }
      },
      "source": [
        "# Syntax: del lst[x]\n",
        "# remove item based on the location x\n",
        "\n",
        "lst = ['one', 'two', 'three', 'four', 'five']\n",
        "del lst[1]\n",
        "print(lst)\n",
        "\n",
        "# we can use pop(x) function to remove the item. pop() function also return the removed item.\n",
        "\n",
        "pop_item = lst.pop(1)\n",
        "print(pop_item)\n",
        "print(lst)"
      ],
      "execution_count": 0,
      "outputs": [
        {
          "output_type": "stream",
          "text": [
            "['one', 'three', 'four', 'five']\n",
            "three\n",
            "['one', 'four', 'five']\n"
          ],
          "name": "stdout"
        }
      ]
    },
    {
      "cell_type": "markdown",
      "metadata": {
        "id": "zZyDBf3p_VtJ",
        "colab_type": "text"
      },
      "source": [
        "**in and not in keyword**"
      ]
    },
    {
      "cell_type": "code",
      "metadata": {
        "id": "WTspEZ5e_cd_",
        "colab_type": "code",
        "outputId": "16b0212a-92df-4746-f180-cdb27ac75aef",
        "colab": {
          "base_uri": "https://localhost:8080/",
          "height": 50
        }
      },
      "source": [
        "# in and not in keyword is used for testing if an element is in list or not\n",
        "\n",
        "lst = ['one', 'two', 'three', 'four', 'five']\n",
        "\n",
        "if 'two' in lst:\n",
        "  print('paichi...')\n",
        "\n",
        "if 'six' not in lst:\n",
        "  print('Done...')  "
      ],
      "execution_count": 0,
      "outputs": [
        {
          "output_type": "stream",
          "text": [
            "paichi...\n",
            "Done...\n"
          ],
          "name": "stdout"
        }
      ]
    },
    {
      "cell_type": "markdown",
      "metadata": {
        "id": "ppfNIStYCfFX",
        "colab_type": "text"
      },
      "source": [
        "**List Reverse**"
      ]
    },
    {
      "cell_type": "code",
      "metadata": {
        "id": "LgMh7siDCiRe",
        "colab_type": "code",
        "outputId": "6e06c013-1746-4951-9943-d8036b8418c4",
        "colab": {
          "base_uri": "https://localhost:8080/",
          "height": 34
        }
      },
      "source": [
        "lst = [1, 56.6, 34, -12, 4]\n",
        "lst.reverse()\n",
        "print(lst)"
      ],
      "execution_count": 0,
      "outputs": [
        {
          "output_type": "stream",
          "text": [
            "[4, -12, 34, 56.6, 1]\n"
          ],
          "name": "stdout"
        }
      ]
    },
    {
      "cell_type": "markdown",
      "metadata": {
        "id": "pOzpc7uUBzDY",
        "colab_type": "text"
      },
      "source": [
        "**List Sort**"
      ]
    },
    {
      "cell_type": "code",
      "metadata": {
        "id": "rJG_TzF-B1vF",
        "colab_type": "code",
        "outputId": "033fd307-dbfe-4ced-c405-923d78743d58",
        "colab": {
          "base_uri": "https://localhost:8080/",
          "height": 34
        }
      },
      "source": [
        "# sort() function will sort the list and stored in itself\n",
        "\n",
        "lst = [1, 56.6, 34, -12, 4]\n",
        "lst.sort()\n",
        "print(lst)"
      ],
      "execution_count": 0,
      "outputs": [
        {
          "output_type": "stream",
          "text": [
            "[-12, 1, 4, 34, 56.6]\n"
          ],
          "name": "stdout"
        }
      ]
    },
    {
      "cell_type": "code",
      "metadata": {
        "id": "Jh1sPfP4Cayd",
        "colab_type": "code",
        "outputId": "604e5a11-d16e-413f-b4cf-f1b594eceaeb",
        "colab": {
          "base_uri": "https://localhost:8080/",
          "height": 50
        }
      },
      "source": [
        "number = [2, 0, -34, 23, 6]\n",
        "\n",
        "sorted_lst = sorted(number)\n",
        "\n",
        "print(sorted_lst)\n",
        "print(number)               # original list will remain unchanged"
      ],
      "execution_count": 0,
      "outputs": [
        {
          "output_type": "stream",
          "text": [
            "[-34, 0, 2, 6, 23]\n",
            "[2, 0, -34, 23, 6]\n"
          ],
          "name": "stdout"
        }
      ]
    },
    {
      "cell_type": "code",
      "metadata": {
        "id": "a5hLuNjkDXmV",
        "colab_type": "code",
        "outputId": "ca716f8f-c8cb-4fbb-873d-dad986ec9328",
        "colab": {
          "base_uri": "https://localhost:8080/",
          "height": 34
        }
      },
      "source": [
        "number = [2, 0, -34, 23, 6]\n",
        "\n",
        "sorted_lst = sorted(number, reverse = True)    # sort the list in reverse order\n",
        "\n",
        "print(sorted_lst)"
      ],
      "execution_count": 0,
      "outputs": [
        {
          "output_type": "stream",
          "text": [
            "[23, 6, 2, 0, -34]\n"
          ],
          "name": "stdout"
        }
      ]
    },
    {
      "cell_type": "markdown",
      "metadata": {
        "id": "WrSoI3tcFYBo",
        "colab_type": "text"
      },
      "source": [
        "**List Having Multiple References**\n"
      ]
    },
    {
      "cell_type": "code",
      "metadata": {
        "id": "zcOKS20vFoB0",
        "colab_type": "code",
        "outputId": "d00e3849-0925-4e5a-dc53-f6ef33263311",
        "colab": {
          "base_uri": "https://localhost:8080/",
          "height": 34
        }
      },
      "source": [
        "lst = [1, 2, 3, 2]\n",
        "abc = lst\n",
        "abc.append(5)\n",
        "\n",
        "print(lst)          # print the original list"
      ],
      "execution_count": 0,
      "outputs": [
        {
          "output_type": "stream",
          "text": [
            "[1, 2, 3, 2, 5]\n"
          ],
          "name": "stdout"
        }
      ]
    },
    {
      "cell_type": "markdown",
      "metadata": {
        "id": "RJiHzomsF8SV",
        "colab_type": "text"
      },
      "source": [
        "**String Split to Create a List**"
      ]
    },
    {
      "cell_type": "code",
      "metadata": {
        "id": "RdaupJ-8GBHU",
        "colab_type": "code",
        "outputId": "0f1e7fd4-f000-480f-dcdd-3bb3873d3390",
        "colab": {
          "base_uri": "https://localhost:8080/",
          "height": 67
        }
      },
      "source": [
        "s = 'one, two, three, four'\n",
        "\n",
        "lst = s.split(',')         # Split the string based on comma(,)\n",
        "lst1 = s.split('e')\n",
        "\n",
        "print(lst)\n",
        "print(lst1)\n",
        "\n",
        "s1 = 'This is my python practice'\n",
        "lst2 = s1.split()          # default split is white-character (space or tab)\n",
        "\n",
        "print(lst2)"
      ],
      "execution_count": 0,
      "outputs": [
        {
          "output_type": "stream",
          "text": [
            "['one', ' two', ' three', ' four']\n",
            "['on', ', two, thr', '', ', four']\n",
            "['This', 'is', 'my', 'python', 'practice']\n"
          ],
          "name": "stdout"
        }
      ]
    },
    {
      "cell_type": "markdown",
      "metadata": {
        "id": "NyEsBDmBNt4E",
        "colab_type": "text"
      },
      "source": [
        "**List Indexing**"
      ]
    },
    {
      "cell_type": "code",
      "metadata": {
        "id": "oHMoWLKdNwi6",
        "colab_type": "code",
        "outputId": "c3b5e118-4ede-4413-d4a8-4c0ada0cc8cd",
        "colab": {
          "base_uri": "https://localhost:8080/",
          "height": 50
        }
      },
      "source": [
        "lst = [2, 3, 4, 3]\n",
        "print(lst[2])          # print the 3rd list element\n",
        "print(lst[-1])         # print the last list element "
      ],
      "execution_count": 0,
      "outputs": [
        {
          "output_type": "stream",
          "text": [
            "4\n",
            "3\n"
          ],
          "name": "stdout"
        }
      ]
    },
    {
      "cell_type": "markdown",
      "metadata": {
        "id": "I2HUQiYuSFif",
        "colab_type": "text"
      },
      "source": [
        "**List Slicing**"
      ]
    },
    {
      "cell_type": "code",
      "metadata": {
        "id": "0nppKypMSIDd",
        "colab_type": "code",
        "outputId": "bb805c3a-2bed-445e-eda9-e5e35c461528",
        "colab": {
          "base_uri": "https://localhost:8080/",
          "height": 84
        }
      },
      "source": [
        "# Syntax: lst[start : end : step-size] ---> lst[x : y : z] means from x to y-1\n",
        "\n",
        "lst = [2, 4, 67, 8, 9]\n",
        "\n",
        "print(lst[:])            # print all the elements in the list \n",
        "print(lst[0:4])\n",
        "\n",
        "print(lst[::2])\n",
        "print(lst[0::2])"
      ],
      "execution_count": 0,
      "outputs": [
        {
          "output_type": "stream",
          "text": [
            "[2, 4, 67, 8, 9]\n",
            "[2, 4, 67, 8]\n",
            "[2, 67, 9]\n",
            "[2, 67, 9]\n"
          ],
          "name": "stdout"
        }
      ]
    },
    {
      "cell_type": "markdown",
      "metadata": {
        "id": "vU1-16c-UNDl",
        "colab_type": "text"
      },
      "source": [
        "**List Extend Using \"+\"**"
      ]
    },
    {
      "cell_type": "code",
      "metadata": {
        "id": "pawPoHn4USrQ",
        "colab_type": "code",
        "outputId": "63792f13-4640-45fe-ec71-8ea6ccbe3ae4",
        "colab": {
          "base_uri": "https://localhost:8080/",
          "height": 34
        }
      },
      "source": [
        "lst = [2, 5, 7, 3.4]\n",
        "lst1 = ['pap', 'gardi', 'eto']\n",
        "\n",
        "new_lst = lst + lst1\n",
        "print(new_lst)"
      ],
      "execution_count": 0,
      "outputs": [
        {
          "output_type": "stream",
          "text": [
            "[2, 5, 7, 3.4, 'pap', 'gardi', 'eto']\n"
          ],
          "name": "stdout"
        }
      ]
    },
    {
      "cell_type": "markdown",
      "metadata": {
        "id": "XIwXC_yaUlfI",
        "colab_type": "text"
      },
      "source": [
        "**List Count**"
      ]
    },
    {
      "cell_type": "code",
      "metadata": {
        "id": "UrXEujDvUoOQ",
        "colab_type": "code",
        "outputId": "9daf389d-3b8e-4608-dcac-fb4da3a97fd3",
        "colab": {
          "base_uri": "https://localhost:8080/",
          "height": 34
        }
      },
      "source": [
        "lst = [1, 23, 24, 3, 2, 3, 3, 5]\n",
        "\n",
        "print(lst.count(3))              # frequency of an element in list "
      ],
      "execution_count": 0,
      "outputs": [
        {
          "output_type": "stream",
          "text": [
            "3\n"
          ],
          "name": "stdout"
        }
      ]
    },
    {
      "cell_type": "markdown",
      "metadata": {
        "id": "HCYjabjlU4tK",
        "colab_type": "text"
      },
      "source": [
        "**List Looping**"
      ]
    },
    {
      "cell_type": "code",
      "metadata": {
        "id": "lBZr1KJeU8Oo",
        "colab_type": "code",
        "outputId": "49fa4d3c-1d56-4af1-b1f5-3211900d56b6",
        "colab": {
          "base_uri": "https://localhost:8080/",
          "height": 84
        }
      },
      "source": [
        "name = ['lili', 'jui', 'promi', 'somi']\n",
        "\n",
        "for element in name:\n",
        "  print(element)"
      ],
      "execution_count": 0,
      "outputs": [
        {
          "output_type": "stream",
          "text": [
            "lili\n",
            "jui\n",
            "promi\n",
            "somi\n"
          ],
          "name": "stdout"
        }
      ]
    },
    {
      "cell_type": "markdown",
      "metadata": {
        "id": "URSGCpgbW1Nz",
        "colab_type": "text"
      },
      "source": [
        "**List Comprehensions**\n",
        "\n",
        "----\n",
        "List Comprehensions provides a concise way to create lists"
      ]
    },
    {
      "cell_type": "code",
      "metadata": {
        "id": "NLKY1fcyXHtP",
        "colab_type": "code",
        "outputId": "22edb799-05cc-42d5-cc03-1ac930f12016",
        "colab": {
          "base_uri": "https://localhost:8080/",
          "height": 34
        }
      },
      "source": [
        "# Without List Comprehension\n",
        "# Squares of numbers\n",
        "\n",
        "squares = []\n",
        "\n",
        "for i in range(10):\n",
        "  squares.append(i ** 2)\n",
        "\n",
        "print(squares)"
      ],
      "execution_count": 0,
      "outputs": [
        {
          "output_type": "stream",
          "text": [
            "[0, 1, 4, 9, 16, 25, 36, 49, 64, 81]\n"
          ],
          "name": "stdout"
        }
      ]
    },
    {
      "cell_type": "code",
      "metadata": {
        "id": "8Gg2FaHkXmvR",
        "colab_type": "code",
        "outputId": "b2e3ced5-33df-4597-f47f-7afc9047168b",
        "colab": {
          "base_uri": "https://localhost:8080/",
          "height": 34
        }
      },
      "source": [
        "# With List Comprehension\n",
        "\n",
        "squares = [i**2 for i in range(10)]\n",
        "print(squares)"
      ],
      "execution_count": 0,
      "outputs": [
        {
          "output_type": "stream",
          "text": [
            "[0, 1, 4, 9, 16, 25, 36, 49, 64, 81]\n"
          ],
          "name": "stdout"
        }
      ]
    },
    {
      "cell_type": "code",
      "metadata": {
        "id": "BR_dKzJsYsvv",
        "colab_type": "code",
        "outputId": "b1cbe29b-57aa-45b1-ba4f-7e35ddb8f7c4",
        "colab": {
          "base_uri": "https://localhost:8080/",
          "height": 67
        }
      },
      "source": [
        "lst = [-10, -20, 10, 430, 32]\n",
        "\n",
        "new_list = [i**2 for i in lst]\n",
        "print(new_list)\n",
        "\n",
        "new_lst = [i**2 for i in lst if i > 0]\n",
        "print(new_lst)\n",
        "\n",
        "new_ls = [(i, i**2) for i in lst]\n",
        "print(new_ls)"
      ],
      "execution_count": 0,
      "outputs": [
        {
          "output_type": "stream",
          "text": [
            "[100, 400, 100, 184900, 1024]\n",
            "[100, 184900, 1024]\n",
            "[(-10, 100), (-20, 400), (10, 100), (430, 184900), (32, 1024)]\n"
          ],
          "name": "stdout"
        }
      ]
    },
    {
      "cell_type": "markdown",
      "metadata": {
        "id": "XmC3fOG4ZrbB",
        "colab_type": "text"
      },
      "source": [
        "**Nested List Comprehensions**"
      ]
    },
    {
      "cell_type": "code",
      "metadata": {
        "id": "G_XjIREaZvqY",
        "colab_type": "code",
        "colab": {}
      },
      "source": [
        ""
      ],
      "execution_count": 0,
      "outputs": []
    },
    {
      "cell_type": "markdown",
      "metadata": {
        "id": "j14nskhraXQ6",
        "colab_type": "text"
      },
      "source": [
        "**Tuples**\n",
        "---\n",
        "Tuples are similiar as lists. Tuple is immutable."
      ]
    },
    {
      "cell_type": "code",
      "metadata": {
        "id": "CVIvrnknacQ-",
        "colab_type": "code",
        "colab": {
          "base_uri": "https://localhost:8080/",
          "height": 84
        },
        "outputId": "497e6bf5-14fc-4520-bcec-6eab3d26de33"
      },
      "source": [
        "emptyTuple = ()\n",
        "\n",
        "print(type(emptyTuple))\n",
        "\n",
        "t = (1, 2, 4, 3)\n",
        "print(t)\n",
        "\n",
        "t1 = (1, (4, 1), [54, 1, 'raju'])     # nested tuple\n",
        "print(t1)\n",
        "print(type(t1))"
      ],
      "execution_count": 4,
      "outputs": [
        {
          "output_type": "stream",
          "text": [
            "<class 'tuple'>\n",
            "(1, 2, 4, 3)\n",
            "(1, (4, 1), [54, 1, 'raju'])\n",
            "<class 'tuple'>\n"
          ],
          "name": "stdout"
        }
      ]
    },
    {
      "cell_type": "code",
      "metadata": {
        "id": "iSTtez8LpEN6",
        "colab_type": "code",
        "colab": {
          "base_uri": "https://localhost:8080/",
          "height": 212
        },
        "outputId": "5b907302-ee8a-4cab-f79d-f1ce9342bb3f"
      },
      "source": [
        "print(t[-1])\n",
        "\n",
        "t[-1] = 0      # tuple is immutable"
      ],
      "execution_count": 7,
      "outputs": [
        {
          "output_type": "stream",
          "text": [
            "3\n"
          ],
          "name": "stdout"
        },
        {
          "output_type": "error",
          "ename": "TypeError",
          "evalue": "ignored",
          "traceback": [
            "\u001b[0;31m---------------------------------------------------------------------------\u001b[0m",
            "\u001b[0;31mTypeError\u001b[0m                                 Traceback (most recent call last)",
            "\u001b[0;32m<ipython-input-7-b221236061ee>\u001b[0m in \u001b[0;36m<module>\u001b[0;34m()\u001b[0m\n\u001b[1;32m      1\u001b[0m \u001b[0mprint\u001b[0m\u001b[0;34m(\u001b[0m\u001b[0mt\u001b[0m\u001b[0;34m[\u001b[0m\u001b[0;34m-\u001b[0m\u001b[0;36m1\u001b[0m\u001b[0;34m]\u001b[0m\u001b[0;34m)\u001b[0m\u001b[0;34m\u001b[0m\u001b[0;34m\u001b[0m\u001b[0m\n\u001b[1;32m      2\u001b[0m \u001b[0;34m\u001b[0m\u001b[0m\n\u001b[0;32m----> 3\u001b[0;31m \u001b[0mt\u001b[0m\u001b[0;34m[\u001b[0m\u001b[0;34m-\u001b[0m\u001b[0;36m1\u001b[0m\u001b[0;34m]\u001b[0m \u001b[0;34m=\u001b[0m \u001b[0;36m0\u001b[0m      \u001b[0;31m# tuple is immutable\u001b[0m\u001b[0;34m\u001b[0m\u001b[0;34m\u001b[0m\u001b[0m\n\u001b[0m",
            "\u001b[0;31mTypeError\u001b[0m: 'tuple' object does not support item assignment"
          ]
        }
      ]
    },
    {
      "cell_type": "code",
      "metadata": {
        "id": "LGunZzPopS24",
        "colab_type": "code",
        "colab": {
          "base_uri": "https://localhost:8080/",
          "height": 34
        },
        "outputId": "910831a2-0a1e-45f1-9baa-ad42827dd7a6"
      },
      "source": [
        "# Only parenthesis is not enough for tuple. Without comma(,) it treated as like String\n",
        "\n",
        "tup = ('emon')\n",
        "print(type(tup))"
      ],
      "execution_count": 8,
      "outputs": [
        {
          "output_type": "stream",
          "text": [
            "<class 'str'>\n"
          ],
          "name": "stdout"
        }
      ]
    },
    {
      "cell_type": "code",
      "metadata": {
        "id": "jF6Alv9_wDee",
        "colab_type": "code",
        "colab": {
          "base_uri": "https://localhost:8080/",
          "height": 34
        },
        "outputId": "ed55f107-7903-48da-a317-95fcddaee975"
      },
      "source": [
        "tup1 = ('emon',)    # Need a comma(,) at the end\n",
        "print(type(tup1))"
      ],
      "execution_count": 9,
      "outputs": [
        {
          "output_type": "stream",
          "text": [
            "<class 'tuple'>\n"
          ],
          "name": "stdout"
        }
      ]
    },
    {
      "cell_type": "code",
      "metadata": {
        "id": "ykNacD9OwNyY",
        "colab_type": "code",
        "colab": {
          "base_uri": "https://localhost:8080/",
          "height": 34
        },
        "outputId": "598e0d89-7328-497d-8173-5f23cec66ada"
      },
      "source": [
        "tup2 = \"emon\",      # Parenthesis is optional \n",
        "print(type(tup2))"
      ],
      "execution_count": 11,
      "outputs": [
        {
          "output_type": "stream",
          "text": [
            "<class 'tuple'>\n"
          ],
          "name": "stdout"
        }
      ]
    },
    {
      "cell_type": "code",
      "metadata": {
        "id": "yHqoqKFi_1wf",
        "colab_type": "code",
        "colab": {
          "base_uri": "https://localhost:8080/",
          "height": 50
        },
        "outputId": "8f79760e-939e-4e04-a8a5-3d277d72580b"
      },
      "source": [
        "# Tuple Indexing\n",
        "\n",
        "nestedTuple = ('Nilufa', ('sweety', 'emon', 'mim', 'roja'))\n",
        "\n",
        "print(nestedTuple[1])\n",
        "print(nestedTuple[1][0])"
      ],
      "execution_count": 12,
      "outputs": [
        {
          "output_type": "stream",
          "text": [
            "('sweety', 'emon', 'mim', 'roja')\n",
            "sweety\n"
          ],
          "name": "stdout"
        }
      ]
    },
    {
      "cell_type": "code",
      "metadata": {
        "id": "k3KkF10KBbHI",
        "colab_type": "code",
        "colab": {
          "base_uri": "https://localhost:8080/",
          "height": 67
        },
        "outputId": "df53a355-88a6-4e48-9593-aaafed377117"
      },
      "source": [
        "# Tuple Slicing \n",
        "\n",
        "t = (1, 2, 5, 2, 65)\n",
        "\n",
        "print(t[:4])\n",
        "print(t[:-2])\n",
        "print(t[:-1])"
      ],
      "execution_count": 16,
      "outputs": [
        {
          "output_type": "stream",
          "text": [
            "(1, 2, 5, 2)\n",
            "(1, 2, 5)\n",
            "(1, 2, 5, 2)\n"
          ],
          "name": "stdout"
        }
      ]
    },
    {
      "cell_type": "code",
      "metadata": {
        "id": "A5ABSvZPCNKY",
        "colab_type": "code",
        "colab": {
          "base_uri": "https://localhost:8080/",
          "height": 34
        },
        "outputId": "dc466258-84de-4afb-e7f3-c5697bfb6531"
      },
      "source": [
        "# concatinating tuples\n",
        "\n",
        "t = (1, 3, 2)\n",
        "t1 = (243, 454, 3432)\n",
        "\n",
        "t2 = t + t1\n",
        "print(t2)"
      ],
      "execution_count": 17,
      "outputs": [
        {
          "output_type": "stream",
          "text": [
            "(1, 3, 2, 243, 454, 3432)\n"
          ],
          "name": "stdout"
        }
      ]
    },
    {
      "cell_type": "code",
      "metadata": {
        "id": "zw-WYymgC0Pv",
        "colab_type": "code",
        "colab": {
          "base_uri": "https://localhost:8080/",
          "height": 101
        },
        "outputId": "e00cf7f7-f9bd-41c9-e1d7-2dd9ae6265b6"
      },
      "source": [
        "tupl = (('emon',) * 4)\n",
        "\n",
        "print(tupl)\n",
        "print(type(tupl))\n",
        "\n",
        "print('<<<------>>>')\n",
        "\n",
        "t = ((1,) * 3)\n",
        "print(t)\n",
        "print(type(t))"
      ],
      "execution_count": 23,
      "outputs": [
        {
          "output_type": "stream",
          "text": [
            "('emon', 'emon', 'emon', 'emon')\n",
            "<class 'tuple'>\n",
            "<<<------>>>\n",
            "(1, 1, 1)\n",
            "<class 'tuple'>\n"
          ],
          "name": "stdout"
        }
      ]
    },
    {
      "cell_type": "code",
      "metadata": {
        "id": "SOKo5QQREr0S",
        "colab_type": "code",
        "colab": {}
      },
      "source": [
        "# Tuple Deletion\n",
        "# Tupes are immmutable. So we can't remove or delet the item of a tuple\n",
        "\n",
        "tup = (1, 3, 3, 1, 2)\n",
        "del tup                   # delet the entire tuple\n"
      ],
      "execution_count": 0,
      "outputs": []
    },
    {
      "cell_type": "code",
      "metadata": {
        "id": "QQdgmlMdLrNa",
        "colab_type": "code",
        "colab": {
          "base_uri": "https://localhost:8080/",
          "height": 50
        },
        "outputId": "8b9371a5-3d8f-45b2-c812-d2b38ca14b8d"
      },
      "source": [
        "# Tuple Count \n",
        "# get the frequencey of particular element appears in a tuple\n",
        "\n",
        "t = (1, 2, 3, 2, 2, 4, 6)\n",
        "print(t.count(2))\n",
        "\n",
        "# Tuple index\n",
        "\n",
        "print(t.index(2))          # return the index of the first time of the inputed element "
      ],
      "execution_count": 28,
      "outputs": [
        {
          "output_type": "stream",
          "text": [
            "3\n",
            "1\n"
          ],
          "name": "stdout"
        }
      ]
    },
    {
      "cell_type": "code",
      "metadata": {
        "id": "7jIbAj8BNTt_",
        "colab_type": "code",
        "colab": {
          "base_uri": "https://localhost:8080/",
          "height": 50
        },
        "outputId": "2ae2f6fe-6dc8-4f23-b0d8-63bef6a3aab4"
      },
      "source": [
        "# Tuple Membership \n",
        "# Test if an items exits in a tuple or not\n",
        "\n",
        "print(1 in t)\n",
        "print(2 not in t)"
      ],
      "execution_count": 30,
      "outputs": [
        {
          "output_type": "stream",
          "text": [
            "True\n",
            "False\n"
          ],
          "name": "stdout"
        }
      ]
    },
    {
      "cell_type": "markdown",
      "metadata": {
        "id": "TViJFwwQN5Kw",
        "colab_type": "text"
      },
      "source": [
        "**Tuple Built in Functions**\n"
      ]
    },
    {
      "cell_type": "code",
      "metadata": {
        "id": "QMzgcvQxNmv3",
        "colab_type": "code",
        "colab": {
          "base_uri": "https://localhost:8080/",
          "height": 101
        },
        "outputId": "ec3e13b8-4f9d-4589-d753-168df152fd93"
      },
      "source": [
        "t = (32, 534, 23, 22, -1, -222, 0, 3, 56)\n",
        "\n",
        "print(len(t))\n",
        "\n",
        "new_tup = sorted(t)\n",
        "print(new_tup)\n",
        "\n",
        "print(max(new_tup))\n",
        "print(min(new_tup))\n",
        "print(sum(new_tup))"
      ],
      "execution_count": 35,
      "outputs": [
        {
          "output_type": "stream",
          "text": [
            "9\n",
            "[-222, -1, 0, 3, 22, 23, 32, 56, 534]\n",
            "534\n",
            "-222\n",
            "447\n"
          ],
          "name": "stdout"
        }
      ]
    }
  ]
}