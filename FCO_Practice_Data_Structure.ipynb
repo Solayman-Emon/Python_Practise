{
  "nbformat": 4,
  "nbformat_minor": 0,
  "metadata": {
    "colab": {
      "name": "FCO_Practice_Data_Structure.ipynb",
      "provenance": [],
      "collapsed_sections": [],
      "authorship_tag": "ABX9TyOT9DX+NiWJcebjH8QluxGi",
      "include_colab_link": true
    },
    "kernelspec": {
      "name": "python3",
      "display_name": "Python 3"
    }
  },
  "cells": [
    {
      "cell_type": "markdown",
      "metadata": {
        "id": "view-in-github",
        "colab_type": "text"
      },
      "source": [
        "<a href=\"https://colab.research.google.com/github/Solayman-Emon/Python_Practise/blob/master/FCO_Practice_Data_Structure.ipynb\" target=\"_parent\"><img src=\"https://colab.research.google.com/assets/colab-badge.svg\" alt=\"Open In Colab\"/></a>"
      ]
    },
    {
      "cell_type": "markdown",
      "metadata": {
        "id": "rClnIQrCppSX",
        "colab_type": "text"
      },
      "source": [
        "**Data structures in Python**\n",
        "---\n",
        "---"
      ]
    },
    {
      "cell_type": "markdown",
      "metadata": {
        "id": "k9r-0aSboWvC",
        "colab_type": "text"
      },
      "source": [
        "**Lists**\n",
        "---\n",
        "List is a sequence data structure. List are mutable"
      ]
    },
    {
      "cell_type": "code",
      "metadata": {
        "id": "pX24ahvxg57l",
        "colab_type": "code",
        "colab": {
          "base_uri": "https://localhost:8080/",
          "height": 67
        },
        "outputId": "df99e86b-8e4f-4999-b6d1-c81a3fc7123e"
      },
      "source": [
        "emptyList = []\n",
        "\n",
        "lst = ['one', 'two', 'three', 'four']   # list of strings\n",
        "lst1 = [1, 32, 9, 3]                    # list of integers\n",
        "lst2 = [1, 'rm', 3.2]                   # list of different data types\n",
        "\n",
        "lst3 = [[1,2], [4, 2]]                  # list of lists\n",
        "\n",
        "print(lst)\n",
        "print(lst1)\n",
        "print(type(lst3))"
      ],
      "execution_count": 1,
      "outputs": [
        {
          "output_type": "stream",
          "text": [
            "['one', 'two', 'three', 'four']\n",
            "[1, 32, 9, 3]\n",
            "<class 'list'>\n"
          ],
          "name": "stdout"
        }
      ]
    },
    {
      "cell_type": "markdown",
      "metadata": {
        "id": "fF8ao5DdqxbP",
        "colab_type": "text"
      },
      "source": [
        "**Length of the List**"
      ]
    },
    {
      "cell_type": "code",
      "metadata": {
        "id": "Nb8ZHObwqmcf",
        "colab_type": "code",
        "colab": {
          "base_uri": "https://localhost:8080/",
          "height": 84
        },
        "outputId": "5b47766d-dd51-4f28-b966-5ffcf2e9aaf2"
      },
      "source": [
        "print(len(lst))\n",
        "\n",
        "print(len(lst1))\n",
        "\n",
        "print(len(lst2))\n",
        "\n",
        "print(len(lst3))"
      ],
      "execution_count": 3,
      "outputs": [
        {
          "output_type": "stream",
          "text": [
            "4\n",
            "4\n",
            "3\n",
            "2\n"
          ],
          "name": "stdout"
        }
      ]
    },
    {
      "cell_type": "markdown",
      "metadata": {
        "id": "czXBstWArLXn",
        "colab_type": "text"
      },
      "source": [
        "**List Append**"
      ]
    },
    {
      "cell_type": "code",
      "metadata": {
        "id": "malTAIbxrPmc",
        "colab_type": "code",
        "colab": {
          "base_uri": "https://localhost:8080/",
          "height": 34
        },
        "outputId": "136a4be5-72ac-478f-eb56-130d0172b3af"
      },
      "source": [
        "# Syntax: lst.append(x)\n",
        "# append will add the item x in the end of the list\n",
        "\n",
        "lst.append('six')    \n",
        "print(lst)"
      ],
      "execution_count": 6,
      "outputs": [
        {
          "output_type": "stream",
          "text": [
            "['one', 'two', 'three', 'four', 'five', 'five', 'six']\n"
          ],
          "name": "stdout"
        }
      ]
    },
    {
      "cell_type": "markdown",
      "metadata": {
        "id": "ElLTH6gFt6ns",
        "colab_type": "text"
      },
      "source": [
        "**List Insert**"
      ]
    },
    {
      "cell_type": "code",
      "metadata": {
        "id": "x4tJA1Tbr-kM",
        "colab_type": "code",
        "colab": {
          "base_uri": "https://localhost:8080/",
          "height": 34
        },
        "outputId": "28bab970-37a6-49aa-f49f-6977315d07a8"
      },
      "source": [
        "# Syntax: lst.insert(x, y)\n",
        "# add element y at location x\n",
        "\n",
        "lst.insert(5, 'six')\n",
        "lst.insert(6, 'seven')     # The previous elements of that position will shifted, not deleted\n",
        "\n",
        "print(lst)"
      ],
      "execution_count": 7,
      "outputs": [
        {
          "output_type": "stream",
          "text": [
            "['one', 'two', 'three', 'four', 'five', 'six', 'seven', 'five', 'six']\n"
          ],
          "name": "stdout"
        }
      ]
    },
    {
      "cell_type": "markdown",
      "metadata": {
        "id": "5d_PtL5wtcSu",
        "colab_type": "text"
      },
      "source": [
        "**List Remove**"
      ]
    },
    {
      "cell_type": "code",
      "metadata": {
        "id": "Jtjzv9r9t3yj",
        "colab_type": "code",
        "colab": {
          "base_uri": "https://localhost:8080/",
          "height": 34
        },
        "outputId": "c182a9c1-8812-4982-8113-0080f1fbce82"
      },
      "source": [
        "# Syntax: lst.remove(x)\n",
        "# the first occurence of element x will be removed from the list\n",
        "\n",
        "lst.remove('five')\n",
        "print(lst)"
      ],
      "execution_count": 8,
      "outputs": [
        {
          "output_type": "stream",
          "text": [
            "['one', 'two', 'three', 'four', 'six', 'seven', 'five', 'six']\n"
          ],
          "name": "stdout"
        }
      ]
    },
    {
      "cell_type": "markdown",
      "metadata": {
        "id": "m9fI4tv91QSw",
        "colab_type": "text"
      },
      "source": [
        "**List Append and Extend**"
      ]
    },
    {
      "cell_type": "code",
      "metadata": {
        "id": "AJoKbQmh1XBB",
        "colab_type": "code",
        "colab": {
          "base_uri": "https://localhost:8080/",
          "height": 34
        },
        "outputId": "9cd8a23a-6c99-4213-c7fd-10393b0bf18b"
      },
      "source": [
        "lst = [1, 2, 3, 4]\n",
        "lst1 = [5, 6, 7]\n",
        "\n",
        "lst.append(lst1)\n",
        "print(lst)"
      ],
      "execution_count": 10,
      "outputs": [
        {
          "output_type": "stream",
          "text": [
            "[1, 2, 3, 4, [5, 6, 7]]\n"
          ],
          "name": "stdout"
        }
      ]
    },
    {
      "cell_type": "code",
      "metadata": {
        "id": "QNSH0Pgf1yHa",
        "colab_type": "code",
        "colab": {
          "base_uri": "https://localhost:8080/",
          "height": 34
        },
        "outputId": "0ee5a87f-e978-4297-e61c-7b9389f055b9"
      },
      "source": [
        "lst = [1, 2, 3, 4]\n",
        "lst1 = [5, 6, 7]\n",
        "\n",
        "lst.extend(lst1)\n",
        "print(lst)"
      ],
      "execution_count": 11,
      "outputs": [
        {
          "output_type": "stream",
          "text": [
            "[1, 2, 3, 4, 5, 6, 7]\n"
          ],
          "name": "stdout"
        }
      ]
    },
    {
      "cell_type": "markdown",
      "metadata": {
        "id": "pGGpApP76YXb",
        "colab_type": "text"
      },
      "source": [
        "**List Delete**"
      ]
    },
    {
      "cell_type": "code",
      "metadata": {
        "id": "zCKH1hHp6gTo",
        "colab_type": "code",
        "colab": {
          "base_uri": "https://localhost:8080/",
          "height": 67
        },
        "outputId": "ccfa118e-5825-485d-e72a-64deacbe68ef"
      },
      "source": [
        "# Syntax: del lst[x]\n",
        "# remove item based on the location x\n",
        "\n",
        "lst = ['one', 'two', 'three', 'four', 'five']\n",
        "del lst[1]\n",
        "print(lst)\n",
        "\n",
        "# we can use pop(x) function to remove the item. pop() function also return the removed item.\n",
        "\n",
        "pop_item = lst.pop(1)\n",
        "print(pop_item)\n",
        "print(lst)"
      ],
      "execution_count": 13,
      "outputs": [
        {
          "output_type": "stream",
          "text": [
            "['one', 'three', 'four', 'five']\n",
            "three\n",
            "['one', 'four', 'five']\n"
          ],
          "name": "stdout"
        }
      ]
    },
    {
      "cell_type": "markdown",
      "metadata": {
        "id": "zZyDBf3p_VtJ",
        "colab_type": "text"
      },
      "source": [
        "**in and not in keyword**"
      ]
    },
    {
      "cell_type": "code",
      "metadata": {
        "id": "WTspEZ5e_cd_",
        "colab_type": "code",
        "colab": {
          "base_uri": "https://localhost:8080/",
          "height": 50
        },
        "outputId": "16b0212a-92df-4746-f180-cdb27ac75aef"
      },
      "source": [
        "# in and not in keyword is used for testing if an element is in list or not\n",
        "\n",
        "lst = ['one', 'two', 'three', 'four', 'five']\n",
        "\n",
        "if 'two' in lst:\n",
        "  print('paichi...')\n",
        "\n",
        "if 'six' not in lst:\n",
        "  print('Done...')  "
      ],
      "execution_count": 15,
      "outputs": [
        {
          "output_type": "stream",
          "text": [
            "paichi...\n",
            "Done...\n"
          ],
          "name": "stdout"
        }
      ]
    },
    {
      "cell_type": "markdown",
      "metadata": {
        "id": "ppfNIStYCfFX",
        "colab_type": "text"
      },
      "source": [
        "**List Reverse**"
      ]
    },
    {
      "cell_type": "code",
      "metadata": {
        "id": "LgMh7siDCiRe",
        "colab_type": "code",
        "colab": {
          "base_uri": "https://localhost:8080/",
          "height": 34
        },
        "outputId": "6e06c013-1746-4951-9943-d8036b8418c4"
      },
      "source": [
        "lst = [1, 56.6, 34, -12, 4]\n",
        "lst.reverse()\n",
        "print(lst)"
      ],
      "execution_count": 19,
      "outputs": [
        {
          "output_type": "stream",
          "text": [
            "[4, -12, 34, 56.6, 1]\n"
          ],
          "name": "stdout"
        }
      ]
    },
    {
      "cell_type": "markdown",
      "metadata": {
        "id": "pOzpc7uUBzDY",
        "colab_type": "text"
      },
      "source": [
        "**List Sort**"
      ]
    },
    {
      "cell_type": "code",
      "metadata": {
        "id": "rJG_TzF-B1vF",
        "colab_type": "code",
        "colab": {
          "base_uri": "https://localhost:8080/",
          "height": 34
        },
        "outputId": "033fd307-dbfe-4ced-c405-923d78743d58"
      },
      "source": [
        "# sort() function will sort the list and stored in itself\n",
        "\n",
        "lst = [1, 56.6, 34, -12, 4]\n",
        "lst.sort()\n",
        "print(lst)"
      ],
      "execution_count": 18,
      "outputs": [
        {
          "output_type": "stream",
          "text": [
            "[-12, 1, 4, 34, 56.6]\n"
          ],
          "name": "stdout"
        }
      ]
    },
    {
      "cell_type": "code",
      "metadata": {
        "id": "Jh1sPfP4Cayd",
        "colab_type": "code",
        "colab": {
          "base_uri": "https://localhost:8080/",
          "height": 50
        },
        "outputId": "604e5a11-d16e-413f-b4cf-f1b594eceaeb"
      },
      "source": [
        "number = [2, 0, -34, 23, 6]\n",
        "\n",
        "sorted_lst = sorted(number)\n",
        "\n",
        "print(sorted_lst)\n",
        "print(number)               # original list will remain unchanged"
      ],
      "execution_count": 22,
      "outputs": [
        {
          "output_type": "stream",
          "text": [
            "[-34, 0, 2, 6, 23]\n",
            "[2, 0, -34, 23, 6]\n"
          ],
          "name": "stdout"
        }
      ]
    },
    {
      "cell_type": "code",
      "metadata": {
        "id": "a5hLuNjkDXmV",
        "colab_type": "code",
        "colab": {
          "base_uri": "https://localhost:8080/",
          "height": 34
        },
        "outputId": "ca716f8f-c8cb-4fbb-873d-dad986ec9328"
      },
      "source": [
        "number = [2, 0, -34, 23, 6]\n",
        "\n",
        "sorted_lst = sorted(number, reverse = True)    # sort the list in reverse order\n",
        "\n",
        "print(sorted_lst)"
      ],
      "execution_count": 24,
      "outputs": [
        {
          "output_type": "stream",
          "text": [
            "[23, 6, 2, 0, -34]\n"
          ],
          "name": "stdout"
        }
      ]
    },
    {
      "cell_type": "markdown",
      "metadata": {
        "id": "WrSoI3tcFYBo",
        "colab_type": "text"
      },
      "source": [
        "**List Having Multiple References**\n"
      ]
    },
    {
      "cell_type": "code",
      "metadata": {
        "id": "zcOKS20vFoB0",
        "colab_type": "code",
        "colab": {
          "base_uri": "https://localhost:8080/",
          "height": 34
        },
        "outputId": "d00e3849-0925-4e5a-dc53-f6ef33263311"
      },
      "source": [
        "lst = [1, 2, 3, 2]\n",
        "abc = lst\n",
        "abc.append(5)\n",
        "\n",
        "print(lst)          # print the original list"
      ],
      "execution_count": 26,
      "outputs": [
        {
          "output_type": "stream",
          "text": [
            "[1, 2, 3, 2, 5]\n"
          ],
          "name": "stdout"
        }
      ]
    },
    {
      "cell_type": "markdown",
      "metadata": {
        "id": "RJiHzomsF8SV",
        "colab_type": "text"
      },
      "source": [
        "**String Split to Create a List**"
      ]
    },
    {
      "cell_type": "code",
      "metadata": {
        "id": "RdaupJ-8GBHU",
        "colab_type": "code",
        "colab": {
          "base_uri": "https://localhost:8080/",
          "height": 67
        },
        "outputId": "0f1e7fd4-f000-480f-dcdd-3bb3873d3390"
      },
      "source": [
        "s = 'one, two, three, four'\n",
        "\n",
        "lst = s.split(',')         # Split the string based on comma(,)\n",
        "lst1 = s.split('e')\n",
        "\n",
        "print(lst)\n",
        "print(lst1)\n",
        "\n",
        "s1 = 'This is my python practice'\n",
        "lst2 = s1.split()          # default split is white-character (space or tab)\n",
        "\n",
        "print(lst2)"
      ],
      "execution_count": 31,
      "outputs": [
        {
          "output_type": "stream",
          "text": [
            "['one', ' two', ' three', ' four']\n",
            "['on', ', two, thr', '', ', four']\n",
            "['This', 'is', 'my', 'python', 'practice']\n"
          ],
          "name": "stdout"
        }
      ]
    },
    {
      "cell_type": "markdown",
      "metadata": {
        "id": "NyEsBDmBNt4E",
        "colab_type": "text"
      },
      "source": [
        "**List Indexing**"
      ]
    },
    {
      "cell_type": "code",
      "metadata": {
        "id": "oHMoWLKdNwi6",
        "colab_type": "code",
        "colab": {
          "base_uri": "https://localhost:8080/",
          "height": 50
        },
        "outputId": "c3b5e118-4ede-4413-d4a8-4c0ada0cc8cd"
      },
      "source": [
        "lst = [2, 3, 4, 3]\n",
        "print(lst[2])          # print the 3rd list element\n",
        "print(lst[-1])         # print the last list element "
      ],
      "execution_count": 32,
      "outputs": [
        {
          "output_type": "stream",
          "text": [
            "4\n",
            "3\n"
          ],
          "name": "stdout"
        }
      ]
    },
    {
      "cell_type": "markdown",
      "metadata": {
        "id": "I2HUQiYuSFif",
        "colab_type": "text"
      },
      "source": [
        "**List Slicing**"
      ]
    },
    {
      "cell_type": "code",
      "metadata": {
        "id": "0nppKypMSIDd",
        "colab_type": "code",
        "colab": {
          "base_uri": "https://localhost:8080/",
          "height": 84
        },
        "outputId": "bb805c3a-2bed-445e-eda9-e5e35c461528"
      },
      "source": [
        "# Syntax: lst[start : end : step-size] ---> lst[x : y : z] means from x to y-1\n",
        "\n",
        "lst = [2, 4, 67, 8, 9]\n",
        "\n",
        "print(lst[:])            # print all the elements in the list \n",
        "print(lst[0:4])\n",
        "\n",
        "print(lst[::2])\n",
        "print(lst[0::2])"
      ],
      "execution_count": 37,
      "outputs": [
        {
          "output_type": "stream",
          "text": [
            "[2, 4, 67, 8, 9]\n",
            "[2, 4, 67, 8]\n",
            "[2, 67, 9]\n",
            "[2, 67, 9]\n"
          ],
          "name": "stdout"
        }
      ]
    },
    {
      "cell_type": "markdown",
      "metadata": {
        "id": "vU1-16c-UNDl",
        "colab_type": "text"
      },
      "source": [
        "**List Extend Using \"+\"**"
      ]
    },
    {
      "cell_type": "code",
      "metadata": {
        "id": "pawPoHn4USrQ",
        "colab_type": "code",
        "colab": {
          "base_uri": "https://localhost:8080/",
          "height": 34
        },
        "outputId": "63792f13-4640-45fe-ec71-8ea6ccbe3ae4"
      },
      "source": [
        "lst = [2, 5, 7, 3.4]\n",
        "lst1 = ['pap', 'gardi', 'eto']\n",
        "\n",
        "new_lst = lst + lst1\n",
        "print(new_lst)"
      ],
      "execution_count": 38,
      "outputs": [
        {
          "output_type": "stream",
          "text": [
            "[2, 5, 7, 3.4, 'pap', 'gardi', 'eto']\n"
          ],
          "name": "stdout"
        }
      ]
    },
    {
      "cell_type": "markdown",
      "metadata": {
        "id": "XIwXC_yaUlfI",
        "colab_type": "text"
      },
      "source": [
        "**List Count**"
      ]
    },
    {
      "cell_type": "code",
      "metadata": {
        "id": "UrXEujDvUoOQ",
        "colab_type": "code",
        "colab": {
          "base_uri": "https://localhost:8080/",
          "height": 34
        },
        "outputId": "9daf389d-3b8e-4608-dcac-fb4da3a97fd3"
      },
      "source": [
        "lst = [1, 23, 24, 3, 2, 3, 3, 5]\n",
        "\n",
        "print(lst.count(3))              # frequency of an element in list "
      ],
      "execution_count": 39,
      "outputs": [
        {
          "output_type": "stream",
          "text": [
            "3\n"
          ],
          "name": "stdout"
        }
      ]
    },
    {
      "cell_type": "markdown",
      "metadata": {
        "id": "HCYjabjlU4tK",
        "colab_type": "text"
      },
      "source": [
        "**List Looping**"
      ]
    },
    {
      "cell_type": "code",
      "metadata": {
        "id": "lBZr1KJeU8Oo",
        "colab_type": "code",
        "colab": {
          "base_uri": "https://localhost:8080/",
          "height": 84
        },
        "outputId": "49fa4d3c-1d56-4af1-b1f5-3211900d56b6"
      },
      "source": [
        "name = ['lili', 'jui', 'promi', 'somi']\n",
        "\n",
        "for element in name:\n",
        "  print(element)"
      ],
      "execution_count": 40,
      "outputs": [
        {
          "output_type": "stream",
          "text": [
            "lili\n",
            "jui\n",
            "promi\n",
            "somi\n"
          ],
          "name": "stdout"
        }
      ]
    },
    {
      "cell_type": "markdown",
      "metadata": {
        "id": "URSGCpgbW1Nz",
        "colab_type": "text"
      },
      "source": [
        "**List Comprehensions**\n",
        "\n",
        "----\n",
        "List Comprehensions provides a concise way to create lists"
      ]
    },
    {
      "cell_type": "code",
      "metadata": {
        "id": "NLKY1fcyXHtP",
        "colab_type": "code",
        "colab": {
          "base_uri": "https://localhost:8080/",
          "height": 34
        },
        "outputId": "22edb799-05cc-42d5-cc03-1ac930f12016"
      },
      "source": [
        "# Without List Comprehension\n",
        "# Squares of numbers\n",
        "\n",
        "squares = []\n",
        "\n",
        "for i in range(10):\n",
        "  squares.append(i ** 2)\n",
        "\n",
        "print(squares)"
      ],
      "execution_count": 41,
      "outputs": [
        {
          "output_type": "stream",
          "text": [
            "[0, 1, 4, 9, 16, 25, 36, 49, 64, 81]\n"
          ],
          "name": "stdout"
        }
      ]
    },
    {
      "cell_type": "code",
      "metadata": {
        "id": "8Gg2FaHkXmvR",
        "colab_type": "code",
        "colab": {
          "base_uri": "https://localhost:8080/",
          "height": 34
        },
        "outputId": "b2e3ced5-33df-4597-f47f-7afc9047168b"
      },
      "source": [
        "# With List Comprehension\n",
        "\n",
        "squares = [i**2 for i in range(10)]\n",
        "print(squares)"
      ],
      "execution_count": 43,
      "outputs": [
        {
          "output_type": "stream",
          "text": [
            "[0, 1, 4, 9, 16, 25, 36, 49, 64, 81]\n"
          ],
          "name": "stdout"
        }
      ]
    },
    {
      "cell_type": "code",
      "metadata": {
        "id": "BR_dKzJsYsvv",
        "colab_type": "code",
        "colab": {
          "base_uri": "https://localhost:8080/",
          "height": 67
        },
        "outputId": "b1cbe29b-57aa-45b1-ba4f-7e35ddb8f7c4"
      },
      "source": [
        "lst = [-10, -20, 10, 430, 32]\n",
        "\n",
        "new_list = [i**2 for i in lst]\n",
        "print(new_list)\n",
        "\n",
        "new_lst = [i**2 for i in lst if i > 0]\n",
        "print(new_lst)\n",
        "\n",
        "new_ls = [(i, i**2) for i in lst]\n",
        "print(new_ls)"
      ],
      "execution_count": 47,
      "outputs": [
        {
          "output_type": "stream",
          "text": [
            "[100, 400, 100, 184900, 1024]\n",
            "[100, 184900, 1024]\n",
            "[(-10, 100), (-20, 400), (10, 100), (430, 184900), (32, 1024)]\n"
          ],
          "name": "stdout"
        }
      ]
    },
    {
      "cell_type": "markdown",
      "metadata": {
        "id": "XmC3fOG4ZrbB",
        "colab_type": "text"
      },
      "source": [
        "**Nested List Comprehensions**"
      ]
    },
    {
      "cell_type": "code",
      "metadata": {
        "id": "G_XjIREaZvqY",
        "colab_type": "code",
        "colab": {}
      },
      "source": [
        ""
      ],
      "execution_count": 0,
      "outputs": []
    }
  ]
}