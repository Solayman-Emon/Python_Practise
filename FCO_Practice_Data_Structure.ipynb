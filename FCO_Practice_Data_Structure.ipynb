{
  "nbformat": 4,
  "nbformat_minor": 0,
  "metadata": {
    "colab": {
      "name": "FCO_Practice_Data_Structure.ipynb",
      "provenance": [],
      "collapsed_sections": [],
      "authorship_tag": "ABX9TyNy9HV2jWPU0FuvehmEvXPv",
      "include_colab_link": true
    },
    "kernelspec": {
      "name": "python3",
      "display_name": "Python 3"
    }
  },
  "cells": [
    {
      "cell_type": "markdown",
      "metadata": {
        "id": "view-in-github",
        "colab_type": "text"
      },
      "source": [
        "<a href=\"https://colab.research.google.com/github/Solayman-Emon/Python_Practise/blob/master/FCO_Practice_Data_Structure.ipynb\" target=\"_parent\"><img src=\"https://colab.research.google.com/assets/colab-badge.svg\" alt=\"Open In Colab\"/></a>"
      ]
    },
    {
      "cell_type": "markdown",
      "metadata": {
        "id": "rClnIQrCppSX",
        "colab_type": "text"
      },
      "source": [
        "**Data structures in Python**\n",
        "---\n",
        "---"
      ]
    },
    {
      "cell_type": "markdown",
      "metadata": {
        "id": "k9r-0aSboWvC",
        "colab_type": "text"
      },
      "source": [
        "**Lists**\n",
        "---\n",
        "List is a sequence data structure. List are mutable"
      ]
    },
    {
      "cell_type": "code",
      "metadata": {
        "id": "pX24ahvxg57l",
        "colab_type": "code",
        "colab": {
          "base_uri": "https://localhost:8080/",
          "height": 67
        },
        "outputId": "df99e86b-8e4f-4999-b6d1-c81a3fc7123e"
      },
      "source": [
        "emptyList = []\n",
        "\n",
        "lst = ['one', 'two', 'three', 'four']   # list of strings\n",
        "lst1 = [1, 32, 9, 3]                    # list of integers\n",
        "lst2 = [1, 'rm', 3.2]                   # list of different data types\n",
        "\n",
        "lst3 = [[1,2], [4, 2]]                  # list of lists\n",
        "\n",
        "print(lst)\n",
        "print(lst1)\n",
        "print(type(lst3))"
      ],
      "execution_count": 1,
      "outputs": [
        {
          "output_type": "stream",
          "text": [
            "['one', 'two', 'three', 'four']\n",
            "[1, 32, 9, 3]\n",
            "<class 'list'>\n"
          ],
          "name": "stdout"
        }
      ]
    },
    {
      "cell_type": "markdown",
      "metadata": {
        "id": "fF8ao5DdqxbP",
        "colab_type": "text"
      },
      "source": [
        "**Length of the List**"
      ]
    },
    {
      "cell_type": "code",
      "metadata": {
        "id": "Nb8ZHObwqmcf",
        "colab_type": "code",
        "colab": {
          "base_uri": "https://localhost:8080/",
          "height": 84
        },
        "outputId": "5b47766d-dd51-4f28-b966-5ffcf2e9aaf2"
      },
      "source": [
        "print(len(lst))\n",
        "\n",
        "print(len(lst1))\n",
        "\n",
        "print(len(lst2))\n",
        "\n",
        "print(len(lst3))"
      ],
      "execution_count": 3,
      "outputs": [
        {
          "output_type": "stream",
          "text": [
            "4\n",
            "4\n",
            "3\n",
            "2\n"
          ],
          "name": "stdout"
        }
      ]
    },
    {
      "cell_type": "markdown",
      "metadata": {
        "id": "czXBstWArLXn",
        "colab_type": "text"
      },
      "source": [
        "**List Append**"
      ]
    },
    {
      "cell_type": "code",
      "metadata": {
        "id": "malTAIbxrPmc",
        "colab_type": "code",
        "colab": {
          "base_uri": "https://localhost:8080/",
          "height": 34
        },
        "outputId": "136a4be5-72ac-478f-eb56-130d0172b3af"
      },
      "source": [
        "# Syntax: lst.append(x)\n",
        "# append will add the item x in the end of the list\n",
        "\n",
        "lst.append('six')    \n",
        "print(lst)"
      ],
      "execution_count": 6,
      "outputs": [
        {
          "output_type": "stream",
          "text": [
            "['one', 'two', 'three', 'four', 'five', 'five', 'six']\n"
          ],
          "name": "stdout"
        }
      ]
    },
    {
      "cell_type": "markdown",
      "metadata": {
        "id": "ElLTH6gFt6ns",
        "colab_type": "text"
      },
      "source": [
        "**List Insert**"
      ]
    },
    {
      "cell_type": "code",
      "metadata": {
        "id": "x4tJA1Tbr-kM",
        "colab_type": "code",
        "colab": {
          "base_uri": "https://localhost:8080/",
          "height": 34
        },
        "outputId": "28bab970-37a6-49aa-f49f-6977315d07a8"
      },
      "source": [
        "# Syntax: lst.insert(x, y)\n",
        "# add element y at location x\n",
        "\n",
        "lst.insert(5, 'six')\n",
        "lst.insert(6, 'seven')     # The previous elements of that position will shifted, not deleted\n",
        "\n",
        "print(lst)"
      ],
      "execution_count": 7,
      "outputs": [
        {
          "output_type": "stream",
          "text": [
            "['one', 'two', 'three', 'four', 'five', 'six', 'seven', 'five', 'six']\n"
          ],
          "name": "stdout"
        }
      ]
    },
    {
      "cell_type": "markdown",
      "metadata": {
        "id": "5d_PtL5wtcSu",
        "colab_type": "text"
      },
      "source": [
        "**List Remove**"
      ]
    },
    {
      "cell_type": "code",
      "metadata": {
        "id": "Jtjzv9r9t3yj",
        "colab_type": "code",
        "colab": {
          "base_uri": "https://localhost:8080/",
          "height": 34
        },
        "outputId": "c182a9c1-8812-4982-8113-0080f1fbce82"
      },
      "source": [
        "# Syntax: lst.remove(x)\n",
        "# the first occurence of element x will be removed from the list\n",
        "\n",
        "lst.remove('five')\n",
        "print(lst)"
      ],
      "execution_count": 8,
      "outputs": [
        {
          "output_type": "stream",
          "text": [
            "['one', 'two', 'three', 'four', 'six', 'seven', 'five', 'six']\n"
          ],
          "name": "stdout"
        }
      ]
    },
    {
      "cell_type": "markdown",
      "metadata": {
        "id": "m9fI4tv91QSw",
        "colab_type": "text"
      },
      "source": [
        "**List Append and Extend**"
      ]
    },
    {
      "cell_type": "code",
      "metadata": {
        "id": "AJoKbQmh1XBB",
        "colab_type": "code",
        "colab": {
          "base_uri": "https://localhost:8080/",
          "height": 34
        },
        "outputId": "9cd8a23a-6c99-4213-c7fd-10393b0bf18b"
      },
      "source": [
        "lst = [1, 2, 3, 4]\n",
        "lst1 = [5, 6, 7]\n",
        "\n",
        "lst.append(lst1)\n",
        "print(lst)"
      ],
      "execution_count": 10,
      "outputs": [
        {
          "output_type": "stream",
          "text": [
            "[1, 2, 3, 4, [5, 6, 7]]\n"
          ],
          "name": "stdout"
        }
      ]
    },
    {
      "cell_type": "code",
      "metadata": {
        "id": "QNSH0Pgf1yHa",
        "colab_type": "code",
        "colab": {
          "base_uri": "https://localhost:8080/",
          "height": 34
        },
        "outputId": "0ee5a87f-e978-4297-e61c-7b9389f055b9"
      },
      "source": [
        "lst = [1, 2, 3, 4]\n",
        "lst1 = [5, 6, 7]\n",
        "\n",
        "lst.extend(lst1)\n",
        "print(lst)"
      ],
      "execution_count": 11,
      "outputs": [
        {
          "output_type": "stream",
          "text": [
            "[1, 2, 3, 4, 5, 6, 7]\n"
          ],
          "name": "stdout"
        }
      ]
    },
    {
      "cell_type": "markdown",
      "metadata": {
        "id": "pGGpApP76YXb",
        "colab_type": "text"
      },
      "source": [
        "**List Delete**"
      ]
    },
    {
      "cell_type": "code",
      "metadata": {
        "id": "zCKH1hHp6gTo",
        "colab_type": "code",
        "colab": {
          "base_uri": "https://localhost:8080/",
          "height": 67
        },
        "outputId": "ccfa118e-5825-485d-e72a-64deacbe68ef"
      },
      "source": [
        "# Syntax: del lst[x]\n",
        "# remove item based on the location x\n",
        "\n",
        "lst = ['one', 'two', 'three', 'four', 'five']\n",
        "del lst[1]\n",
        "print(lst)\n",
        "\n",
        "# we can use pop(x) function to remove the item. pop() function also return the removed item.\n",
        "\n",
        "pop_item = lst.pop(1)\n",
        "print(pop_item)\n",
        "print(lst)"
      ],
      "execution_count": 13,
      "outputs": [
        {
          "output_type": "stream",
          "text": [
            "['one', 'three', 'four', 'five']\n",
            "three\n",
            "['one', 'four', 'five']\n"
          ],
          "name": "stdout"
        }
      ]
    }
  ]
}