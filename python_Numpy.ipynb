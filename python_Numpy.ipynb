{
  "nbformat": 4,
  "nbformat_minor": 0,
  "metadata": {
    "colab": {
      "name": "python_Numpy.ipynb",
      "version": "0.3.2",
      "provenance": [],
      "collapsed_sections": [],
      "include_colab_link": true
    },
    "kernelspec": {
      "name": "python3",
      "display_name": "Python 3"
    },
    "accelerator": "TPU"
  },
  "cells": [
    {
      "cell_type": "markdown",
      "metadata": {
        "id": "view-in-github",
        "colab_type": "text"
      },
      "source": [
        "<a href=\"https://colab.research.google.com/github/Solayman-Emon/Python_Practise/blob/master/python_Numpy.ipynb\" target=\"_parent\"><img src=\"https://colab.research.google.com/assets/colab-badge.svg\" alt=\"Open In Colab\"/></a>"
      ]
    },
    {
      "metadata": {
        "id": "NHV3JObecd-t",
        "colab_type": "code",
        "outputId": "8ae6ff18-d598-4e37-96a2-7df909885f7b",
        "colab": {
          "base_uri": "https://localhost:8080/",
          "height": 35
        }
      },
      "cell_type": "code",
      "source": [
        "!pip install numpy"
      ],
      "execution_count": 0,
      "outputs": [
        {
          "output_type": "stream",
          "text": [
            "Requirement already satisfied: numpy in /usr/local/lib/python3.6/dist-packages (1.16.2)\n"
          ],
          "name": "stdout"
        }
      ]
    },
    {
      "metadata": {
        "id": "04tvEQ5tzv-a",
        "colab_type": "code",
        "colab": {}
      },
      "cell_type": "code",
      "source": [
        "import numpy as np"
      ],
      "execution_count": 0,
      "outputs": []
    },
    {
      "metadata": {
        "id": "zoX0fpJOz0Ly",
        "colab_type": "code",
        "outputId": "e4702818-2907-43bc-f481-77b9ff4af9fa",
        "colab": {
          "base_uri": "https://localhost:8080/",
          "height": 35
        }
      },
      "cell_type": "code",
      "source": [
        "# convert list in numpy array\n",
        "# numpy array is faster than list, numpy is very useful for faster multiplication\n",
        "\n",
        "list = [1, 3, 4, 6]\n",
        "arr = np.array(list)\n",
        "arr\n"
      ],
      "execution_count": 0,
      "outputs": [
        {
          "output_type": "execute_result",
          "data": {
            "text/plain": [
              "array([1, 3, 4, 6])"
            ]
          },
          "metadata": {
            "tags": []
          },
          "execution_count": 8
        }
      ]
    },
    {
      "metadata": {
        "id": "328Y2ksU1N-C",
        "colab_type": "code",
        "outputId": "0f9e9639-3930-4de6-e9d5-489c900bf2a3",
        "colab": {
          "base_uri": "https://localhost:8080/",
          "height": 35
        }
      },
      "cell_type": "code",
      "source": [
        "# nested list\n",
        "\n",
        "list = [[1, 3, 2], [2, 1, -2]]\n",
        "arr = np.array(list)            # like matrix\n",
        "arr\n",
        "\n",
        "list1 = [[1, 2], [2, 4, 6]]\n",
        "arr1 = np.array(list1)        # when data imbalance happen, it treat as individual list\n",
        "arr1"
      ],
      "execution_count": 0,
      "outputs": [
        {
          "output_type": "execute_result",
          "data": {
            "text/plain": [
              "array([list([1, 2]), list([2, 4, 6])], dtype=object)"
            ]
          },
          "metadata": {
            "tags": []
          },
          "execution_count": 14
        }
      ]
    },
    {
      "metadata": {
        "id": "m_H2-c0Z3u9i",
        "colab_type": "code",
        "outputId": "71e50893-312c-4f1f-eb7c-e34de9bf5dbd",
        "colab": {
          "base_uri": "https://localhost:8080/",
          "height": 35
        }
      },
      "cell_type": "code",
      "source": [
        "# arang(start, stop, step, dtype)   # step means the spacing between values \n",
        "arr = np.arange(0, 10, 2, float)  # first parameter is starting, second parameter is ending...\n",
        "arr"
      ],
      "execution_count": 0,
      "outputs": [
        {
          "output_type": "execute_result",
          "data": {
            "text/plain": [
              "array([0., 2., 4., 6., 8.])"
            ]
          },
          "metadata": {
            "tags": []
          },
          "execution_count": 20
        }
      ]
    },
    {
      "metadata": {
        "id": "T6oI9wvB57GB",
        "colab_type": "code",
        "outputId": "be1bb9cc-d6b9-4e8f-ca73-9a8764c38f39",
        "colab": {
          "base_uri": "https://localhost:8080/",
          "height": 89
        }
      },
      "cell_type": "code",
      "source": [
        "# creating array with zeros\n",
        "\n",
        "arr = np.zeros(4)  # 1D array\n",
        "arr\n",
        "\n",
        "arr1 = np.zeros((4, 3), dtype = int) # 2D matrix\n",
        "arr1"
      ],
      "execution_count": 0,
      "outputs": [
        {
          "output_type": "execute_result",
          "data": {
            "text/plain": [
              "array([[0, 0, 0],\n",
              "       [0, 0, 0],\n",
              "       [0, 0, 0],\n",
              "       [0, 0, 0]])"
            ]
          },
          "metadata": {
            "tags": []
          },
          "execution_count": 26
        }
      ]
    },
    {
      "metadata": {
        "id": "cr24hpfo6zK6",
        "colab_type": "code",
        "outputId": "8de74fe4-d15d-4c84-bb24-fcc0b48f50fb",
        "colab": {
          "base_uri": "https://localhost:8080/",
          "height": 289
        }
      },
      "cell_type": "code",
      "source": [
        "# creating array with ones\n",
        "\n",
        "arr = np.ones((4, 3, 2), dtype = int) # 3D matrix\n",
        "arr"
      ],
      "execution_count": 0,
      "outputs": [
        {
          "output_type": "execute_result",
          "data": {
            "text/plain": [
              "array([[[1, 1],\n",
              "        [1, 1],\n",
              "        [1, 1]],\n",
              "\n",
              "       [[1, 1],\n",
              "        [1, 1],\n",
              "        [1, 1]],\n",
              "\n",
              "       [[1, 1],\n",
              "        [1, 1],\n",
              "        [1, 1]],\n",
              "\n",
              "       [[1, 1],\n",
              "        [1, 1],\n",
              "        [1, 1]]])"
            ]
          },
          "metadata": {
            "tags": []
          },
          "execution_count": 29
        }
      ]
    },
    {
      "metadata": {
        "id": "MWi9zMQx7TNZ",
        "colab_type": "code",
        "outputId": "a242e0d3-4a10-46a5-cc44-0f11c5045743",
        "colab": {
          "base_uri": "https://localhost:8080/",
          "height": 89
        }
      },
      "cell_type": "code",
      "source": [
        "# array with custom array\n",
        "\n",
        "arr = np.full((4, 3), 10)\n",
        "arr"
      ],
      "execution_count": 0,
      "outputs": [
        {
          "output_type": "execute_result",
          "data": {
            "text/plain": [
              "array([[10, 10, 10],\n",
              "       [10, 10, 10],\n",
              "       [10, 10, 10],\n",
              "       [10, 10, 10]])"
            ]
          },
          "metadata": {
            "tags": []
          },
          "execution_count": 31
        }
      ]
    },
    {
      "metadata": {
        "id": "HoIOM7hn7psx",
        "colab_type": "code",
        "outputId": "a51f75df-f421-43ea-b5e4-a5aec6a141f4",
        "colab": {
          "base_uri": "https://localhost:8080/",
          "height": 108
        }
      },
      "cell_type": "code",
      "source": [
        "# identity matrix\n",
        "\n",
        "arr = np.eye(5, dtype = int)\n",
        "arr"
      ],
      "execution_count": 0,
      "outputs": [
        {
          "output_type": "execute_result",
          "data": {
            "text/plain": [
              "array([[1, 0, 0, 0, 0],\n",
              "       [0, 1, 0, 0, 0],\n",
              "       [0, 0, 1, 0, 0],\n",
              "       [0, 0, 0, 1, 0],\n",
              "       [0, 0, 0, 0, 1]])"
            ]
          },
          "metadata": {
            "tags": []
          },
          "execution_count": 35
        }
      ]
    },
    {
      "metadata": {
        "id": "PJTO_FjL79MR",
        "colab_type": "code",
        "outputId": "515c6012-6a3b-413e-eb01-71deaf9c75b2",
        "colab": {
          "base_uri": "https://localhost:8080/",
          "height": 380
        }
      },
      "cell_type": "code",
      "source": [
        "arr = np.linspace(0, 10, 100)  # 0 - 10, 100 distributions\n",
        "arr"
      ],
      "execution_count": 0,
      "outputs": [
        {
          "output_type": "execute_result",
          "data": {
            "text/plain": [
              "array([ 0.        ,  0.1010101 ,  0.2020202 ,  0.3030303 ,  0.4040404 ,\n",
              "        0.50505051,  0.60606061,  0.70707071,  0.80808081,  0.90909091,\n",
              "        1.01010101,  1.11111111,  1.21212121,  1.31313131,  1.41414141,\n",
              "        1.51515152,  1.61616162,  1.71717172,  1.81818182,  1.91919192,\n",
              "        2.02020202,  2.12121212,  2.22222222,  2.32323232,  2.42424242,\n",
              "        2.52525253,  2.62626263,  2.72727273,  2.82828283,  2.92929293,\n",
              "        3.03030303,  3.13131313,  3.23232323,  3.33333333,  3.43434343,\n",
              "        3.53535354,  3.63636364,  3.73737374,  3.83838384,  3.93939394,\n",
              "        4.04040404,  4.14141414,  4.24242424,  4.34343434,  4.44444444,\n",
              "        4.54545455,  4.64646465,  4.74747475,  4.84848485,  4.94949495,\n",
              "        5.05050505,  5.15151515,  5.25252525,  5.35353535,  5.45454545,\n",
              "        5.55555556,  5.65656566,  5.75757576,  5.85858586,  5.95959596,\n",
              "        6.06060606,  6.16161616,  6.26262626,  6.36363636,  6.46464646,\n",
              "        6.56565657,  6.66666667,  6.76767677,  6.86868687,  6.96969697,\n",
              "        7.07070707,  7.17171717,  7.27272727,  7.37373737,  7.47474747,\n",
              "        7.57575758,  7.67676768,  7.77777778,  7.87878788,  7.97979798,\n",
              "        8.08080808,  8.18181818,  8.28282828,  8.38383838,  8.48484848,\n",
              "        8.58585859,  8.68686869,  8.78787879,  8.88888889,  8.98989899,\n",
              "        9.09090909,  9.19191919,  9.29292929,  9.39393939,  9.49494949,\n",
              "        9.5959596 ,  9.6969697 ,  9.7979798 ,  9.8989899 , 10.        ])"
            ]
          },
          "metadata": {
            "tags": []
          },
          "execution_count": 39
        }
      ]
    },
    {
      "metadata": {
        "id": "RFwaOzNb9T9h",
        "colab_type": "code",
        "outputId": "61ea9474-6978-4382-ff61-15c1a1c18169",
        "colab": {
          "base_uri": "https://localhost:8080/",
          "height": 253
        }
      },
      "cell_type": "code",
      "source": [
        "arr = np.logspace(0, 10, base = np.e)\n",
        "arr"
      ],
      "execution_count": 0,
      "outputs": [
        {
          "output_type": "execute_result",
          "data": {
            "text/plain": [
              "array([1.00000000e+00, 1.22639826e+00, 1.50405270e+00, 1.84456762e+00,\n",
              "       2.26217453e+00, 2.77432691e+00, 3.40242971e+00, 4.17273388e+00,\n",
              "       5.11743359e+00, 6.27601167e+00, 7.69688981e+00, 9.43945230e+00,\n",
              "       1.15765279e+01, 1.41974337e+01, 1.74117081e+01, 2.13536885e+01,\n",
              "       2.61881265e+01, 3.21170729e+01, 3.93883224e+01, 4.83057703e+01,\n",
              "       5.92421128e+01, 7.26544242e+01, 8.91032597e+01, 1.09276083e+02,\n",
              "       1.34015998e+02, 1.64356988e+02, 2.01567124e+02, 2.47201571e+02,\n",
              "       3.03167578e+02, 3.71804191e+02, 4.55980014e+02, 5.59213097e+02,\n",
              "       6.85817972e+02, 8.41085969e+02, 1.03150637e+03, 1.26503762e+03,\n",
              "       1.55143995e+03, 1.90268325e+03, 2.33344744e+03, 2.86173589e+03,\n",
              "       3.50962792e+03, 4.30420159e+03, 5.27866536e+03, 6.47374603e+03,\n",
              "       7.93939089e+03, 9.73685520e+03, 1.19412623e+04, 1.46447434e+04,\n",
              "       1.79602878e+04, 2.20264658e+04])"
            ]
          },
          "metadata": {
            "tags": []
          },
          "execution_count": 45
        }
      ]
    },
    {
      "metadata": {
        "id": "75JL0be299ig",
        "colab_type": "code",
        "outputId": "ac991ac0-f7cf-4fea-fa47-5eb4ced3d133",
        "colab": {
          "base_uri": "https://localhost:8080/",
          "height": 71
        }
      },
      "cell_type": "code",
      "source": [
        "# diagonal matrix \n",
        "\n",
        "arr = np.diag([2, 4, 6])\n",
        "arr"
      ],
      "execution_count": 0,
      "outputs": [
        {
          "output_type": "execute_result",
          "data": {
            "text/plain": [
              "array([[2, 0, 0],\n",
              "       [0, 4, 0],\n",
              "       [0, 0, 6]])"
            ]
          },
          "metadata": {
            "tags": []
          },
          "execution_count": 47
        }
      ]
    },
    {
      "metadata": {
        "id": "BNWZYStG-6Wp",
        "colab_type": "code",
        "outputId": "776b8688-ab0b-4da4-bd33-649b9248b8bb",
        "colab": {
          "base_uri": "https://localhost:8080/",
          "height": 271
        }
      },
      "cell_type": "code",
      "source": [
        "# random numbers\n",
        "\n",
        "arr = np.random.rand(3) # 1D array of random numbers\n",
        "arr1 = np.random.rand(3, 4, 3) # 2D array of random numbers\n",
        "arr1"
      ],
      "execution_count": 0,
      "outputs": [
        {
          "output_type": "execute_result",
          "data": {
            "text/plain": [
              "array([[[0.32424569, 0.92147588, 0.61871092],\n",
              "        [0.91968302, 0.26081723, 0.53401318],\n",
              "        [0.83733892, 0.86995581, 0.92924746],\n",
              "        [0.44260373, 0.78008223, 0.98611836]],\n",
              "\n",
              "       [[0.82356335, 0.79563134, 0.27507484],\n",
              "        [0.25751425, 0.19749681, 0.23238622],\n",
              "        [0.55351859, 0.36651408, 0.26618464],\n",
              "        [0.54864582, 0.32790828, 0.2949856 ]],\n",
              "\n",
              "       [[0.19411705, 0.20892693, 0.51824925],\n",
              "        [0.03114849, 0.57174481, 0.9054098 ],\n",
              "        [0.83977999, 0.46700877, 0.12543556],\n",
              "        [0.79787963, 0.08509522, 0.45512166]]])"
            ]
          },
          "metadata": {
            "tags": []
          },
          "execution_count": 51
        }
      ]
    },
    {
      "metadata": {
        "id": "z9rDAju6__MZ",
        "colab_type": "code",
        "outputId": "ea23723a-947c-4570-ea2b-6f895410222c",
        "colab": {
          "base_uri": "https://localhost:8080/",
          "height": 71
        }
      },
      "cell_type": "code",
      "source": [
        "# standard normal distributed random values\n",
        "\n",
        "arr = np.random.randn(4)\n",
        "arr\n",
        "arr1 = np.random.randn(3, 4)\n",
        "arr1"
      ],
      "execution_count": 0,
      "outputs": [
        {
          "output_type": "execute_result",
          "data": {
            "text/plain": [
              "array([[ 0.63377952, -0.64622954,  0.31479533, -0.33197122],\n",
              "       [ 0.3006031 , -0.22233072,  0.56612701, -1.67806269],\n",
              "       [-0.79529002,  0.96546973, -1.23349397,  2.22992399]])"
            ]
          },
          "metadata": {
            "tags": []
          },
          "execution_count": 55
        }
      ]
    },
    {
      "metadata": {
        "id": "RviuUb6tAeOa",
        "colab_type": "code",
        "outputId": "ef2c06cf-e4ea-4f5e-f3bf-a5b55580e04f",
        "colab": {
          "base_uri": "https://localhost:8080/",
          "height": 35
        }
      },
      "cell_type": "code",
      "source": [
        "arr = np.random.randint(0, 10, 11, dtype = int)  # first parameter is start, second is end, third parameter is number of random numbers in that range\n",
        "arr                                              # start value may include in result, but end value does not include in the result\n",
        "                                                 # dtype = float doesn't support"
      ],
      "execution_count": 0,
      "outputs": [
        {
          "output_type": "execute_result",
          "data": {
            "text/plain": [
              "array([7, 3, 5, 9, 0, 7, 7, 1, 6, 5, 5])"
            ]
          },
          "metadata": {
            "tags": []
          },
          "execution_count": 60
        }
      ]
    }
  ]
}