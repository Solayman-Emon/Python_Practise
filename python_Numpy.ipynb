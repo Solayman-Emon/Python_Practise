{
  "nbformat": 4,
  "nbformat_minor": 0,
  "metadata": {
    "colab": {
      "name": "python_Numpy.ipynb",
      "provenance": [],
      "collapsed_sections": [],
      "include_colab_link": true
    },
    "kernelspec": {
      "name": "python3",
      "display_name": "Python 3"
    }
  },
  "cells": [
    {
      "cell_type": "markdown",
      "metadata": {
        "id": "view-in-github",
        "colab_type": "text"
      },
      "source": [
        "<a href=\"https://colab.research.google.com/github/Solayman-Emon/Python_Practise/blob/master/python_Numpy.ipynb\" target=\"_parent\"><img src=\"https://colab.research.google.com/assets/colab-badge.svg\" alt=\"Open In Colab\"/></a>"
      ]
    },
    {
      "cell_type": "markdown",
      "metadata": {
        "id": "Ztm3XTdHcsLZ",
        "colab_type": "text"
      },
      "source": [
        "**Numpy Array** \n",
        "*Powerfull Numeric Computation Package*\n",
        "**1D array ---> Vector**     **2D array ---> Matrix**   **3D array ---> Cube**"
      ]
    },
    {
      "cell_type": "code",
      "metadata": {
        "id": "NHV3JObecd-t",
        "colab_type": "code",
        "outputId": "2d7bb916-ceeb-46ad-e585-64ded7348afe",
        "colab": {
          "base_uri": "https://localhost:8080/",
          "height": 34
        }
      },
      "source": [
        "!pip install numpy"
      ],
      "execution_count": 0,
      "outputs": [
        {
          "output_type": "stream",
          "text": [
            "Requirement already satisfied: numpy in /usr/local/lib/python3.6/dist-packages (1.16.4)\n"
          ],
          "name": "stdout"
        }
      ]
    },
    {
      "cell_type": "markdown",
      "metadata": {
        "id": "tVXW4evqitVO",
        "colab_type": "text"
      },
      "source": [
        "**Creating Numpy Array**"
      ]
    },
    {
      "cell_type": "code",
      "metadata": {
        "id": "04tvEQ5tzv-a",
        "colab_type": "code",
        "colab": {}
      },
      "source": [
        "import numpy as np"
      ],
      "execution_count": 0,
      "outputs": []
    },
    {
      "cell_type": "code",
      "metadata": {
        "id": "XxWsjiRJeid7",
        "colab_type": "code",
        "outputId": "517c22a3-cb11-4957-b668-01045396c5e7",
        "colab": {
          "base_uri": "https://localhost:8080/",
          "height": 33
        }
      },
      "source": [
        "lst = [1, 2, 3]\n",
        "np_array = np.array(lst)\n",
        "np_array"
      ],
      "execution_count": 0,
      "outputs": [
        {
          "output_type": "execute_result",
          "data": {
            "text/plain": [
              "array([1, 2, 3])"
            ]
          },
          "metadata": {
            "tags": []
          },
          "execution_count": 4
        }
      ]
    },
    {
      "cell_type": "code",
      "metadata": {
        "id": "zoX0fpJOz0Ly",
        "colab_type": "code",
        "outputId": "26663090-99e8-40ee-af80-aa3cfa6fd461",
        "colab": {
          "base_uri": "https://localhost:8080/",
          "height": 50
        }
      },
      "source": [
        "# Creating numpy array\n",
        "# convert list into numpy array\n",
        "# numpy array is faster than list, numpy is very useful for faster multiplication\n",
        "\n",
        "lt = [1, 3, 4, 6]\n",
        "arr = np.array(lt)\n",
        "print(arr)\n",
        "\n",
        "arr1 = np.arange(10)   # create a array 0 - 9\n",
        "print(arr1)\n"
      ],
      "execution_count": 0,
      "outputs": [
        {
          "output_type": "stream",
          "text": [
            "[1 3 4 6]\n",
            "[0 1 2 3 4 5 6 7 8 9]\n"
          ],
          "name": "stdout"
        }
      ]
    },
    {
      "cell_type": "markdown",
      "metadata": {
        "id": "9RnS1_XciD7y",
        "colab_type": "text"
      },
      "source": [
        "**Why numpy is faster & efficient**"
      ]
    },
    {
      "cell_type": "code",
      "metadata": {
        "id": "TXHn2DVPCRwr",
        "colab_type": "code",
        "outputId": "f473155a-f3c7-433a-9f71-b5eabfcb8b9a",
        "colab": {
          "base_uri": "https://localhost:8080/",
          "height": 33
        }
      },
      "source": [
        "# Using python list\n",
        "# create a list (0 to 999)\n",
        "L = range(1000)  \n",
        "\n",
        "# crate another list like [0, 1, 4, 9 .... (999)^2] \n",
        "%timeit [i ** 2 for i in L]  "
      ],
      "execution_count": 0,
      "outputs": [
        {
          "output_type": "stream",
          "text": [
            "1000 loops, best of 3: 276 µs per loop\n"
          ],
          "name": "stdout"
        }
      ]
    },
    {
      "cell_type": "code",
      "metadata": {
        "id": "AGsjhNDtRyV4",
        "colab_type": "code",
        "outputId": "60dc25e6-249f-47a9-8ea6-c2059da655c7",
        "colab": {
          "base_uri": "https://localhost:8080/",
          "height": 50
        }
      },
      "source": [
        "# Using numpy array \n",
        "# create a numpy array like [0, 1, 4, 9 .... (999)^2]\n",
        "a = np.arange(1000)\n",
        "\n",
        "# squaring each of the element in numpy array\n",
        "%timeit a ** 2       "
      ],
      "execution_count": 0,
      "outputs": [
        {
          "output_type": "stream",
          "text": [
            "The slowest run took 19.27 times longer than the fastest. This could mean that an intermediate result is being cached.\n",
            "1000000 loops, best of 3: 1.35 µs per loop\n"
          ],
          "name": "stdout"
        }
      ]
    },
    {
      "cell_type": "markdown",
      "metadata": {
        "id": "-akKOcQtjDr6",
        "colab_type": "text"
      },
      "source": [
        "**1D-Array = Vector**"
      ]
    },
    {
      "cell_type": "code",
      "metadata": {
        "id": "hFh1FOASjGzS",
        "colab_type": "code",
        "outputId": "ed586617-6cf1-4202-c424-b80e8584257e",
        "colab": {
          "base_uri": "https://localhost:8080/",
          "height": 217
        }
      },
      "source": [
        "# It's Like Vector\n",
        "l1 = [1, 2, 3, 4, 5]\n",
        "\n",
        "np_1D = np.array(l1)\n",
        "print('Type of the array', type(np_1D))\n",
        "print('Data type of the array elements', np_1D.dtype)\n",
        "print('Size of each array element in bytes', np_1D.itemsize, 'bytes')\n",
        "print('Total size of the array in bytes', np_1D.nbytes, 'bytes')\n",
        "print('One dimensional numpy array:', np_1D)\n",
        "print('Length of the array:', len(np_1D))\n",
        "print('Dimension of the array', np_1D.ndim)   # return 1, as it is one dimensional array      # ndim (the number of dimensions) \n",
        "print('Shape of the array', np_1D.shape)      # return 5 for 1D array, as it has 5 elements, should print(1,5); but it has only one axis.   # shape (the size of each dimension)\n",
        "\n",
        "# for printing(1,5)\n",
        "nn = np.array([l1])\n",
        "nn1 = np.array(l1, ndmin=2)   # forcing 2D array\n",
        "print(nn)\n",
        "print(nn1)\n",
        "print(nn.shape)\n",
        "print(nn1.shape)"
      ],
      "execution_count": 0,
      "outputs": [
        {
          "output_type": "stream",
          "text": [
            "Type of the array <class 'numpy.ndarray'>\n",
            "Data type of the array elements int64\n",
            "Size of each array element in bytes 8 bytes\n",
            "Total size of the array in bytes 40 bytes\n",
            "One dimensional numpy array: [1 2 3 4 5]\n",
            "Length of the array: 5\n",
            "Dimension of the array 1\n",
            "Shape of the array (5,)\n",
            "[[1 2 3 4 5]]\n",
            "[[1 2 3 4 5]]\n",
            "(1, 5)\n",
            "(1, 5)\n"
          ],
          "name": "stdout"
        }
      ]
    },
    {
      "cell_type": "markdown",
      "metadata": {
        "id": "ZBM7ukV_ocYQ",
        "colab_type": "text"
      },
      "source": [
        "**2D-Array = Matrix**"
      ]
    },
    {
      "cell_type": "code",
      "metadata": {
        "id": "JblLpTploej7",
        "colab_type": "code",
        "outputId": "c95f1f61-c193-45cd-d5c0-bc4d2fc83ad4",
        "colab": {
          "base_uri": "https://localhost:8080/",
          "height": 134
        }
      },
      "source": [
        "# creating a list of list\n",
        "l2 = [[1,3,4], [0, -4, 5]]\n",
        "\n",
        "np_2D = np.array(l2)\n",
        "print('Two Dimensional numpy array:', np_2D)   # numpy array take each list as a numpy row\n",
        "print('Length of the array', len(np_2D))       # ruturn 2 as the number rows of (2x3)\n",
        "print('Dimension of the array', np_2D.ndim)    # return 2 as it is a 2D array\n",
        "print('Shape of the array', np_2D.shape)       # return number of rows & columns\n",
        "print('Number of rows', np_2D.shape[0])\n",
        "print('Number of columns', np_2D.shape[1])"
      ],
      "execution_count": 0,
      "outputs": [
        {
          "output_type": "stream",
          "text": [
            "Two Dimensional numpy array: [[ 1  3  4]\n",
            " [ 0 -4  5]]\n",
            "Length of the array 2\n",
            "Dimension of the array 2\n",
            "Shape of the array (2, 3)\n",
            "Number of rows 2\n",
            "Number of columns 3\n"
          ],
          "name": "stdout"
        }
      ]
    },
    {
      "cell_type": "markdown",
      "metadata": {
        "id": "cqAxGb5tseJ2",
        "colab_type": "text"
      },
      "source": [
        "**3D-Array = Cube**\n",
        "**nD-Array = Tensor**"
      ]
    },
    {
      "cell_type": "code",
      "metadata": {
        "id": "tn0KgWiFsp56",
        "colab_type": "code",
        "outputId": "9fc3bf5b-40a9-40bc-f5d0-97b914093c67",
        "colab": {
          "base_uri": "https://localhost:8080/",
          "height": 150
        }
      },
      "source": [
        "l3 = [[[1, 3], [5, 6]], [[4, 6], [9, 2]]]\n",
        "\n",
        "np_3D = np.array(l3)\n",
        "print('Three Dimensional array:', np_3D)\n",
        "print(\"Lenght of the array is\", len(np_3D))\n",
        "print(\"Dimension of the array is\", np_3D.ndim)\n",
        "print(\"Shape of the array is\", np_3D.shape)     "
      ],
      "execution_count": 0,
      "outputs": [
        {
          "output_type": "stream",
          "text": [
            "Three Dimensional array: [[[1 3]\n",
            "  [5 6]]\n",
            "\n",
            " [[4 6]\n",
            "  [9 2]]]\n",
            "Lenght of the array is 2\n",
            "Dimension of the array is 3\n",
            "Shape of the array is (2, 2, 2)\n"
          ],
          "name": "stdout"
        }
      ]
    },
    {
      "cell_type": "markdown",
      "metadata": {
        "id": "WeB5aSq2fT8F",
        "colab_type": "text"
      },
      "source": [
        "**Creating numpy array**"
      ]
    },
    {
      "cell_type": "code",
      "metadata": {
        "id": "zVXSLeN0fW9C",
        "colab_type": "code",
        "outputId": "c81fe291-15b6-4b72-e690-80d130aa6667",
        "colab": {
          "base_uri": "https://localhost:8080/",
          "height": 134
        }
      },
      "source": [
        "# Syntax:: arange(n), 0...n-1\n",
        "# Syntax:: arange(start, end(exclusive), stepsize, data_type)\n",
        "\n",
        "arr = np.arange(10)  # 0...n-1\n",
        "print(arr)\n",
        "\n",
        "arr1 = np.arange(1, 10, 2, dtype = float)\n",
        "print(arr1)\n",
        "\n",
        "# Syntax:: linspace(start, end, number of point)\n",
        "# n number of point including start and end\n",
        "\n",
        "arr3 = np.linspace(1, 4, 30)  # 1 to 4, number of values = 30\n",
        "print(arr3)"
      ],
      "execution_count": 0,
      "outputs": [
        {
          "output_type": "stream",
          "text": [
            "[0 1 2 3 4 5 6 7 8 9]\n",
            "[1. 3. 5. 7. 9.]\n",
            "[1.         1.10344828 1.20689655 1.31034483 1.4137931  1.51724138\n",
            " 1.62068966 1.72413793 1.82758621 1.93103448 2.03448276 2.13793103\n",
            " 2.24137931 2.34482759 2.44827586 2.55172414 2.65517241 2.75862069\n",
            " 2.86206897 2.96551724 3.06896552 3.17241379 3.27586207 3.37931034\n",
            " 3.48275862 3.5862069  3.68965517 3.79310345 3.89655172 4.        ]\n"
          ],
          "name": "stdout"
        }
      ]
    },
    {
      "cell_type": "code",
      "metadata": {
        "id": "44YU8cbVjCBR",
        "colab_type": "code",
        "outputId": "d4c86b4f-02e2-4eed-cbb2-be950baaa2c4",
        "colab": {
          "base_uri": "https://localhost:8080/",
          "height": 84
        }
      },
      "source": [
        "# rand(n)   --->>> Uniform random values\n",
        "\n",
        "arr = np.random.rand(3) # 1D array of random numbers\n",
        "print(arr)\n",
        "\n",
        "arr1 = np.random.rand(3, 4) # 2D array of random numbers\n",
        "print(arr1)"
      ],
      "execution_count": 0,
      "outputs": [
        {
          "output_type": "stream",
          "text": [
            "[0.64067328 0.0606074  0.73430989]\n",
            "[[0.71980419 0.51591139 0.03352067 0.98918481]\n",
            " [0.04382284 0.49331528 0.22484835 0.30335667]\n",
            " [0.30004163 0.28765622 0.39380842 0.92936456]]\n"
          ],
          "name": "stdout"
        }
      ]
    },
    {
      "cell_type": "code",
      "metadata": {
        "id": "x2b-XlqLjTfE",
        "colab_type": "code",
        "outputId": "0c1a8531-4585-4d98-a685-c7444abc1e39",
        "colab": {
          "base_uri": "https://localhost:8080/",
          "height": 50
        }
      },
      "source": [
        "# rand(n)   --->>> Uniform random values\n",
        "# randn(n)  --->>> Standard normal distributed random values\n",
        "\n",
        "arr = np.random.rand(4)\n",
        "print(arr)\n",
        "\n",
        "arr1 = np.random.randn(4)    \n",
        "print(arr1)"
      ],
      "execution_count": 0,
      "outputs": [
        {
          "output_type": "stream",
          "text": [
            "[0.02995935 0.50483132 0.0383958  0.91955129]\n",
            "[ 0.73564033 -0.87784898 -0.3833726   1.56155337]\n"
          ],
          "name": "stdout"
        }
      ]
    },
    {
      "cell_type": "code",
      "metadata": {
        "id": "Hzb0SInLj5qF",
        "colab_type": "code",
        "outputId": "f747dabc-6ea0-43be-e38f-be7d9882a1a9",
        "colab": {
          "base_uri": "https://localhost:8080/",
          "height": 84
        }
      },
      "source": [
        "# Syntax :: randint(start, end(exclusive), number of value)\n",
        "\n",
        "# first parameter is start, \n",
        "# second is end, third parameter is number of random numbers in that range\n",
        "# start value may include in result, but end value does not include in the result\n",
        "# dtype = float doesn't support \n",
        "\n",
        "arr = np.random.randint(0, 10, 11, dtype = int)  \n",
        "print(arr) \n",
        "\n",
        "ar = np.random.randint(-1, 6, (3, 5))\n",
        "print(ar)"
      ],
      "execution_count": 0,
      "outputs": [
        {
          "output_type": "stream",
          "text": [
            "[0 9 1 9 3 5 8 3 8 8 8]\n",
            "[[-1  3  2  4 -1]\n",
            " [ 5  5  3  0  1]\n",
            " [ 5  5 -1  3 -1]]\n"
          ],
          "name": "stdout"
        }
      ]
    },
    {
      "cell_type": "code",
      "metadata": {
        "id": "k3CrBV7TkuCB",
        "colab_type": "code",
        "outputId": "5906b47a-594f-4245-dc1d-df5fe7b59e68",
        "colab": {
          "base_uri": "https://localhost:8080/",
          "height": 84
        }
      },
      "source": [
        "x1 = np.random.randint(10, size=6) \n",
        "x2 = np.random.randint(10, size=(3, 4)) \n",
        "print(x1)\n",
        "print(x2)"
      ],
      "execution_count": 0,
      "outputs": [
        {
          "output_type": "stream",
          "text": [
            "[9 2 5 8 2 6]\n",
            "[[8 3 3 9]\n",
            " [1 0 9 2]\n",
            " [0 6 7 1]]\n"
          ],
          "name": "stdout"
        }
      ]
    },
    {
      "cell_type": "code",
      "metadata": {
        "id": "R5ilReSPmavW",
        "colab_type": "code",
        "outputId": "c52ab162-46c3-4a38-b524-efc92b349c7d",
        "colab": {
          "base_uri": "https://localhost:8080/",
          "height": 50
        }
      },
      "source": [
        "# generate different random number every time\n",
        "m1 = np.random.randint(10, size=6)\n",
        "m2 = np.random.randint(10, size=6)\n",
        "print(m1)\n",
        "print(m2)"
      ],
      "execution_count": 0,
      "outputs": [
        {
          "output_type": "stream",
          "text": [
            "[8 8 1 6 7 7]\n",
            "[8 1 5 9 8 9]\n"
          ],
          "name": "stdout"
        }
      ]
    },
    {
      "cell_type": "code",
      "metadata": {
        "id": "T7kvkexxlxpt",
        "colab_type": "code",
        "outputId": "4e16d3b8-3a61-4463-a51e-83f4c5844681",
        "colab": {
          "base_uri": "https://localhost:8080/",
          "height": 50
        }
      },
      "source": [
        "# use seed for generate same random number every time\n",
        "np.random.seed(0)  # seed for reproducibility\n",
        "\n",
        "n1 = np.random.randint(10, size=6)\n",
        "n2 = np.random.randint(10, size=6)\n",
        "print(n1)\n",
        "print(n2)"
      ],
      "execution_count": 0,
      "outputs": [
        {
          "output_type": "stream",
          "text": [
            "[5 0 3 3 7 9]\n",
            "[3 5 2 4 7 6]\n"
          ],
          "name": "stdout"
        }
      ]
    },
    {
      "cell_type": "code",
      "metadata": {
        "id": "328Y2ksU1N-C",
        "colab_type": "code",
        "outputId": "15190bdf-0c4b-41fe-f813-8df70d5c165c",
        "colab": {
          "base_uri": "https://localhost:8080/",
          "height": 67
        }
      },
      "source": [
        "# nested list\n",
        "list = [[1, 3, 2], [2, 1, -2]]\n",
        "arr = np.array(list)            # like matrix, when data is balanced\n",
        "print(arr)\n",
        "\n",
        "list1 = [[1, 2], [2, 4, 6]]\n",
        "arr1 = np.array(list1)          # when data imbalance happen, it treat as individual list\n",
        "print(arr1)"
      ],
      "execution_count": 0,
      "outputs": [
        {
          "output_type": "stream",
          "text": [
            "[[ 1  3  2]\n",
            " [ 2  1 -2]]\n",
            "[list([1, 2]) list([2, 4, 6])]\n"
          ],
          "name": "stdout"
        }
      ]
    },
    {
      "cell_type": "code",
      "metadata": {
        "id": "T6oI9wvB57GB",
        "colab_type": "code",
        "outputId": "affc499f-5deb-4f15-d907-03412a2a0c30",
        "colab": {
          "base_uri": "https://localhost:8080/",
          "height": 100
        }
      },
      "source": [
        "# creating array with zeros\n",
        "\n",
        "arr = np.zeros(4)  # 1D array\n",
        "print(arr)\n",
        "\n",
        "arr1 = np.zeros((4, 3), dtype = int) # 2D array, 4 X 3 matrix\n",
        "arr1"
      ],
      "execution_count": 0,
      "outputs": [
        {
          "output_type": "stream",
          "text": [
            "[0. 0. 0. 0.]\n"
          ],
          "name": "stdout"
        },
        {
          "output_type": "execute_result",
          "data": {
            "text/plain": [
              "array([[0, 0, 0],\n",
              "       [0, 0, 0],\n",
              "       [0, 0, 0],\n",
              "       [0, 0, 0]])"
            ]
          },
          "metadata": {
            "tags": []
          },
          "execution_count": 13
        }
      ]
    },
    {
      "cell_type": "code",
      "metadata": {
        "id": "cr24hpfo6zK6",
        "colab_type": "code",
        "outputId": "2c5c2217-12fd-4860-c1c9-561eff3fdf84",
        "colab": {
          "base_uri": "https://localhost:8080/",
          "height": 268
        }
      },
      "source": [
        "# creating array with ones\n",
        "\n",
        "arr = np.ones((4, 3, 2), dtype = int) # 3D matrix\n",
        "arr"
      ],
      "execution_count": 0,
      "outputs": [
        {
          "output_type": "execute_result",
          "data": {
            "text/plain": [
              "array([[[1, 1],\n",
              "        [1, 1],\n",
              "        [1, 1]],\n",
              "\n",
              "       [[1, 1],\n",
              "        [1, 1],\n",
              "        [1, 1]],\n",
              "\n",
              "       [[1, 1],\n",
              "        [1, 1],\n",
              "        [1, 1]],\n",
              "\n",
              "       [[1, 1],\n",
              "        [1, 1],\n",
              "        [1, 1]]])"
            ]
          },
          "metadata": {
            "tags": []
          },
          "execution_count": 14
        }
      ]
    },
    {
      "cell_type": "code",
      "metadata": {
        "id": "MWi9zMQx7TNZ",
        "colab_type": "code",
        "outputId": "af21be1f-2b90-48ea-bea1-00aad0e12eef",
        "colab": {
          "base_uri": "https://localhost:8080/",
          "height": 84
        }
      },
      "source": [
        "# array with custom array\n",
        "\n",
        "arr = np.full((4, 3), 10)\n",
        "arr"
      ],
      "execution_count": 0,
      "outputs": [
        {
          "output_type": "execute_result",
          "data": {
            "text/plain": [
              "array([[10, 10, 10],\n",
              "       [10, 10, 10],\n",
              "       [10, 10, 10],\n",
              "       [10, 10, 10]])"
            ]
          },
          "metadata": {
            "tags": []
          },
          "execution_count": 15
        }
      ]
    },
    {
      "cell_type": "markdown",
      "metadata": {
        "id": "7IWrFB1h0a3G",
        "colab_type": "text"
      },
      "source": [
        "**Different types of Matrix**"
      ]
    },
    {
      "cell_type": "code",
      "metadata": {
        "id": "HoIOM7hn7psx",
        "colab_type": "code",
        "outputId": "b4910e35-9c23-4c73-f71f-dbcad6557d40",
        "colab": {
          "base_uri": "https://localhost:8080/",
          "height": 251
        }
      },
      "source": [
        "# identity matrix\n",
        "\n",
        "arr = np.eye(5, dtype = int)\n",
        "arr2 = np.eye(3, 2)\n",
        "\n",
        "arr1 = np.identity(6, dtype = int)    # another representation\n",
        "\n",
        "print(arr)\n",
        "print(arr2)\n",
        "print(arr1)"
      ],
      "execution_count": 0,
      "outputs": [
        {
          "output_type": "stream",
          "text": [
            "[[1 0 0 0 0]\n",
            " [0 1 0 0 0]\n",
            " [0 0 1 0 0]\n",
            " [0 0 0 1 0]\n",
            " [0 0 0 0 1]]\n",
            "[[1. 0.]\n",
            " [0. 1.]\n",
            " [0. 0.]]\n",
            "[[1 0 0 0 0 0]\n",
            " [0 1 0 0 0 0]\n",
            " [0 0 1 0 0 0]\n",
            " [0 0 0 1 0 0]\n",
            " [0 0 0 0 1 0]\n",
            " [0 0 0 0 0 1]]\n"
          ],
          "name": "stdout"
        }
      ]
    },
    {
      "cell_type": "code",
      "metadata": {
        "id": "04PSqhEkEpwc",
        "colab_type": "code",
        "outputId": "d4659820-42be-4727-e230-ee88f259bb65",
        "colab": {
          "base_uri": "https://localhost:8080/",
          "height": 84
        }
      },
      "source": [
        "# diagonal matrix \n",
        "\n",
        "arr = np.diag([2, 4, 6])\n",
        "print(arr)\n",
        "\n",
        "print(np.diag(arr))   # return the diagonal elements"
      ],
      "execution_count": 0,
      "outputs": [
        {
          "output_type": "stream",
          "text": [
            "[[2 0 0]\n",
            " [0 4 0]\n",
            " [0 0 6]]\n",
            "[2 4 6]\n"
          ],
          "name": "stdout"
        }
      ]
    },
    {
      "cell_type": "code",
      "metadata": {
        "id": "RFwaOzNb9T9h",
        "colab_type": "code",
        "outputId": "dfc5b66d-4108-41e8-9161-571f332c4404",
        "colab": {
          "base_uri": "https://localhost:8080/",
          "height": 234
        }
      },
      "source": [
        "arr = np.logspace(0, 10, base = np.e)\n",
        "arr"
      ],
      "execution_count": 0,
      "outputs": [
        {
          "output_type": "execute_result",
          "data": {
            "text/plain": [
              "array([1.00000000e+00, 1.22639826e+00, 1.50405270e+00, 1.84456762e+00,\n",
              "       2.26217453e+00, 2.77432691e+00, 3.40242971e+00, 4.17273388e+00,\n",
              "       5.11743359e+00, 6.27601167e+00, 7.69688981e+00, 9.43945230e+00,\n",
              "       1.15765279e+01, 1.41974337e+01, 1.74117081e+01, 2.13536885e+01,\n",
              "       2.61881265e+01, 3.21170729e+01, 3.93883224e+01, 4.83057703e+01,\n",
              "       5.92421128e+01, 7.26544242e+01, 8.91032597e+01, 1.09276083e+02,\n",
              "       1.34015998e+02, 1.64356988e+02, 2.01567124e+02, 2.47201571e+02,\n",
              "       3.03167578e+02, 3.71804191e+02, 4.55980014e+02, 5.59213097e+02,\n",
              "       6.85817972e+02, 8.41085969e+02, 1.03150637e+03, 1.26503762e+03,\n",
              "       1.55143995e+03, 1.90268325e+03, 2.33344744e+03, 2.86173589e+03,\n",
              "       3.50962792e+03, 4.30420159e+03, 5.27866536e+03, 6.47374603e+03,\n",
              "       7.93939089e+03, 9.73685520e+03, 1.19412623e+04, 1.46447434e+04,\n",
              "       1.79602878e+04, 2.20264658e+04])"
            ]
          },
          "metadata": {
            "tags": []
          },
          "execution_count": 18
        }
      ]
    },
    {
      "cell_type": "markdown",
      "metadata": {
        "id": "lkgxhYZiLgwz",
        "colab_type": "text"
      },
      "source": [
        "**Numpy Matrix Operations**"
      ]
    },
    {
      "cell_type": "code",
      "metadata": {
        "id": "we-fiDWvLnAo",
        "colab_type": "code",
        "colab": {
          "base_uri": "https://localhost:8080/",
          "height": 569
        },
        "outputId": "eafdb7bc-1a45-4704-a670-39500e8de846"
      },
      "source": [
        "a = np.random.randint(1, 10, size = (4, 3))\n",
        "b = np.random.randint(1, 17, size = (4, 3))\n",
        "c = np.random.randint(1, 4, size = (3, 4))\n",
        "\n",
        "print(a)\n",
        "print(b)\n",
        "print('<<< ---- >>>')\n",
        "\n",
        "# add(), subtract(), multiply() and divide()\n",
        "# All this operation will perform element wise add, sub, mul, div\n",
        "add_a_b = np.add(a, b)\n",
        "sub_a_b = np.subtract(a, b)\n",
        "mul_a_c = np.multiply(a, b)\n",
        "div_a_c = np.divide(a, b)\n",
        "\n",
        "print(add_a_b)\n",
        "print(sub_a_b)\n",
        "print(mul_a_c)\n",
        "print(div_a_c)\n",
        "\n",
        "# dot() perform matrix multiplication, rather than element wise multiplication.\n",
        "mat_mul_a_c = np.dot(a, c)\n",
        "mat_mul_a_c_1 = a.dot(c)\n",
        "\n",
        "print(mat_mul_a_c)\n",
        "print(mat_mul_a_c_1)"
      ],
      "execution_count": 20,
      "outputs": [
        {
          "output_type": "stream",
          "text": [
            "[[2 7 5]\n",
            " [3 3 3]\n",
            " [9 5 1]\n",
            " [6 1 4]]\n",
            "[[ 4 10 11]\n",
            " [15  1  6]\n",
            " [ 1 13 11]\n",
            " [ 6  4 12]]\n",
            "<<< ---- >>>\n",
            "[[ 6 17 16]\n",
            " [18  4  9]\n",
            " [10 18 12]\n",
            " [12  5 16]]\n",
            "[[ -2  -3  -6]\n",
            " [-12   2  -3]\n",
            " [  8  -8 -10]\n",
            " [  0  -3  -8]]\n",
            "[[ 8 70 55]\n",
            " [45  3 18]\n",
            " [ 9 65 11]\n",
            " [36  4 48]]\n",
            "[[0.5        0.7        0.45454545]\n",
            " [0.2        3.         0.5       ]\n",
            " [9.         0.38461538 0.09090909]\n",
            " [1.         0.25       0.33333333]]\n",
            "[[23 38 14 14]\n",
            " [18 21  9  9]\n",
            " [34 27 15 15]\n",
            " [27 21 11 11]]\n",
            "[[23 38 14 14]\n",
            " [18 21  9  9]\n",
            " [34 27 15 15]\n",
            " [27 21 11 11]]\n"
          ],
          "name": "stdout"
        }
      ]
    },
    {
      "cell_type": "code",
      "metadata": {
        "id": "ZCj4hbhvSc_G",
        "colab_type": "code",
        "colab": {
          "base_uri": "https://localhost:8080/",
          "height": 217
        },
        "outputId": "84688ec5-e98c-4885-a420-5dc9f92e87ff"
      },
      "source": [
        "print(a)\n",
        "sqrt_a = np.sqrt(a)  # square root of each element of matrix.\n",
        "print(sqrt_a)\n",
        "\n",
        "tran_a = a.T         # The transpose of given matrix i\n",
        "print(tran_a)\n",
        "\n",
        "sum_a = a.sum()      # The summation of all matrix element \n",
        "print(sum_a)"
      ],
      "execution_count": 17,
      "outputs": [
        {
          "output_type": "stream",
          "text": [
            "[[9 4 3]\n",
            " [4 7 3]\n",
            " [2 2 7]\n",
            " [5 8 6]]\n",
            "[[3.         2.         1.73205081]\n",
            " [2.         2.64575131 1.73205081]\n",
            " [1.41421356 1.41421356 2.64575131]\n",
            " [2.23606798 2.82842712 2.44948974]]\n",
            "[[9 4 2 5]\n",
            " [4 7 2 8]\n",
            " [3 3 7 6]]\n",
            "60\n"
          ],
          "name": "stdout"
        }
      ]
    },
    {
      "cell_type": "code",
      "metadata": {
        "id": "rwDClAaXTgzj",
        "colab_type": "code",
        "colab": {
          "base_uri": "https://localhost:8080/",
          "height": 50
        },
        "outputId": "56948497-8b0e-4649-e91e-583f99bad885"
      },
      "source": [
        "col_sum = np.sum(a, axis = 0)  # The column wise summation of the matrix\n",
        "print(col_sum)\n",
        "\n",
        "row_sum = np.sum(a, axis = 1)  # The row wise summation of the matrix\n",
        "print(row_sum)"
      ],
      "execution_count": 19,
      "outputs": [
        {
          "output_type": "stream",
          "text": [
            "[20 21 19]\n",
            "[16 14 11 19]\n"
          ],
          "name": "stdout"
        }
      ]
    },
    {
      "cell_type": "markdown",
      "metadata": {
        "id": "tHrXFGTqDk3I",
        "colab_type": "text"
      },
      "source": [
        "**Numerical Operations on Numpy**"
      ]
    },
    {
      "cell_type": "code",
      "metadata": {
        "id": "YhnIjioyDuS-",
        "colab_type": "code",
        "outputId": "d1a08772-a78a-47c3-ed2d-764c07002231",
        "colab": {
          "base_uri": "https://localhost:8080/",
          "height": 67
        }
      },
      "source": [
        "lstt = [1, 4, 3, 5]\n",
        "t = np.array(lstt)\n",
        "t_sm = t + 1          # perform addition each element of the array, all arithmetic operates elementwise\n",
        "t_ml = t ** 2\n",
        "print(t)\n",
        "print(t_sm)\n",
        "print(t_ml)"
      ],
      "execution_count": 0,
      "outputs": [
        {
          "output_type": "stream",
          "text": [
            "[1 4 3 5]\n",
            "[2 5 4 6]\n",
            "[ 1 16  9 25]\n"
          ],
          "name": "stdout"
        }
      ]
    },
    {
      "cell_type": "code",
      "metadata": {
        "id": "U5KxW-laZLE1",
        "colab_type": "code",
        "outputId": "53cb0f91-00d7-4e7f-f5ec-f7cfaa761977",
        "colab": {
          "base_uri": "https://localhost:8080/",
          "height": 177
        }
      },
      "source": [
        "# Basic Data types\n",
        "\n",
        "arr = np.arange(10)\n",
        "print(arr.dtype)\n",
        "\n",
        "arr1 = np.arange(10, dtype = 'float64')      # 0., 1., 2. --->>> 0.0, 1.0, 2.0\n",
        "print(arr1)   \n",
        "\n",
        "arr2 = np.zeros((3, 3))\n",
        "print(arr2)\n",
        "print(arr2.dtype)\n",
        "\n",
        "arr3 = np.array([True, False, True, True])\n",
        "print(arr3.dtype)\n",
        "\n",
        "arr4 = np.array([1 + 4j, 3 + 5j])\n",
        "print(arr4.dtype)\n",
        "\n",
        "arr5 = np.array(['emon', 'sajid', 'payet'])\n",
        "print(arr5.dtype)\n"
      ],
      "execution_count": 0,
      "outputs": [
        {
          "output_type": "stream",
          "text": [
            "int64\n",
            "[0. 1. 2. 3. 4. 5. 6. 7. 8. 9.]\n",
            "[[0. 0. 0.]\n",
            " [0. 0. 0.]\n",
            " [0. 0. 0.]]\n",
            "float64\n",
            "bool\n",
            "complex128\n",
            "<U5\n"
          ],
          "name": "stdout"
        }
      ]
    },
    {
      "cell_type": "code",
      "metadata": {
        "id": "jWPfDsjdEkzl",
        "colab_type": "code",
        "outputId": "040dd4e3-94aa-411d-c954-6a3159612687",
        "colab": {
          "base_uri": "https://localhost:8080/",
          "height": 302
        }
      },
      "source": [
        "# Indexing\n",
        "\n",
        "arr = np.arange(10)\n",
        "print(arr)\n",
        "print(arr[1])\n",
        "\n",
        "arr1 = np.diag([1, 2, 3])\n",
        "print(arr1)\n",
        "print(arr1[2][2])\n",
        "\n",
        "arr1[2][1] = 5\n",
        "print(arr1)\n",
        "\n",
        "ar = np.random.randint(0, 100, (5,5))\n",
        "print(ar)\n",
        "print(ar[1][1])\n",
        "print(ar[1, 1])   # another representation"
      ],
      "execution_count": 0,
      "outputs": [
        {
          "output_type": "stream",
          "text": [
            "[0 1 2 3 4 5 6 7 8 9]\n",
            "1\n",
            "[[1 0 0]\n",
            " [0 2 0]\n",
            " [0 0 3]]\n",
            "3\n",
            "[[1 0 0]\n",
            " [0 2 0]\n",
            " [0 5 3]]\n",
            "[[81 80 52 30 55]\n",
            " [15 51 51  2 44]\n",
            " [97 99 90 54 13]\n",
            " [81 92 14 86 16]\n",
            " [64  8 37 58 55]]\n",
            "51\n",
            "51\n"
          ],
          "name": "stdout"
        }
      ]
    },
    {
      "cell_type": "code",
      "metadata": {
        "id": "WjMQySzZGmma",
        "colab_type": "code",
        "outputId": "063840c6-b800-4091-811d-25e661a6bc49",
        "colab": {
          "base_uri": "https://localhost:8080/",
          "height": 195
        }
      },
      "source": [
        "# Slicing\n",
        "# Syntax :: arr[startindex: endindex(exclusive): stepsize]\n",
        "\n",
        "arr = np.arange(10)\n",
        "print(arr)\n",
        "print(arr[:5])\n",
        "print(arr[5:])\n",
        "print(arr[1:8:2])\n",
        "print(arr[::2])\n",
        "print(arr[1:5])\n",
        "\n",
        "# Broadcasting & Slicing\n",
        "\n",
        "arr[5:] = 10\n",
        "print(arr)\n",
        "\n",
        "arr1 = np.arange(5)\n",
        "arr[5:] = arr1[::-1]  # arr1[::-1] here, -1 means reverse of arr1\n",
        "\n",
        "print(arr[:])\n",
        "print(arr)\n",
        "arr[:] = -1     # broadcasting all\n",
        "print(arr)"
      ],
      "execution_count": 0,
      "outputs": [
        {
          "output_type": "stream",
          "text": [
            "[0 1 2 3 4 5 6 7 8 9]\n",
            "[0 1 2 3 4]\n",
            "[5 6 7 8 9]\n",
            "[1 3 5 7]\n",
            "[0 2 4 6 8]\n",
            "[1 2 3 4]\n",
            "[ 0  1  2  3  4 10 10 10 10 10]\n",
            "[0 1 2 3 4 4 3 2 1 0]\n",
            "[0 1 2 3 4 4 3 2 1 0]\n",
            "[-1 -1 -1 -1 -1 -1 -1 -1 -1 -1]\n"
          ],
          "name": "stdout"
        }
      ]
    },
    {
      "cell_type": "code",
      "metadata": {
        "id": "iXE4d_9Vpdvi",
        "colab_type": "code",
        "outputId": "f99ca2df-3c7f-49b7-a281-250c96768aae",
        "colab": {
          "base_uri": "https://localhost:8080/",
          "height": 284
        }
      },
      "source": [
        "# array selection\n",
        "\n",
        "arr = np.random.randint(0, 100, (4,4))\n",
        "print(arr)\n",
        "print(arr[:2, 1:])        # slicing \n",
        "print(arr[1:3, 1:3])\n",
        "\n",
        "# array slicing \n",
        "# a[start:end] # items start through the end (but the end is not included!)\n",
        "# a[start:]    # items start through the rest of the array\n",
        "# a[:end]      # items from the beginning through the end (but the end is not included!)\n",
        "\n",
        "ar = np.random.randint(0, 34, (4,3))\n",
        "print(ar)\n",
        "print(ar[0:2, 0:2])  # select row 0 - 1 and column 0 - 1\n",
        "print(ar[0:, 1])"
      ],
      "execution_count": 0,
      "outputs": [
        {
          "output_type": "stream",
          "text": [
            "[[59 43 17  4]\n",
            " [89 93 19 23]\n",
            " [90 93 47 38]\n",
            " [66 34 48 87]]\n",
            "[[43 17  4]\n",
            " [93 19 23]]\n",
            "[[93 19]\n",
            " [93 47]]\n",
            "[[ 8  4 28]\n",
            " [33 13  1]\n",
            " [12  5 15]\n",
            " [ 1  3  2]]\n",
            "[[ 8  4]\n",
            " [33 13]]\n",
            "[ 4 13  5  3]\n"
          ],
          "name": "stdout"
        }
      ]
    },
    {
      "cell_type": "code",
      "metadata": {
        "id": "8F92sKhRu4MT",
        "colab_type": "code",
        "outputId": "421e9574-27e8-49ac-e17d-7a09f1b2c577",
        "colab": {
          "base_uri": "https://localhost:8080/",
          "height": 124
        }
      },
      "source": [
        "# Array View \n",
        "# View means :: doesn't copy, just point to the memory location\n",
        "\n",
        "arr = np.arange(10)\n",
        "print(arr)\n",
        "\n",
        "arr1 = arr[::2]\n",
        "print(arr1)\n",
        "\n",
        "print(np.shares_memory(arr, arr1))\n",
        "print(arr.data)\n",
        "print(arr1.data)\n",
        "\n",
        "arr1[0] = 99\n",
        "print(arr)        # Both point to same memory location, so arr also changed"
      ],
      "execution_count": 0,
      "outputs": [
        {
          "output_type": "stream",
          "text": [
            "[0 1 2 3 4 5 6 7 8 9]\n",
            "[0 2 4 6 8]\n",
            "True\n",
            "<memory at 0x7f0c22326d08>\n",
            "<memory at 0x7f0c22326d08>\n",
            "[99  1  2  3  4  5  6  7  8  9]\n"
          ],
          "name": "stdout"
        }
      ]
    },
    {
      "cell_type": "code",
      "metadata": {
        "id": "CtNivCnMxcSP",
        "colab_type": "code",
        "outputId": "c2aa3a52-6313-4495-bffb-6e342758e6d9",
        "colab": {
          "base_uri": "https://localhost:8080/",
          "height": 124
        }
      },
      "source": [
        "# Array Copy\n",
        "\n",
        "arr = np.arange(10)\n",
        "print(arr)\n",
        "\n",
        "arr1 = arr[::2].copy()\n",
        "print(arr1)\n",
        "print(np.shares_memory(arr, arr1))\n",
        "\n",
        "arr1[0] = 99\n",
        "print(arr)\n",
        "\n",
        "print(arr.data)\n",
        "print(arr1.data)\n"
      ],
      "execution_count": 0,
      "outputs": [
        {
          "output_type": "stream",
          "text": [
            "[0 1 2 3 4 5 6 7 8 9]\n",
            "[0 2 4 6 8]\n",
            "False\n",
            "[0 1 2 3 4 5 6 7 8 9]\n",
            "<memory at 0x7f0c22326e88>\n",
            "<memory at 0x7f0c22326e88>\n"
          ],
          "name": "stdout"
        }
      ]
    },
    {
      "cell_type": "code",
      "metadata": {
        "id": "8Ys4heWVr_a-",
        "colab_type": "code",
        "outputId": "a807347d-3b53-4c2f-be27-10d826cb9503",
        "colab": {
          "base_uri": "https://localhost:8080/",
          "height": 89
        }
      },
      "source": [
        "arr = np.arange(0, 10)\n",
        "arr\n",
        "print(arr.reshape(2,5))  # reshape(2, 6) will give error, because array size is 10, 2 x 6 = 12, acceeded 10\n",
        "print(arr.max())\n",
        "print(arr.argmax())\n"
      ],
      "execution_count": 0,
      "outputs": [
        {
          "output_type": "stream",
          "text": [
            "[[0 1 2 3 4]\n",
            " [5 6 7 8 9]]\n",
            "9\n",
            "9\n"
          ],
          "name": "stdout"
        }
      ]
    },
    {
      "cell_type": "code",
      "metadata": {
        "id": "DFfhQpal0gXl",
        "colab_type": "code",
        "outputId": "5b59ebb3-0b02-4960-a3a0-754e769de72f",
        "colab": {
          "base_uri": "https://localhost:8080/",
          "height": 162
        }
      },
      "source": [
        "list = [[1, 3, 2], [2, 1, -2]]\n",
        "arr = np.array(list)\n",
        "print(arr)\n",
        "print(arr.shape)\n",
        "print(arr.ndim)  # dimension\n",
        "print(arr.size)  # number of elements\n",
        "print(arr.dtype)\n",
        "print(arr.itemsize)\n",
        "print(arr.data)  # memory adderss"
      ],
      "execution_count": 0,
      "outputs": [
        {
          "output_type": "stream",
          "text": [
            "[[ 1  3  2]\n",
            " [ 2  1 -2]]\n",
            "(2, 3)\n",
            "2\n",
            "6\n",
            "int64\n",
            "8\n",
            "<memory at 0x7f787fabbc18>\n"
          ],
          "name": "stdout"
        }
      ]
    },
    {
      "cell_type": "code",
      "metadata": {
        "id": "DwygCIDkjY9i",
        "colab_type": "code",
        "outputId": "70c5a448-a684-4f60-9875-b00d52c2287b",
        "colab": {
          "base_uri": "https://localhost:8080/",
          "height": 108
        }
      },
      "source": [
        "arr = np.random.randint(0, 10, 20)\n",
        "print(arr)\n",
        "arr1 = np.random.randint(1, 3, 6)\n",
        "print(arr1)\n",
        "arr = arr1\n",
        "print(arr.data)\n",
        "print(arr1.data)\n",
        "print(arr)  # arr1 doesn't copied in arr, but object referencer is pass through \"=\" sign"
      ],
      "execution_count": 0,
      "outputs": [
        {
          "output_type": "stream",
          "text": [
            "[6 2 7 4 6 5 8 5 9 4 6 2 7 5 8 2 8 9 8 4]\n",
            "[1 2 2 2 2 1]\n",
            "<memory at 0x7fc44747e708>\n",
            "<memory at 0x7fc44747e708>\n",
            "[1 2 2 2 2 1]\n"
          ],
          "name": "stdout"
        }
      ]
    },
    {
      "cell_type": "code",
      "metadata": {
        "id": "ZyudZBWmzNv3",
        "colab_type": "code",
        "outputId": "141949ea-8e93-482d-dd81-d23a1a99cde0",
        "colab": {
          "base_uri": "https://localhost:8080/",
          "height": 71
        }
      },
      "source": [
        "# logical operation in array\n",
        "\n",
        "arr = np.arange(0, 11)\n",
        "print(arr)\n",
        "print(arr >= 3)\n",
        "print(arr[arr >= 3]) "
      ],
      "execution_count": 0,
      "outputs": [
        {
          "output_type": "stream",
          "text": [
            "[ 0  1  2  3  4  5  6  7  8  9 10]\n",
            "[False False False  True  True  True  True  True  True  True  True]\n",
            "[ 3  4  5  6  7  8  9 10]\n"
          ],
          "name": "stdout"
        }
      ]
    },
    {
      "cell_type": "code",
      "metadata": {
        "id": "mIqooab6z992",
        "colab_type": "code",
        "outputId": "eee2939a-4dc8-4583-b1bc-8c07e3d51796",
        "colab": {
          "base_uri": "https://localhost:8080/",
          "height": 218
        }
      },
      "source": [
        "# shape must be equal\n",
        "\n",
        "arr = np.arange(0, 10)\n",
        "print(arr)\n",
        "print(arr + arr)      \n",
        "print(arr * arr)\n",
        "print(arr / arr)         # 0 / 0 return nan, give warning but not error\n",
        "arr1 = np.arange(1, 11)  # 1 / 0 return infinity\n",
        "print(arr1 / arr)"
      ],
      "execution_count": 0,
      "outputs": [
        {
          "output_type": "stream",
          "text": [
            "[0 1 2 3 4 5 6 7 8 9]\n",
            "[ 0  2  4  6  8 10 12 14 16 18]\n",
            "[ 0  1  4  9 16 25 36 49 64 81]\n",
            "[nan  1.  1.  1.  1.  1.  1.  1.  1.  1.]\n",
            "[       inf 2.         1.5        1.33333333 1.25       1.2\n",
            " 1.16666667 1.14285714 1.125      1.11111111]\n"
          ],
          "name": "stdout"
        },
        {
          "output_type": "stream",
          "text": [
            "/usr/local/lib/python3.6/dist-packages/ipykernel_launcher.py:6: RuntimeWarning: invalid value encountered in true_divide\n",
            "  \n",
            "/usr/local/lib/python3.6/dist-packages/ipykernel_launcher.py:8: RuntimeWarning: divide by zero encountered in true_divide\n",
            "  \n"
          ],
          "name": "stderr"
        }
      ]
    },
    {
      "cell_type": "code",
      "metadata": {
        "id": "HnipAQOa2NVG",
        "colab_type": "code",
        "outputId": "260175af-3544-43a2-c68c-f0b1f6214880",
        "colab": {
          "base_uri": "https://localhost:8080/",
          "height": 543
        }
      },
      "source": [
        "arr = np.random.randint(0, 100, (4,3))\n",
        "arr1 = np.random.randint(1, 23, (4,3))\n",
        "print(arr)\n",
        "print(arr1)\n",
        "print(arr + arr1)       # matrix addition\n",
        "print(np.add(arr,arr1)) # another version of matrix addition \n",
        "print(arr * arr1)       # matrix multiplication\n",
        "print(np.sqrt(arr))\n",
        "print(np.max(arr))\n",
        "print(np.exp(arr))"
      ],
      "execution_count": 0,
      "outputs": [
        {
          "output_type": "stream",
          "text": [
            "[[15 62 91]\n",
            " [61 36  8]\n",
            " [65 95 75]\n",
            " [ 6 78 38]]\n",
            "[[ 1  4 15]\n",
            " [15  2  2]\n",
            " [19 13 17]\n",
            " [11 12  5]]\n",
            "[[ 16  66 106]\n",
            " [ 76  38  10]\n",
            " [ 84 108  92]\n",
            " [ 17  90  43]]\n",
            "[[ 16  66 106]\n",
            " [ 76  38  10]\n",
            " [ 84 108  92]\n",
            " [ 17  90  43]]\n",
            "[[  15  248 1365]\n",
            " [ 915   72   16]\n",
            " [1235 1235 1275]\n",
            " [  66  936  190]]\n",
            "[[3.87298335 7.87400787 9.53939201]\n",
            " [7.81024968 6.         2.82842712]\n",
            " [8.06225775 9.74679434 8.66025404]\n",
            " [2.44948974 8.83176087 6.164414  ]]\n",
            "95\n",
            "[[3.26901737e+06 8.43835667e+26 3.31740010e+39]\n",
            " [3.10429794e+26 4.31123155e+15 2.98095799e+03]\n",
            " [1.69488924e+28 1.81123908e+41 3.73324200e+32]\n",
            " [4.03428793e+02 7.49841700e+33 3.18559318e+16]]\n"
          ],
          "name": "stdout"
        }
      ]
    },
    {
      "cell_type": "code",
      "metadata": {
        "id": "VWf7FUhsXh8v",
        "colab_type": "code",
        "outputId": "8ca3efd7-c032-4c38-c829-68f13a6b5628",
        "colab": {
          "base_uri": "https://localhost:8080/",
          "height": 281
        }
      },
      "source": [
        "import matplotlib.pyplot as plt\n",
        "my_3d_array = np.array([[[1,2,3,4], [5,6,7,8]], [[1,2,3,4], [9,10,11,12]]], dtype=np.int64)\n",
        "plt.hist(my_3d_array.ravel(), bins=range(0,13))\n",
        "plt.title('Frequency of My 3D Array Elements')\n",
        "plt.show()"
      ],
      "execution_count": 0,
      "outputs": [
        {
          "output_type": "display_data",
          "data": {
            "image/png": "[encoded data removed]",
            "text/plain": [
              "<Figure size 432x288 with 1 Axes>"
            ]
          },
          "metadata": {
            "tags": []
          }
        }
      ]
    },
    {
      "cell_type": "code",
      "metadata": {
        "id": "IZ_hEBASYgje",
        "colab_type": "code",
        "outputId": "e99bad28-6518-460f-8dc6-c3555b185963",
        "colab": {
          "base_uri": "https://localhost:8080/",
          "height": 162
        }
      },
      "source": [
        "arr = np.random.randint(0, 2, (3,4))\n",
        "print(arr)\n",
        "print(arr.data)   # memory address of the first byte in the array\n",
        "print(arr.dtype)\n",
        "print(arr.shape)\n",
        "print(arr.strides) # until don't understand\n",
        "print(len(arr))"
      ],
      "execution_count": 0,
      "outputs": [
        {
          "output_type": "stream",
          "text": [
            "[[0 1 1 1]\n",
            " [0 1 0 1]\n",
            " [1 1 0 1]]\n",
            "<memory at 0x7f00e9ca6b40>\n",
            "int64\n",
            "(3, 4)\n",
            "(32, 8)\n",
            "3\n"
          ],
          "name": "stdout"
        }
      ]
    },
    {
      "cell_type": "code",
      "metadata": {
        "id": "fC5ld5Dch1PH",
        "colab_type": "code",
        "outputId": "4b4ada7f-5125-498b-a7b9-239a675435fe",
        "colab": {
          "base_uri": "https://localhost:8080/",
          "height": 561
        }
      },
      "source": [
        "arr = np.random.randint(0, 10, (4,3))\n",
        "arr1 = np.random.randint(0, 50, (4,3))\n",
        "print(np.add(arr,arr1))\n",
        "print(np.subtract(arr,arr1))\n",
        "print(np.multiply(arr,arr1))\n",
        "print(np.divide(arr,arr1))\n",
        "print(np.remainder(arr,arr1))\n",
        "print(np.sin(arr))\n",
        "print(np.log(arr))\n"
      ],
      "execution_count": 0,
      "outputs": [
        {
          "output_type": "stream",
          "text": [
            "[[47 33  9]\n",
            " [28 37  8]\n",
            " [33 13 28]\n",
            " [ 9 11 48]]\n",
            "[[-43 -23  -3]\n",
            " [-12 -29  -8]\n",
            " [-25 -11 -22]\n",
            " [  7   7 -38]]\n",
            "[[ 90 140  18]\n",
            " [160 132   0]\n",
            " [116  12  75]\n",
            " [  8  18 215]]\n",
            "[[0.04444444 0.17857143 0.5       ]\n",
            " [0.4        0.12121212 0.        ]\n",
            " [0.13793103 0.08333333 0.12      ]\n",
            " [8.         4.5        0.11627907]]\n",
            "[[2 5 3]\n",
            " [8 4 0]\n",
            " [4 1 3]\n",
            " [0 1 5]]\n",
            "[[ 0.90929743 -0.95892427  0.14112001]\n",
            " [ 0.98935825 -0.7568025   0.        ]\n",
            " [-0.7568025   0.84147098  0.14112001]\n",
            " [ 0.98935825  0.41211849 -0.95892427]]\n",
            "[[0.69314718 1.60943791 1.09861229]\n",
            " [2.07944154 1.38629436       -inf]\n",
            " [1.38629436 0.         1.09861229]\n",
            " [2.07944154 2.19722458 1.60943791]]\n"
          ],
          "name": "stdout"
        },
        {
          "output_type": "stream",
          "text": [
            "/usr/local/lib/python3.6/dist-packages/ipykernel_launcher.py:9: RuntimeWarning: divide by zero encountered in log\n",
            "  if __name__ == '__main__':\n"
          ],
          "name": "stderr"
        }
      ]
    },
    {
      "cell_type": "code",
      "metadata": {
        "id": "J4HXmf7Am6TA",
        "colab_type": "code",
        "outputId": "f4e436e9-e243-4665-9a1e-a945dcbeebdf",
        "colab": {
          "base_uri": "https://localhost:8080/",
          "height": 144
        }
      },
      "source": [
        "arr = np.random.randint(0, 10, (4,3))\n",
        "print(arr)\n",
        "print(np.sum(arr))  # sum of all the elements of a array\n",
        "print(arr.max())\n",
        "print(arr.min())"
      ],
      "execution_count": 0,
      "outputs": [
        {
          "output_type": "stream",
          "text": [
            "[[0 6 2]\n",
            " [1 7 4]\n",
            " [2 4 4]\n",
            " [8 9 9]]\n",
            "56\n",
            "9\n",
            "0\n"
          ],
          "name": "stdout"
        }
      ]
    },
    {
      "cell_type": "code",
      "metadata": {
        "id": "RM17jTXGIsGS",
        "colab_type": "code",
        "outputId": "fe932bb1-d4d4-4206-94a9-5d101fa91921",
        "colab": {
          "base_uri": "https://localhost:8080/",
          "height": 579
        }
      },
      "source": [
        "# with the concept of axis \n",
        "\n",
        "arr = np.random.randint(-10, 10, (5,4))\n",
        "print(arr)\n",
        "\n",
        "print(arr.min(axis = 0))  # column wise minimum value\n",
        "print(arr.min(axis = 1))  # row wise minimum value\n",
        "print(arr.max(axis = 0))  # column wise maximum value\n",
        "print(arr.max(axis = 1))  # row wise maximum value\n",
        "print(arr.sum(axis = 0))  # column wise sum\n",
        "print(arr.sum(axis = 1))  # row wise sum\n",
        "\n",
        "arr1 = np.random.randint(0, 10, 20)\n",
        "arr2 = np.random.randint(0, 23, 20)\n",
        "print(arr1)\n",
        "print(np.sort(arr))\n",
        "print(arr.sort(axis = 0))\n",
        "print(arr.mean())\n",
        "print(arr.std())   # Standard deviation\n",
        "print(arr1)\n",
        "print(arr2)\n",
        "print(arr1 == arr2)                 # element wise comparison\n",
        "print(arr1 > arr2)\n",
        "print(arr1 < arr2)\n",
        "print(np.array_equal(arr1, arr2))   # array wise comparison\n",
        "print(np.logical_or(arr1, arr2))"
      ],
      "execution_count": 0,
      "outputs": [
        {
          "output_type": "stream",
          "text": [
            "[[-2 -5  5  5]\n",
            " [ 8  9 -1 -5]\n",
            " [-3  4  4 -9]\n",
            " [ 9  1 -5 -7]\n",
            " [ 9  3 -6  6]]\n",
            "[-3 -5 -6 -9]\n",
            "[-5 -5 -9 -7 -6]\n",
            "[9 9 5 6]\n",
            "[5 9 4 9 9]\n",
            "[ 21  12  -3 -10]\n",
            "[ 3 11 -4 -2 12]\n",
            "[9 2 6 7 9 1 2 3 2 7 0 4 8 2 5 3 6 9 7 3]\n",
            "[[-5 -2  5  5]\n",
            " [-5 -1  8  9]\n",
            " [-9 -3  4  4]\n",
            " [-7 -5  1  9]\n",
            " [-6  3  6  9]]\n",
            "None\n",
            "1.0\n",
            "5.787918451395113\n",
            "[9 2 6 7 9 1 2 3 2 7 0 4 8 2 5 3 6 9 7 3]\n",
            "[ 1 16  8 21 22  1  9 19 10 18 12  1  0  4 11 16  6  4 16 14]\n",
            "[False False False False False  True False False False False False False\n",
            " False False False False  True False False False]\n",
            "[ True False False False False False False False False False False  True\n",
            "  True False False False False  True False False]\n",
            "[False  True  True  True  True False  True  True  True  True  True False\n",
            " False  True  True  True False False  True  True]\n",
            "False\n",
            "[ True  True  True  True  True  True  True  True  True  True  True  True\n",
            "  True  True  True  True  True  True  True  True]\n"
          ],
          "name": "stdout"
        }
      ]
    },
    {
      "cell_type": "code",
      "metadata": {
        "id": "rYgxbm71WQbR",
        "colab_type": "code",
        "outputId": "d23960ea-0453-4c77-bb0d-ae0f19b2a8b0",
        "colab": {
          "base_uri": "https://localhost:8080/",
          "height": 89
        }
      },
      "source": [
        "my_house = np.array([18.0, 20.0, 10.75, 9.50])\n",
        "your_house = np.array([0.0, 24.0, 14.25, 9.0])\n",
        "\n",
        "print(np.logical_or(my_house, your_house))\n",
        "print(np.logical_and(my_house, your_house))\n",
        "print(np.logical_not(your_house))\n",
        "print(np.logical_or(my_house > 18.5, my_house < 10))  # Which areas in my_house are greater than 18.5 or smaller than 10"
      ],
      "execution_count": 0,
      "outputs": [
        {
          "output_type": "stream",
          "text": [
            "[ True  True  True  True]\n",
            "[False  True  True  True]\n",
            "[ True False False False]\n",
            "[False  True False  True]\n"
          ],
          "name": "stdout"
        }
      ]
    },
    {
      "cell_type": "code",
      "metadata": {
        "id": "-7-LWKa7niyw",
        "colab_type": "code",
        "outputId": "231ab6b0-f906-43aa-f449-04cbaad1aa75",
        "colab": {
          "base_uri": "https://localhost:8080/",
          "height": 305
        }
      },
      "source": [
        "import matplotlib.pyplot as plt\n",
        "x = np.linspace(0, 100, 10)\n",
        "print(x)\n",
        "plt.plot(x, x, label = 'linear')\n",
        "plt.legend()\n",
        "plt.show()"
      ],
      "execution_count": 0,
      "outputs": [
        {
          "output_type": "stream",
          "text": [
            "[  0.          11.11111111  22.22222222  33.33333333  44.44444444\n",
            "  55.55555556  66.66666667  77.77777778  88.88888889 100.        ]\n"
          ],
          "name": "stdout"
        },
        {
          "output_type": "display_data",
          "data": {
            "image/png": "[encoded data removed]",
            "text/plain": [
              "<Figure size 432x288 with 1 Axes>"
            ]
          },
          "metadata": {
            "tags": []
          }
        }
      ]
    },
    {
      "cell_type": "code",
      "metadata": {
        "id": "JV1JzETZpdw4",
        "colab_type": "code",
        "outputId": "0ae961e0-b75b-474b-de30-c7bd72ad834b",
        "colab": {
          "base_uri": "https://localhost:8080/",
          "height": 269
        }
      },
      "source": [
        "fig = plt.figure()\n",
        "ax = fig.add_subplot(111)\n",
        "ax.plot([1, 2, 3, 4], [10, 20, 25, 30], color='lightblue', linewidth=3)\n",
        "ax.scatter([0.3, 3.8, 1.2, 2.5], [11, 25, 9, 26], color='darkgreen', marker='^')\n",
        "ax.set_xlim(0.5, 4.5)\n",
        "plt.show()"
      ],
      "execution_count": 0,
      "outputs": [
        {
          "output_type": "display_data",
          "data": {
            "image/png": "[encoded data removed]",
            "text/plain": [
              "<Figure size 432x288 with 1 Axes>"
            ]
          },
          "metadata": {
            "tags": []
          }
        }
      ]
    },
    {
      "cell_type": "code",
      "metadata": {
        "id": "ve3jrHTjqUlY",
        "colab_type": "code",
        "outputId": "701c2a0b-ac2a-47b1-8e78-ae6dd4932297",
        "colab": {
          "base_uri": "https://localhost:8080/",
          "height": 283
        }
      },
      "source": [
        "plt.plot([1, 2, 3, 4], label = 'line')  # it will plotted give value in y-axis and automatically generated the x-axis values\n",
        "plt.legend()\n",
        "plt.ylabel(\"y-axis\")\n",
        "plt.xlabel(\"x-axis\")\n",
        "plt.show()"
      ],
      "execution_count": 0,
      "outputs": [
        {
          "output_type": "display_data",
          "data": {
            "image/png": "[encoded data removed]",
            "text/plain": [
              "<Figure size 432x288 with 1 Axes>"
            ]
          },
          "metadata": {
            "tags": []
          }
        }
      ]
    },
    {
      "cell_type": "code",
      "metadata": {
        "id": "fqTv2q77s0JP",
        "colab_type": "code",
        "outputId": "b46acfc8-f41f-41ba-ef26-3c63f4b65d2a",
        "colab": {
          "base_uri": "https://localhost:8080/",
          "height": 283
        }
      },
      "source": [
        "plt.plot([1, 2, 3, 4], [1, 4, 9, 16], label = 'line')  # x vs y \n",
        "plt.legend()\n",
        "plt.ylabel(\"y-axis\")\n",
        "plt.xlabel(\"x-axis\")\n",
        "plt.show()"
      ],
      "execution_count": 0,
      "outputs": [
        {
          "output_type": "display_data",
          "data": {
            "image/png": "[encoded data removed]",
            "text/plain": [
              "<Figure size 432x288 with 1 Axes>"
            ]
          },
          "metadata": {
            "tags": []
          }
        }
      ]
    },
    {
      "cell_type": "code",
      "metadata": {
        "id": "jw7nIjSK3EQo",
        "colab_type": "code",
        "outputId": "f83ee0e8-02e2-43d5-e18f-8b2a4b99e056",
        "colab": {
          "base_uri": "https://localhost:8080/",
          "height": 349
        }
      },
      "source": [
        "t = np.arange(0, 5, 0.5)\n",
        "print(t)\n",
        "plt.plot(t, t, \"r--\", t, t**3, 'g^')  # \"r--\" means red dashed, \"g^\" means green traingle\n",
        "plt.legend()\n",
        "plt.xlabel('x-axis')\n",
        "plt.ylabel('y-axis')\n",
        "plt.title('Histogram')"
      ],
      "execution_count": 0,
      "outputs": [
        {
          "output_type": "stream",
          "text": [
            "No handles with labels found to put in legend.\n"
          ],
          "name": "stderr"
        },
        {
          "output_type": "stream",
          "text": [
            "[0.  0.5 1.  1.5 2.  2.5 3.  3.5 4.  4.5]\n"
          ],
          "name": "stdout"
        },
        {
          "output_type": "execute_result",
          "data": {
            "text/plain": [
              "Text(0.5, 1.0, 'Histogram')"
            ]
          },
          "metadata": {
            "tags": []
          },
          "execution_count": 50
        },
        {
          "output_type": "display_data",
          "data": {
            "image/png": "[encoded data removed]",
            "text/plain": [
              "<Figure size 432x288 with 1 Axes>"
            ]
          },
          "metadata": {
            "tags": []
          }
        }
      ]
    }
  ]
}